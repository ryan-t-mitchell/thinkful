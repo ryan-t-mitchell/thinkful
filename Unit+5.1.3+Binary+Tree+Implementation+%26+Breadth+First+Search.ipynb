{
 "cells": [
  {
   "cell_type": "code",
   "execution_count": 33,
   "metadata": {
    "collapsed": true
   },
   "outputs": [],
   "source": [
    "import random\n",
    "import textwrap\n",
    " \n",
    "class Node:\n",
    "    def __init__(self, val):\n",
    "        self.val = val\n",
    "        self.left = None\n",
    "        self.right = None\n",
    "    \n",
    "    #double underscore methods are special methods that allow you to define how an object of this class behaves\n",
    "    #(eg what happens if you use +, -, < , >, repr, str... )\n",
    "    \n",
    "    def __repr__(self):\n",
    "        #repr will be called by default if you call an instance of the class\n",
    "        #f'' is a formatted string...\n",
    "        my_self = f'Node {self.val} \\n'\n",
    "        \n",
    "        #repr is a built-in fcn that references the special __repr__ function of the class\n",
    "        left_child = textwrap.indent(repr(self.left), '  ') + '\\n'\n",
    "        right_child = textwrap.indent(repr(self.right), '  ') + '\\n'\n",
    "        \n",
    "        return my_self + left_child + right_child\n",
    "        \n",
    "    def can_take_child(self):\n",
    "        return self.left is None or self.right is None"
   ]
  },
  {
   "cell_type": "code",
   "execution_count": 34,
   "metadata": {
    "collapsed": true
   },
   "outputs": [],
   "source": [
    "#Append to root node in a random way (won't force balanced tree)\n",
    "\n",
    "def build_tree(num_nodes):\n",
    "    nodes_that_can_take_children = []\n",
    "    root = Node(rand_val())\n",
    "    nodes_that_can_take_children.append(root)\n",
    "    \n",
    "    for i in range(num_nodes - 1):\n",
    "        #want to assign a new node to a random eligible parent. randrange will give an index\n",
    "        #want index instead of node because it will find the node to remove in constant time instead of n time (searching list)\n",
    "        index_new_parent = random.randrange(len(nodes_that_can_take_children))\n",
    "        parent = nodes_that_can_take_children[index_new_parent]\n",
    "        \n",
    "        #create the new node, and also add it to list of nodes that can take children\n",
    "        new_node = Node(rand_val())\n",
    "        nodes_that_can_take_children.append(new_node)\n",
    "        \n",
    "        if parent.left is not None:\n",
    "            parent.right = new_node\n",
    "        elif parent.right is not None:\n",
    "            parent.left = new_node\n",
    "            \n",
    "        #if both children nodes are empty for this parent, assign new node at random\n",
    "        elif random.random() < 0.5:\n",
    "            parent.left = new_node\n",
    "        else:\n",
    "            parent.right = new_node\n",
    "        \n",
    "        #if parent is full now, remove it from eligible list\n",
    "        if not parent.can_take_child():\n",
    "            nodes_that_can_take_children.pop(index_new_parent)\n",
    "    \n",
    "    #return a reference to the root. it has all the info we need to traverse the tree\n",
    "    return root\n",
    "    \n",
    "#create a random value 1-100\n",
    "def rand_val():\n",
    "    return int(round(random.random() * 100, 0))\n",
    "\n"
   ]
  },
  {
   "cell_type": "code",
   "execution_count": 35,
   "metadata": {
    "collapsed": true
   },
   "outputs": [],
   "source": [
    "#Let's visualize a node and then the tree, make sure it worked as we intended\n",
    "\n",
    "n1 = Node(rand_val())\n",
    "n1.left = Node(rand_val())\n",
    "n1.right = Node(rand_val())"
   ]
  },
  {
   "cell_type": "code",
   "execution_count": 36,
   "metadata": {},
   "outputs": [
    {
     "data": {
      "text/plain": [
       "Node 20 \n",
       "  Node 14 \n",
       "    None\n",
       "    None\n",
       "\n",
       "  Node 8 \n",
       "    None\n",
       "    None\n"
      ]
     },
     "execution_count": 36,
     "metadata": {},
     "output_type": "execute_result"
    }
   ],
   "source": [
    "n1"
   ]
  },
  {
   "cell_type": "code",
   "execution_count": 37,
   "metadata": {},
   "outputs": [
    {
     "data": {
      "text/plain": [
       "Node 38 \n",
       "  Node 80 \n",
       "    Node 52 \n",
       "      Node 14 \n",
       "        Node 56 \n",
       "          None\n",
       "          None\n",
       "\n",
       "        None\n",
       "\n",
       "      None\n",
       "\n",
       "    Node 42 \n",
       "      Node 54 \n",
       "        Node 40 \n",
       "          None\n",
       "          None\n",
       "\n",
       "        None\n",
       "\n",
       "      Node 26 \n",
       "        None\n",
       "        None\n",
       "\n",
       "\n",
       "\n",
       "  Node 91 \n",
       "    None\n",
       "    Node 49 \n",
       "      Node 15 \n",
       "        None\n",
       "        Node 46 \n",
       "          None\n",
       "          None\n",
       "\n",
       "\n",
       "      Node 66 \n",
       "        None\n",
       "        Node 92 \n",
       "          None\n",
       "          None\n",
       "\n",
       "\n",
       "\n"
      ]
     },
     "execution_count": 37,
     "metadata": {},
     "output_type": "execute_result"
    }
   ],
   "source": [
    "build_tree(15)"
   ]
  },
  {
   "cell_type": "code",
   "execution_count": 38,
   "metadata": {
    "collapsed": true
   },
   "outputs": [],
   "source": [
    "#create a tree (although technically tree will just be the root node, it has all of the tree info we need)\n",
    "tree = build_tree(15)"
   ]
  },
  {
   "cell_type": "code",
   "execution_count": 43,
   "metadata": {
    "collapsed": true
   },
   "outputs": [],
   "source": [
    "from collections import deque\n",
    "\n",
    "def breadth_first_search(node):\n",
    "    #use a \"deque\" instead of a list. it is less expensive to insert from beginning / end of the deque\n",
    "    nodes_fully_traversed = []\n",
    "    nodes_remaining = deque()\n",
    "    \n",
    "    #for each node we come across, first add it to the list of nodes we have seen/discovered, and need to be traversed.\n",
    "    #because BFS searches left to right first, we can enforce that nodes discovered earlier need to be\n",
    "    #fully traversed/explored before moving down the tree\n",
    "    \n",
    "    #initialize conditions for while loop\n",
    "    nodes_remaining.append(node)\n",
    "\n",
    "    while len(nodes_remaining) > 0:\n",
    "    \n",
    "        if nodes_remaining[0].left is not None:\n",
    "            #go to the first node in the remaining nodes list... we need to exhaust/explore in correct order\n",
    "            node = nodes_remaining[0].left\n",
    "            #add new node to list of remaining nodes to be traversed\n",
    "            nodes_remaining.append(node)\n",
    "\n",
    "            \n",
    "        if nodes_remaining[0].right is not None:\n",
    "            node = nodes_remaining[0].right\n",
    "            #add new node to list of remaining nodes to be traversed\n",
    "            nodes_remaining.append(node)\n",
    "\n",
    "        nodes_fully_traversed.append(nodes_remaining[0].val)\n",
    "        #remove the node we just fully traversed from the list of remaining nodes we need to traverse\n",
    "        nodes_remaining.popleft()\n",
    "    \n",
    "    print('BFS:', nodes_fully_traversed)"
   ]
  },
  {
   "cell_type": "code",
   "execution_count": 44,
   "metadata": {},
   "outputs": [
    {
     "name": "stdout",
     "output_type": "stream",
     "text": [
      "BFS: [52, 31, 87, 91, 61, 28, 6, 9, 27, 60, 65, 80, 84, 17, 78]\n"
     ]
    }
   ],
   "source": [
    "breadth_first_search(tree)"
   ]
  },
  {
   "cell_type": "code",
   "execution_count": 45,
   "metadata": {},
   "outputs": [
    {
     "data": {
      "text/plain": [
       "Node 52 \n",
       "  Node 31 \n",
       "    None\n",
       "    Node 91 \n",
       "      None\n",
       "      Node 6 \n",
       "        None\n",
       "        Node 80 \n",
       "          None\n",
       "          Node 17 \n",
       "            None\n",
       "            None\n",
       "\n",
       "\n",
       "\n",
       "\n",
       "\n",
       "  Node 87 \n",
       "    Node 61 \n",
       "      Node 9 \n",
       "        None\n",
       "        None\n",
       "\n",
       "      Node 27 \n",
       "        None\n",
       "        None\n",
       "\n",
       "\n",
       "    Node 28 \n",
       "      Node 60 \n",
       "        None\n",
       "        Node 84 \n",
       "          Node 78 \n",
       "            None\n",
       "            None\n",
       "\n",
       "          None\n",
       "\n",
       "\n",
       "      Node 65 \n",
       "        None\n",
       "        None\n",
       "\n",
       "\n"
      ]
     },
     "execution_count": 45,
     "metadata": {},
     "output_type": "execute_result"
    }
   ],
   "source": [
    "#Verify... it looks right to me...!\n",
    "\n",
    "tree"
   ]
  },
  {
   "cell_type": "code",
   "execution_count": null,
   "metadata": {
    "collapsed": true
   },
   "outputs": [],
   "source": []
  }
 ],
 "metadata": {
  "kernelspec": {
   "display_name": "Python 3",
   "language": "python",
   "name": "python3"
  },
  "language_info": {
   "codemirror_mode": {
    "name": "ipython",
    "version": 3
   },
   "file_extension": ".py",
   "mimetype": "text/x-python",
   "name": "python",
   "nbconvert_exporter": "python",
   "pygments_lexer": "ipython3",
   "version": "3.6.2rc2"
  }
 },
 "nbformat": 4,
 "nbformat_minor": 2
}
