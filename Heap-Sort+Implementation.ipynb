{
 "cells": [
  {
   "cell_type": "code",
   "execution_count": 403,
   "metadata": {
    "collapsed": true
   },
   "outputs": [],
   "source": [
    "import random\n",
    "\n",
    "# Set seed.\n",
    "random.seed(a=100)\n",
    "\n",
    "# Create our default list.\n",
    "short_list = list(random.sample(range(1000000), 10))"
   ]
  },
  {
   "cell_type": "code",
   "execution_count": 414,
   "metadata": {
    "collapsed": true
   },
   "outputs": [],
   "source": [
    "def swap(A, i, j):\n",
    "    A[i], A[j] = A[j], A[i]\n",
    "   \n",
    "    \n",
    "def heapify(input_list, node_to_heapify_from, end_node):\n",
    " \n",
    "    ################### old code (first pass)\n",
    "    #start_node = len(input_list) // 2 - 1\n",
    "    #start_parent = input_list[start_node]\n",
    "   \n",
    "    #Index starts at 0, so children indices are 1 and 2. Hence left child = 2*parent_index + 1, and right child = 2*parent_index + 2\n",
    "    #left_child_node = start_node * 2 + 1\n",
    "   \n",
    "    #if len(input_list) is odd, it means there is a right child as well (tree is filled from left to right, so left won't be empty)\n",
    "    #if len(input_list) % 2 == 1:\n",
    "    #    right_child_node = start_node * 2 + 2\n",
    "    #    max_child = max(input_list[left_child_node], input_list[right_child_node])\n",
    "       \n",
    "    #    if input_list[left_child_node] >= input_list[right_child_node]:\n",
    "    #        max_child_node = left_child_node\n",
    "    #    else:\n",
    "    #        max_child_node = right_child_node\n",
    "    #else:\n",
    "    #    max_child = input_list[left_child_node]\n",
    "    #    max_child_node = left_child_node\n",
    "       \n",
    "    #if the child is > parent, swap them\n",
    "    #if max_child > start_parent:\n",
    "    #    swap(input_list, start_node, max_child_node)\n",
    "   \n",
    "         #re-heapify now\n",
    "       \n",
    "        #The issue now is we need to do recursion starting here, BUT we don't currently have a way to tell the fcn\n",
    "        #Where (which node) to begin the heapify / swapping... so we need to change the constructor to take in a node value\n",
    "        #(this will require a helper function)...heap_sort below will accomplish this\n",
    " \n",
    "    ################### end of old code (first pass)\n",
    " \n",
    "    ##################################################################### new code to accomodate heap-sort helper function\n",
    "    #need to check whether the input (node_to_heapify_from) has children first.\n",
    "    #if it does, check to see if children > parent.\n",
    "        #if yes, swap them parent for max child\n",
    "        #if no, do nothing\n",
    "    #if no children, do nothing\n",
    "   \n",
    "    left_child_node = node_to_heapify_from * 2 + 1\n",
    "    right_child_node = node_to_heapify_from * 2 + 2\n",
    "   \n",
    "    #postulate that the current node is the largest of the max-heap. this will be tested & reassigned if neccesary below\n",
    "    largest = node_to_heapify_from\n",
    "\n",
    "   \n",
    "    #check to see if left child node exists, if so - compare to current node\n",
    "    if left_child_node < end_node:\n",
    "        if input_list[left_child_node] > input_list[node_to_heapify_from]:\n",
    "            largest = left_child_node\n",
    " \n",
    "    #check to see if right child node exists, if so - compare to current node\n",
    "    if right_child_node < end_node:\n",
    "        if ((input_list[right_child_node] > input_list[node_to_heapify_from]) & (input_list[right_child_node] > input_list[left_child_node])) :\n",
    "            largest = right_child_node\n",
    "   \n",
    "    #if either child is larger, replace the parent and recursively call heapify!\n",
    "    if largest != node_to_heapify_from:\n",
    "        \n",
    "        swap(input_list, largest, node_to_heapify_from)\n",
    "       \n",
    "        #recursive call needed because swapping without revisiting node where \"largest\" was can/will lead to parents < child\n",
    "        #below the top node (aka NOT A HEAP). top node will still be maximum value, though\n",
    "       \n",
    "        heapify(input_list, largest, end_node)\n",
    "        #print(input_list)\n",
    "\n",
    "def heap_sort(input_list):\n",
    "\n",
    "   \n",
    "    #Go through the entire input list, and run heapify function to sort, beginning from the last possible parent node.\n",
    "    #Iterate UP the max-heap (so start from max node and decrement), starting from the bottom, 1 node at a time\n",
    "   \n",
    "    for i in range(len(input_list), -1, -1):\n",
    "        heapify(input_list, i, len(input_list))\n",
    "    \n",
    "    print('max-heap', input_list)\n",
    "\n",
    "    #Need to specify an end node, so that the heapify logic ignores the last node (because we swap max to end and want to keep it there)\n",
    "    for i in range(len(input_list)-1, -1, -1):\n",
    "        swap(input_list, i, 0)\n",
    "        heapify(input_list, 0, i)\n",
    "    \n",
    "    print('sorted_list', input_list)"
   ]
  },
  {
   "cell_type": "code",
   "execution_count": 416,
   "metadata": {},
   "outputs": [
    {
     "name": "stdout",
     "output_type": "stream",
     "text": [
      "max-heap [997948, 808225, 739784, 767514, 477025, 481850, 366725, 152745, 412125, 183236]\n",
      "sorted_list [152745, 183236, 366725, 412125, 477025, 481850, 739784, 767514, 808225, 997948]\n"
     ]
    }
   ],
   "source": [
    "heap_sort(short_list)"
   ]
  },
  {
   "cell_type": "code",
   "execution_count": null,
   "metadata": {
    "collapsed": true
   },
   "outputs": [],
   "source": []
  }
 ],
 "metadata": {
  "kernelspec": {
   "display_name": "Python 3",
   "language": "python",
   "name": "python3"
  },
  "language_info": {
   "codemirror_mode": {
    "name": "ipython",
    "version": 3
   },
   "file_extension": ".py",
   "mimetype": "text/x-python",
   "name": "python",
   "nbconvert_exporter": "python",
   "pygments_lexer": "ipython3",
   "version": "3.6.2rc2"
  }
 },
 "nbformat": 4,
 "nbformat_minor": 2
}
