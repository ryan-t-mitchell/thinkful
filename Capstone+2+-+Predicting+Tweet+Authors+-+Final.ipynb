{
 "cells": [
  {
   "cell_type": "code",
   "execution_count": 24,
   "metadata": {},
   "outputs": [],
   "source": [
    "import tweepy\n",
    "import numpy as np\n",
    "import pandas as pd\n",
    "import matplotlib.pyplot as plt\n",
    "import seaborn as sns\n",
    "import math\n",
    "import json\n",
    "from collections import Counter\n",
    "import re\n",
    "import spacy\n",
    "\n",
    "%matplotlib inline\n",
    "from sklearn import ensemble\n",
    "from sklearn.feature_extraction.text import TfidfVectorizer\n",
    "from sklearn.svm import SVC\n",
    "from sklearn.linear_model import LogisticRegression\n",
    "from sklearn.neighbors import KNeighborsClassifier\n",
    "from sklearn import neural_network\n",
    "from sklearn.model_selection import GridSearchCV\n",
    "\n",
    "from sklearn.model_selection import train_test_split\n",
    "from sklearn.preprocessing import normalize\n",
    "from sklearn.decomposition import PCA\n",
    "from sklearn.cluster import MeanShift, estimate_bandwidth\n",
    "from sklearn.cluster import KMeans, MiniBatchKMeans\n",
    "from sklearn import metrics\n",
    "from time import time\n",
    "from sklearn.metrics import confusion_matrix\n",
    "from sklearn.metrics.pairwise import cosine_similarity\n",
    "\n",
    "from sklearn.decomposition import TruncatedSVD\n",
    "from sklearn.pipeline import make_pipeline\n",
    "from sklearn.preprocessing import Normalizer\n",
    "from sklearn.utils import shuffle\n",
    "\n",
    "import gensim\n",
    "from gensim import corpora, models, similarities\n",
    "import pyLDAvis.gensim as gensimvis\n",
    "import pyLDAvis\n",
    "\n",
    "import warnings\n",
    "warnings.filterwarnings(\"ignore\", category=DeprecationWarning) "
   ]
  },
  {
   "cell_type": "code",
   "execution_count": 12,
   "metadata": {
    "collapsed": true
   },
   "outputs": [],
   "source": [
    "with open('C:\\\\Users\\\\ryan\\\\Desktop\\\\python\\\\secrets.json') as f:\n",
    "    secrets = json.load(f)\n",
    "    \n",
    "consumer_token = secrets[\"consumer_token\"]\n",
    "consumer_secret = secrets[\"consumer_secret\"]\n",
    "access_token = secrets[\"access_token\"]\n",
    "access_token_secret = secrets[\"access_token_secret\"]\n",
    "\n",
    "auth = tweepy.OAuthHandler(consumer_token, consumer_secret)\n",
    "auth.set_access_token(access_token, access_token_secret)\n",
    "\n",
    "api = tweepy.API(auth)"
   ]
  },
  {
   "cell_type": "markdown",
   "metadata": {},
   "source": [
    "Let's try to classify tweets of 10 different politicians, including: Trump, Hillary Clinton, John McCain, Bernie Sanders, Mike Huckabee, Barack Obama, Newt Gingrich, John Kasich, Kellyanne Conway, and Bill de Blasio."
   ]
  },
  {
   "cell_type": "code",
   "execution_count": 2,
   "metadata": {
    "collapsed": true
   },
   "outputs": [],
   "source": [
    "handles = ['realDonaldTrump', 'HillaryClinton', 'SenJohnMcCain', 'SenSanders', 'GovMikeHuckabee', \n",
    "           'BarackObama', 'newtgingrich', 'MikeBloomberg', 'KellyannePolls', 'NYCMayor']"
   ]
  },
  {
   "cell_type": "code",
   "execution_count": 172,
   "metadata": {
    "collapsed": true
   },
   "outputs": [],
   "source": [
    "#Open a blank .json file for each author, will append tweets later\n",
    "for handle in handles:\n",
    "    with open(f'C:\\\\Users\\\\ryan\\\\Desktop\\\\Thinkful DS Sample Data - Main Course\\\\Unit 4\\\\Capstone\\\\{handle}2.json', 'w') as f:\n",
    "        try: \n",
    "            json.load(f)\n",
    "        except ValueError:\n",
    "            empty = [] #Just added this line to handle exceptions, does nothing"
   ]
  },
  {
   "cell_type": "code",
   "execution_count": 173,
   "metadata": {
    "collapsed": true
   },
   "outputs": [],
   "source": [
    "#Twitter's API only allows for 200 records per call\n",
    "TWEETS_PER_CALL = 200 \n",
    "\n",
    "def save_tweets(screen_nm, tweets):\n",
    "    # 'a' appends to the .json we wrote with 'w' above\n",
    "    with open(f'C:\\\\Users\\\\ryan\\\\Desktop\\\\Thinkful DS Sample Data - Main Course\\\\Unit 4\\\\Capstone\\\\{screen_nm}2.json', 'a') as f:\n",
    "        for tweet in tweets:\n",
    "            json.dump([tweet.text, screen_nm], f); f.write('\\n')\n",
    "\n",
    "def get_tweets(screen_nm, desired_ct):\n",
    "    \n",
    "    #desired_ct is the number of tweets the user wants to include\n",
    "    tweet_list = []\n",
    "\n",
    "    #grab the current maximum tweet id for provided screen name, which will be the id of the first tweet stored in the object\n",
    "    curr_max_id = api.user_timeline(screen_name = screen_nm)[0].id \n",
    "    \n",
    "    #may have to do more than 1 call to the API (if user wants > TWEETS_PER_CALL tweets)\n",
    "    remaining = desired_ct\n",
    "        \n",
    "    while remaining > 0:\n",
    "        tweets = api.user_timeline(screen_name = screen_nm, count = min(remaining, TWEETS_PER_CALL), max_id = curr_max_id, include_rts=False)\n",
    "        \n",
    "        #save these tweets in a json file for later, in case kernel crashes or want to reference at a later date\n",
    "        save_tweets(screen_nm, tweets)\n",
    "        \n",
    "        for tweet in tweets:\n",
    "            tweet_list.append([tweet.text, screen_nm])\n",
    "                \n",
    "        remaining = remaining - min(remaining, TWEETS_PER_CALL)\n",
    "        \n",
    "        #re-set the maximum id for every TWEETS_PER_CALL tweets, so that we don't include duplicate tweets\n",
    "        curr_max_id = tweets[-1].id \n",
    "\n",
    "    return tweet_list"
   ]
  },
  {
   "cell_type": "code",
   "execution_count": 177,
   "metadata": {
    "collapsed": true
   },
   "outputs": [],
   "source": [
    "#Create tweet lists. Twitter's API states that users can only access up to 3,200 tweets for each account.\n",
    "\n",
    "trump = get_tweets('realDonaldTrump', 3200)\n",
    "clinton = get_tweets('HillaryClinton', 3200)\n",
    "mccain = get_tweets('SenJohnMcCain', 3200)\n",
    "bernie = get_tweets('SenSanders', 3200)\n",
    "huck = get_tweets('GovMikeHuckabee', 3200)\n",
    "obama = get_tweets('BarackObama', 3200)\n",
    "newt = get_tweets('newtgingrich', 3200)\n",
    "bloom = get_tweets('MikeBloomberg', 3200)\n",
    "conway = get_tweets('KellyannePolls', 3200)\n",
    "bdb = get_tweets('NYCMayor', 3200)"
   ]
  },
  {
   "cell_type": "code",
   "execution_count": 3,
   "metadata": {},
   "outputs": [],
   "source": [
    "#Combine all tweets into 1 list\n",
    "\n",
    "full_tweets = []\n",
    "for handle in handles:\n",
    "    with open('C:\\\\Users\\\\ryan\\\\Desktop\\\\Thinkful DS Sample Data - Main Course\\\\Unit 4\\\\Capstone\\\\{}2.json'.format(handle)) as f: \n",
    "        full_tweets.append([json.loads(line) for line in f])\n",
    "        \n",
    "#Only want the first 2100 from each author (retweets caused the full amount for each author to be < 3200, and each has at least\n",
    "#2100 non RTs)\n",
    "all_tweets = []\n",
    "for auth in full_tweets:\n",
    "    all_tweets.extend(auth[:2100])\n",
    "    \n",
    "#Store in dataframe\n",
    "tweet_df = pd.DataFrame(all_tweets, columns = ['Tweets', 'Author'])"
   ]
  },
  {
   "cell_type": "code",
   "execution_count": 4,
   "metadata": {},
   "outputs": [
    {
     "data": {
      "text/html": [
       "<div>\n",
       "<style>\n",
       "    .dataframe thead tr:only-child th {\n",
       "        text-align: right;\n",
       "    }\n",
       "\n",
       "    .dataframe thead th {\n",
       "        text-align: left;\n",
       "    }\n",
       "\n",
       "    .dataframe tbody tr th {\n",
       "        vertical-align: top;\n",
       "    }\n",
       "</style>\n",
       "<table border=\"1\" class=\"dataframe\">\n",
       "  <thead>\n",
       "    <tr style=\"text-align: right;\">\n",
       "      <th></th>\n",
       "      <th>Tweets</th>\n",
       "      <th>Author</th>\n",
       "    </tr>\n",
       "  </thead>\n",
       "  <tbody>\n",
       "    <tr>\n",
       "      <th>0</th>\n",
       "      <td>It was a great privilege to meet with Presiden...</td>\n",
       "      <td>realDonaldTrump</td>\n",
       "    </tr>\n",
       "    <tr>\n",
       "      <th>1</th>\n",
       "      <td>It was wonderful to have President Petro Poros...</td>\n",
       "      <td>realDonaldTrump</td>\n",
       "    </tr>\n",
       "    <tr>\n",
       "      <th>2</th>\n",
       "      <td>It was a pleasure to have President Ashraf Gha...</td>\n",
       "      <td>realDonaldTrump</td>\n",
       "    </tr>\n",
       "    <tr>\n",
       "      <th>3</th>\n",
       "      <td>Governor @RicardoRossello- \\nWe are with you a...</td>\n",
       "      <td>realDonaldTrump</td>\n",
       "    </tr>\n",
       "    <tr>\n",
       "      <th>4</th>\n",
       "      <td>Senator (Doctor) Bill Cassidy is a class act w...</td>\n",
       "      <td>realDonaldTrump</td>\n",
       "    </tr>\n",
       "  </tbody>\n",
       "</table>\n",
       "</div>"
      ],
      "text/plain": [
       "                                              Tweets           Author\n",
       "0  It was a great privilege to meet with Presiden...  realDonaldTrump\n",
       "1  It was wonderful to have President Petro Poros...  realDonaldTrump\n",
       "2  It was a pleasure to have President Ashraf Gha...  realDonaldTrump\n",
       "3  Governor @RicardoRossello- \\nWe are with you a...  realDonaldTrump\n",
       "4  Senator (Doctor) Bill Cassidy is a class act w...  realDonaldTrump"
      ]
     },
     "execution_count": 4,
     "metadata": {},
     "output_type": "execute_result"
    }
   ],
   "source": [
    "tweet_df.head()"
   ]
  },
  {
   "cell_type": "code",
   "execution_count": 5,
   "metadata": {
    "collapsed": true
   },
   "outputs": [],
   "source": [
    "#Concatenate all tweets into a single string for BoW purposes\n",
    "#Load spaCy to prepare to tokenize our tweets (for more interesting features later on)\n",
    "nlp = spacy.load('en') \n",
    "\n",
    "tweets_full = ' '.join(tweet_df['Tweets'])\n",
    "tweets_full = nlp(tweets_full)"
   ]
  },
  {
   "cell_type": "code",
   "execution_count": 6,
   "metadata": {
    "collapsed": true
   },
   "outputs": [],
   "source": [
    "def bag_of_words(doc):\n",
    "    allwords = [token.lemma_ for token in doc if not token.is_stop and not token.is_punct and not token.like_url and \n",
    "                not token.like_num and not token.is_space and token.is_ascii and len(token.lemma_) > 1]\n",
    "    # Return the most common words.\n",
    "    return [item[0] for item in Counter(allwords).most_common(10000)]"
   ]
  },
  {
   "cell_type": "code",
   "execution_count": 7,
   "metadata": {
    "collapsed": true
   },
   "outputs": [],
   "source": [
    "#Create our bag of desired words. All tweets concatentated for this task. Only use training set, though!\n",
    "Tweet_train, Tweet_test = train_test_split(tweets_full, test_size=0.25, random_state = 42)\n",
    "\n",
    "bow = bag_of_words(Tweet_train)\n",
    "\n",
    "#Let's clean this up a bit \n",
    "replace_words = [r'/n', r'\\\\n', r'\\n', r'--', r'-', 'https:\\/\\/t\\.co\\/[\\w\\d]+', r'amp', r'&', r'w/', \"'s\"]\n",
    "bow = [re.sub('|'.join(replace_words), '', word) for word in bow]"
   ]
  },
  {
   "cell_type": "code",
   "execution_count": 8,
   "metadata": {
    "collapsed": true
   },
   "outputs": [],
   "source": [
    "#Tokenize our tweets using spaCy (for more interesting features later on)\n",
    "all_tweets_nlp = []\n",
    "all_tweets_nlp.append([nlp(tweet[0]) for tweet in all_tweets])\n",
    "all_tweets_nlp.append([nlp(tweet[1]) for tweet in all_tweets])"
   ]
  },
  {
   "cell_type": "code",
   "execution_count": 9,
   "metadata": {
    "collapsed": true
   },
   "outputs": [],
   "source": [
    "#Create dataframe with counts of our bag of words as features \n",
    "def bow_features(sentences, bow):\n",
    "    \n",
    "    partsofspeechlist = []\n",
    "    ent_list = []\n",
    "    \n",
    "    for sent in sentences[0]:\n",
    "        for token in sent:\n",
    "                partsofspeechlist.append(token.pos_)\n",
    "\n",
    "    parts = (set(partsofspeechlist))\n",
    "\n",
    "    # Scaffold the data frame and initialize counts to zero.\n",
    "    df = pd.DataFrame(columns = set(list(bow) + list(parts)))\n",
    "    df['Tweet'] = sentences[0]\n",
    "    df['Author'] = sentences[1]\n",
    "    df.loc[:, bow] = 0\n",
    "    df['tweet_length'] = 0\n",
    "    df['tweet_punct_count'] = 0 \n",
    "    df['upper_case'] = 0 \n",
    "    df.loc[:, parts] = 0\n",
    "    \n",
    "    for i, sent in enumerate(sentences[0]):\n",
    "\n",
    "        tweet_len = 0    \n",
    "        num_punct = 0\n",
    "        \n",
    "        # Populate the row with word counts (only include the ones from our bag of words)\n",
    "        words = [token.lemma_ for token in sent\n",
    "                 if token.lemma_ in bow]\n",
    "        \n",
    "        #\"words\" collects all bow matches from each sentence\n",
    "        for word in words:\n",
    "            df.loc[i, word] += 1\n",
    "        \n",
    "        #Add part of speech counter and tweet length\n",
    "        for token in sent:\n",
    "            df.loc[i, token.pos_] += 1\n",
    "            if not token.is_punct:\n",
    "                tweet_len += 1\n",
    "            else:\n",
    "                num_punct += 1\n",
    "            \n",
    "        #Create a feature for all CAPS words  \n",
    "            if ((str(token).isupper()) & (len(str(token)) > 1)):\n",
    "                df.loc[i, 'upper_case'] += 1\n",
    "\n",
    "\n",
    "        df.loc[i, 'tweet_length'] = tweet_len\n",
    "        df.loc[i, 'tweet_punct_count'] = num_punct\n",
    "\n",
    "        \n",
    "        # This counter is just to make sure the kernel didn't hang.\n",
    "        if i % 500 == 0:\n",
    "            print(\"Processing row {}\".format(i))\n",
    "\n",
    "    return df"
   ]
  },
  {
   "cell_type": "code",
   "execution_count": 10,
   "metadata": {},
   "outputs": [
    {
     "name": "stdout",
     "output_type": "stream",
     "text": [
      "Processing row 0\n",
      "Processing row 500\n",
      "Processing row 1000\n",
      "Processing row 1500\n",
      "Processing row 2000\n",
      "Processing row 2500\n",
      "Processing row 3000\n",
      "Processing row 3500\n",
      "Processing row 4000\n",
      "Processing row 4500\n",
      "Processing row 5000\n",
      "Processing row 5500\n",
      "Processing row 6000\n",
      "Processing row 6500\n",
      "Processing row 7000\n",
      "Processing row 7500\n",
      "Processing row 8000\n",
      "Processing row 8500\n",
      "Processing row 9000\n",
      "Processing row 9500\n",
      "Processing row 10000\n",
      "Processing row 10500\n",
      "Processing row 11000\n",
      "Processing row 11500\n",
      "Processing row 12000\n",
      "Processing row 12500\n",
      "Processing row 13000\n",
      "Processing row 13500\n",
      "Processing row 14000\n",
      "Processing row 14500\n",
      "Processing row 15000\n",
      "Processing row 15500\n",
      "Processing row 16000\n",
      "Processing row 16500\n",
      "Processing row 17000\n",
      "Processing row 17500\n",
      "Processing row 18000\n",
      "Processing row 18500\n",
      "Processing row 19000\n",
      "Processing row 19500\n",
      "Processing row 20000\n",
      "Processing row 20500\n"
     ]
    }
   ],
   "source": [
    "#Call our method to build our bag of words feature df\n",
    "df = bow_features(all_tweets_nlp, bow)"
   ]
  },
  {
   "cell_type": "markdown",
   "metadata": {},
   "source": [
    "# Basic Bag of Words Model"
   ]
  },
  {
   "cell_type": "code",
   "execution_count": 228,
   "metadata": {},
   "outputs": [
    {
     "name": "stdout",
     "output_type": "stream",
     "text": [
      "Training set score: 0.995365079365\n",
      "\n",
      "Test set score: 0.549904761905\n"
     ]
    }
   ],
   "source": [
    "#Create a basic model to guage where our starting accuracy is at\n",
    "\n",
    "rfc = ensemble.RandomForestClassifier()\n",
    "\n",
    "X = np.array(df.drop(['Tweet', 'Author'], 1))\n",
    "\n",
    "#y needs to be str or int, cannot be spacy doc, so convert here\n",
    "y = df['Author'].apply(lambda x: str(x))\n",
    "\n",
    "X_train, X_test, y_train, y_test = train_test_split(X, y, test_size=0.25, random_state = 42)\n",
    "\n",
    "train = rfc.fit(X_train, y_train)\n",
    "y_pred = rfc.predict(X_test)\n",
    "\n",
    "print('Training set score:', rfc.score(X_train, y_train))\n",
    "print('\\nTest set score:', rfc.score(X_test, y_test))"
   ]
  },
  {
   "cell_type": "code",
   "execution_count": 229,
   "metadata": {},
   "outputs": [
    {
     "data": {
      "text/plain": [
       "<matplotlib.axes._subplots.AxesSubplot at 0x2072813e438>"
      ]
     },
     "execution_count": 229,
     "metadata": {},
     "output_type": "execute_result"
    },
    {
     "data": {
      "image/png": "[encoded data removed]",
      "text/plain": [
       "<matplotlib.figure.Figure at 0x20702bd7f60>"
      ]
     },
     "metadata": {},
     "output_type": "display_data"
    }
   ],
   "source": [
    "#Confusion matrix for model random forest performance visualization\n",
    "\n",
    "conf = confusion_matrix(y_test, y_pred, labels = handles)\n",
    "\n",
    "df_cm = pd.DataFrame(conf, index = [i for i in handles],\n",
    "                  columns = [i for i in handles])\n",
    "plt.figure(figsize = (15,7))\n",
    "sns.heatmap(df_cm, annot=True, cmap=\"Blues\", fmt = 'd')"
   ]
  },
  {
   "cell_type": "markdown",
   "metadata": {},
   "source": [
    "# Basic TF-IDF Model"
   ]
  },
  {
   "cell_type": "code",
   "execution_count": 17,
   "metadata": {},
   "outputs": [
    {
     "name": "stdout",
     "output_type": "stream",
     "text": [
      "Training set score: 0.989841269841\n",
      "\n",
      "Test set score: 0.641714285714\n"
     ]
    }
   ],
   "source": [
    "#Try TF-IDF to see if we can increase prediction accuracy. Also experiment by increasing the minimum document frequency \n",
    "#to reduce the feature space...\n",
    "\n",
    "X_train, X_test, y_train, y_test = train_test_split(tweet_df['Tweets'], tweet_df['Author'], test_size = 0.25, random_state = 42)\n",
    "\n",
    "vectorizer1 = TfidfVectorizer(max_df=0.5, # drop words that occur in more than half the tweets\n",
    "                             min_df=2, # only use words that appear at least 2x\n",
    "                             stop_words='english', \n",
    "                             lowercase=True, #convert everything to lower case \n",
    "                             use_idf=True,\n",
    "                             norm=u'l2', #Applies a correction factor so that longer paragraphs and shorter tweets get treated equally\n",
    "                             smooth_idf=True #Adds 1 to all document frequencies, as if an extra document existed that used every word once.  Prevents divide-by-zero errors\n",
    "                            )\n",
    "\n",
    "X_train_tfidf = vectorizer1.fit_transform(X_train)\n",
    "X_test_tfidf = vectorizer1.transform(X_test)\n",
    "\n",
    "fit = rfc.fit(X_train_tfidf, y_train)\n",
    "y_pred = rfc.predict(X_test_tfidf)\n",
    "\n",
    "print('Training set score:', rfc.score(X_train_tfidf, y_train))\n",
    "print('\\nTest set score:', rfc.score(X_test_tfidf, y_test))"
   ]
  },
  {
   "cell_type": "code",
   "execution_count": 18,
   "metadata": {},
   "outputs": [
    {
     "name": "stdout",
     "output_type": "stream",
     "text": [
      "Training set score: 0.736253968254\n",
      "\n",
      "Test set score: 0.649904761905\n"
     ]
    }
   ],
   "source": [
    "#Try a GBM classifier here, using the standard TF-IDF approach above\n",
    "\n",
    "clf = ensemble.GradientBoostingClassifier()\n",
    "train = clf.fit(X_train_tfidf, y_train)\n",
    "tfidf_pred = clf.predict(X_test_tfidf.toarray())\n",
    "tfidf_pred_prob = clf.predict_proba(X_test_tfidf.toarray())\n",
    "\n",
    "print('Training set score:', clf.score(X_train_tfidf.toarray(), y_train))\n",
    "print('\\nTest set score:', clf.score(X_test_tfidf.toarray(), y_test))"
   ]
  },
  {
   "cell_type": "code",
   "execution_count": 19,
   "metadata": {},
   "outputs": [
    {
     "data": {
      "text/plain": [
       "<matplotlib.axes._subplots.AxesSubplot at 0x1ddb5b1b710>"
      ]
     },
     "execution_count": 19,
     "metadata": {},
     "output_type": "execute_result"
    },
    {
     "data": {
      "image/png": "[encoded data removed]",
      "text/plain": [
       "<matplotlib.figure.Figure at 0x1ddf04397f0>"
      ]
     },
     "metadata": {},
     "output_type": "display_data"
    }
   ],
   "source": [
    "#Confusion matrix for GBM performance visualization on TF-IDF\n",
    "\n",
    "conf = confusion_matrix(y_test, tfidf_pred, labels = handles)\n",
    "\n",
    "df_cm = pd.DataFrame(conf, index = [i for i in handles],\n",
    "                  columns = [i for i in handles])\n",
    "plt.figure(figsize = (15,7))\n",
    "sns.heatmap(df_cm, annot=True, cmap=\"Blues\", fmt = 'd')"
   ]
  },
  {
   "cell_type": "markdown",
   "metadata": {},
   "source": [
    "# TF-IDF With Customized Analyzer (using spaCy tokenizer)"
   ]
  },
  {
   "cell_type": "code",
   "execution_count": 20,
   "metadata": {},
   "outputs": [
    {
     "name": "stdout",
     "output_type": "stream",
     "text": [
      "Training set score: 0.989206349206\n",
      "\n",
      "Test set score: 0.615047619048\n"
     ]
    }
   ],
   "source": [
    "#Try TF-IDF to see if we can increase prediction accuracy. Also experiment by increasing the minimum document frequency \n",
    "#to reduce the feature space...\n",
    "\n",
    "#Use 'analyzer' function in tfidf vectorizer to take advantage of our spacy lemmas & other exclusions we applied in the basic \n",
    "#BoW approach above.\n",
    "\n",
    "nlp = spacy.load('en')\n",
    "\n",
    "def bag_of_words_tfidf(doc):\n",
    "    #https://github.com/scikit-learn/scikit-learn/blob/ef5cb84a/sklearn/feature_extraction/text.py#L792\n",
    "    #Lines 790-792 show that analyzer takes 1 doc input at a time (not the full corpus) - so pass \"doc\" here instead of \n",
    "    tweets_full = nlp(doc)\n",
    "    \n",
    "    allwords = (token.lemma_ for token in tweets_full if not token.is_stop and not token.is_punct and not token.like_url and \n",
    "                not token.like_num and not token.is_space and token.is_ascii and len(token.lemma_) > 1)\n",
    "\n",
    "    return allwords\n",
    "\n",
    "#Can define a new function that points to first function and creates a vocabulatry for the full training set\n",
    " \n",
    "\n",
    "X_train, X_test, y_train, y_test = train_test_split(tweet_df['Tweets'], tweet_df['Author'], test_size = 0.25, random_state = 42)\n",
    "\n",
    "vectorizer2 = TfidfVectorizer(max_df=0.5, # drop words that occur in more than half the tweets\n",
    "                             min_df=2, # only use words that appear at least 2x\n",
    "                             stop_words='english', \n",
    "                             lowercase=True, #convert everything to lower case \n",
    "                             use_idf=True,\n",
    "                             analyzer = bag_of_words_tfidf,\n",
    "                             norm=u'l2', #Applies a correction factor so that longer paragraphs and shorter tweets get treated equally\n",
    "                             smooth_idf=True #Adds 1 to all document frequencies, as if an extra document existed that used every word once.  Prevents divide-by-zero errors\n",
    "                            )\n",
    "\n",
    "X_train_tfidf = vectorizer2.fit_transform(X_train)\n",
    "X_test_tfidf = vectorizer2.transform(X_test)\n",
    "\n",
    "fit = rfc.fit(X_train_tfidf, y_train)\n",
    "y_pred = rfc.predict(X_test_tfidf)\n",
    "\n",
    "print('Training set score:', rfc.score(X_train_tfidf, y_train))\n",
    "print('\\nTest set score:', rfc.score(X_test_tfidf, y_test))\n"
   ]
  },
  {
   "cell_type": "code",
   "execution_count": 21,
   "metadata": {},
   "outputs": [
    {
     "name": "stdout",
     "output_type": "stream",
     "text": [
      "Training set score: 0.718095238095\n",
      "\n",
      "Test set score: 0.63619047619\n"
     ]
    }
   ],
   "source": [
    "#Try a GBM classifier here, using the CUSTOMIZED TF-IDF approach above\n",
    "\n",
    "clf = ensemble.GradientBoostingClassifier()\n",
    "train = clf.fit(X_train_tfidf, y_train)\n",
    "spacy_tok_pred = clf.predict(X_test_tfidf.toarray())\n",
    "spacy_tok_pred_prob = clf.predict_proba(X_test_tfidf.toarray())\n",
    "\n",
    "print('Training set score:', clf.score(X_train_tfidf.toarray(), y_train))\n",
    "print('\\nTest set score:', clf.score(X_test_tfidf.toarray(), y_test))"
   ]
  },
  {
   "cell_type": "code",
   "execution_count": 22,
   "metadata": {},
   "outputs": [
    {
     "data": {
      "text/plain": [
       "<matplotlib.axes._subplots.AxesSubplot at 0x1ddb5b199b0>"
      ]
     },
     "execution_count": 22,
     "metadata": {},
     "output_type": "execute_result"
    },
    {
     "data": {
      "image/png": "[encoded data removed]",
      "text/plain": [
       "<matplotlib.figure.Figure at 0x1ddb5b1a2b0>"
      ]
     },
     "metadata": {},
     "output_type": "display_data"
    }
   ],
   "source": [
    "#Confusion matrix for GBM performance visualization on CUSTOMIZED TF-IDF\n",
    "\n",
    "conf = confusion_matrix(y_test, spacy_tok_pred, labels = handles)\n",
    "\n",
    "df_cm = pd.DataFrame(conf, index = [i for i in handles],\n",
    "                  columns = [i for i in handles])\n",
    "plt.figure(figsize = (15,7))\n",
    "sns.heatmap(df_cm, annot=True, cmap=\"Blues\", fmt = 'd')"
   ]
  },
  {
   "cell_type": "markdown",
   "metadata": {},
   "source": [
    "# Detailed Comparison of standard TF-IDF tokenizer vs spaCy tokenizer"
   ]
  },
  {
   "cell_type": "code",
   "execution_count": 13,
   "metadata": {},
   "outputs": [],
   "source": [
    "#Set up dataframe to enable easy comparisons between default TF-IDF and SpaCy\n",
    "\n",
    "pd.options.display.max_colwidth = 200\n",
    "comparison = pd.DataFrame()\n",
    "comparison['Tweet'] = X_test\n",
    "comparison['TF-IDF Pred'] = tfidf_pred\n",
    "comparison['TF-IDF Probs'] = [pred for pred in tfidf_pred_prob]\n",
    "comparison['SpaCy Pred'] = spacy_tok_pred\n",
    "comparison['SpaCy Probs'] = [pred for pred in spacy_tok_pred_prob]\n",
    "comparison['Author'] = y_test\n",
    "comparison.reset_index(drop = True, inplace = True)"
   ]
  },
  {
   "cell_type": "code",
   "execution_count": 63,
   "metadata": {
    "collapsed": true
   },
   "outputs": [],
   "source": [
    "#Find the tweets where the max author probability changed the most\n",
    "prob_changes = []\n",
    "for i, row in enumerate(comparison['TF-IDF Probs']):\n",
    "    row_changes = []\n",
    "    for j, auth in enumerate(comparison['TF-IDF Probs'][i]):\n",
    "        row_changes.append((comparison['SpaCy Probs'][i][j] - comparison['TF-IDF Probs'][i][j]))\n",
    "    prob_changes.append(row_changes)"
   ]
  },
  {
   "cell_type": "code",
   "execution_count": 64,
   "metadata": {
    "collapsed": true
   },
   "outputs": [],
   "source": [
    "#Get author index for tweet with highest change in particular author probability\n",
    "max_change_idx = []\n",
    "for row in prob_changes:\n",
    "    max_chg = 0\n",
    "    for i, auth_chg in enumerate(row):\n",
    "        if abs(auth_chg) > abs(max_chg):\n",
    "            max_chg = auth_chg\n",
    "            idx = i\n",
    "    max_change_idx.append([max_chg, idx])"
   ]
  },
  {
   "cell_type": "code",
   "execution_count": 65,
   "metadata": {
    "collapsed": true
   },
   "outputs": [],
   "source": [
    "#Determine order of classification index\n",
    "auth_index = clf.classes_\n",
    "auth_dict = {}\n",
    "for i, auth in enumerate(auth_index):\n",
    "    auth_dict[i] = auth"
   ]
  },
  {
   "cell_type": "code",
   "execution_count": 66,
   "metadata": {
    "collapsed": true
   },
   "outputs": [],
   "source": [
    "max_change_author = []\n",
    "max_prob_change = []\n",
    "for i, row in enumerate(max_change_idx):\n",
    "    max_change_author.append(auth_dict.get(row[1]))\n",
    "    max_prob_change.append(max_change_idx[i][0])"
   ]
  },
  {
   "cell_type": "code",
   "execution_count": 144,
   "metadata": {
    "collapsed": true
   },
   "outputs": [],
   "source": [
    "inv_auth_dict = {v: k for k, v in auth_dict.items()}\n",
    "prob_change_true = []\n",
    "for i, row in enumerate(prob_changes):\n",
    "    prob_change_true.append(prob_changes[i][inv_auth_dict.get(comparison['Author'][i])])"
   ]
  },
  {
   "cell_type": "code",
   "execution_count": 150,
   "metadata": {
    "collapsed": true
   },
   "outputs": [],
   "source": [
    "comparison['Max Prob Change'] = max_prob_change\n",
    "comparison['Max Prob Change Author'] = max_change_author\n",
    "comparison['Prob Change True Author'] = prob_change_true"
   ]
  },
  {
   "cell_type": "code",
   "execution_count": 151,
   "metadata": {},
   "outputs": [
    {
     "data": {
      "text/html": [
       "<div>\n",
       "<style>\n",
       "    .dataframe thead tr:only-child th {\n",
       "        text-align: right;\n",
       "    }\n",
       "\n",
       "    .dataframe thead th {\n",
       "        text-align: left;\n",
       "    }\n",
       "\n",
       "    .dataframe tbody tr th {\n",
       "        vertical-align: top;\n",
       "    }\n",
       "</style>\n",
       "<table border=\"1\" class=\"dataframe\">\n",
       "  <thead>\n",
       "    <tr style=\"text-align: right;\">\n",
       "      <th></th>\n",
       "      <th>Tweet</th>\n",
       "      <th>TF-IDF Pred</th>\n",
       "      <th>TF-IDF Probs</th>\n",
       "      <th>SpaCy Pred</th>\n",
       "      <th>SpaCy Probs</th>\n",
       "      <th>Author</th>\n",
       "      <th>Max Prob Change</th>\n",
       "      <th>Max Prob Change Author</th>\n",
       "      <th>Prob Change True Author</th>\n",
       "    </tr>\n",
       "  </thead>\n",
       "  <tbody>\n",
       "    <tr>\n",
       "      <th>1616</th>\n",
       "      <td>#OneBostonDay celebrates resiliency over tragedy. @Marty_Walsh has launched an important new tradition in Boston: http://t.co/dA91AT0FjD</td>\n",
       "      <td>MikeBloomberg</td>\n",
       "      <td>[0.00838822086938, 0.00559563555962, 0.00396040246683, 0.00632678977452, 0.951976836304, 0.00461117758236, 0.00385026077451, 0.00471869109539, 0.00494975427201, 0.00562223130136]</td>\n",
       "      <td>KellyannePolls</td>\n",
       "      <td>[0.0653018705975, 0.114416147858, 0.0915073616071, 0.132187375836, 0.0910656323864, 0.0958431830342, 0.0790941670596, 0.0979916038756, 0.107462582313, 0.125130075433]</td>\n",
       "      <td>MikeBloomberg</td>\n",
       "      <td>-0.860911</td>\n",
       "      <td>MikeBloomberg</td>\n",
       "      <td>-0.860911</td>\n",
       "    </tr>\n",
       "    <tr>\n",
       "      <th>2270</th>\n",
       "      <td>\"Remember, when they go low, we go high.” —@FLOTUS: https://t.co/tTgeqxNqYm</td>\n",
       "      <td>HillaryClinton</td>\n",
       "      <td>[0.00488539198949, 0.0117968376808, 0.914076546241, 0.0133382725189, 0.00582823842104, 0.00972138247334, 0.00811720150493, 0.00994804474397, 0.0104351770383, 0.0118529073881]</td>\n",
       "      <td>KellyannePolls</td>\n",
       "      <td>[0.0653018705975, 0.114416147858, 0.0915073616071, 0.132187375836, 0.0910656323864, 0.0958431830342, 0.0790941670596, 0.0979916038756, 0.107462582313, 0.125130075433]</td>\n",
       "      <td>HillaryClinton</td>\n",
       "      <td>-0.822569</td>\n",
       "      <td>HillaryClinton</td>\n",
       "      <td>-0.822569</td>\n",
       "    </tr>\n",
       "    <tr>\n",
       "      <th>303</th>\n",
       "      <td>NYC became great because we dared to dream bigger than anyone else. @Cornell_Tech is part of that tradition http://t.co/MzBRpFkLWS</td>\n",
       "      <td>MikeBloomberg</td>\n",
       "      <td>[0.040545040628, 0.00526179915508, 0.00372412429861, 0.00594933260668, 0.903849507312, 0.0172917700261, 0.00362055367514, 0.00443717332093, 0.00465445123593, 0.0106662477417]</td>\n",
       "      <td>NYCMayor</td>\n",
       "      <td>[0.0325571522157, 0.0570437555258, 0.0456222627842, 0.0659038474196, 0.0999444261912, 0.286972563842, 0.0394334926821, 0.0488550715936, 0.0535769590953, 0.270090468651]</td>\n",
       "      <td>MikeBloomberg</td>\n",
       "      <td>-0.803905</td>\n",
       "      <td>MikeBloomberg</td>\n",
       "      <td>-0.803905</td>\n",
       "    </tr>\n",
       "    <tr>\n",
       "      <th>1478</th>\n",
       "      <td>Great to see the progress made @Cornell_Tech site on Roosevelt Island today http://t.co/fSLa7Pt0yF</td>\n",
       "      <td>MikeBloomberg</td>\n",
       "      <td>[0.0656159686952, 0.00514210775054, 0.003639410752, 0.00581400171419, 0.883289426276, 0.0136524534882, 0.00353819607429, 0.00433623987757, 0.00454857531985, 0.0104236200518]</td>\n",
       "      <td>NYCMayor</td>\n",
       "      <td>[0.0888848194519, 0.0719688828577, 0.0575590308834, 0.0831471601246, 0.0905670063856, 0.226807172782, 0.0497510093672, 0.0616376830753, 0.0675950217068, 0.202082213365]</td>\n",
       "      <td>MikeBloomberg</td>\n",
       "      <td>-0.792722</td>\n",
       "      <td>MikeBloomberg</td>\n",
       "      <td>-0.792722</td>\n",
       "    </tr>\n",
       "    <tr>\n",
       "      <th>1245</th>\n",
       "      <td>Happy birthday @MayorofLondon &amp;amp; @Anne_Hidalgo. Thank you both for your friendship and inspiring leadership. http://t.co/4LI7CqT5rM</td>\n",
       "      <td>MikeBloomberg</td>\n",
       "      <td>[0.0184290157251, 0.00472569927491, 0.00334469085172, 0.00597057780193, 0.934270986197, 0.00333408684258, 0.0111622024992, 0.0030670868834, 0.00418023116856, 0.0115154227554]</td>\n",
       "      <td>SenJohnMcCain</td>\n",
       "      <td>[0.049404707273, 0.0865625477571, 0.0692307030742, 0.118895361243, 0.161040937223, 0.0675400118324, 0.183506839206, 0.0571566334899, 0.0813017662954, 0.125360492606]</td>\n",
       "      <td>MikeBloomberg</td>\n",
       "      <td>-0.773230</td>\n",
       "      <td>MikeBloomberg</td>\n",
       "      <td>-0.773230</td>\n",
       "    </tr>\n",
       "  </tbody>\n",
       "</table>\n",
       "</div>"
      ],
      "text/plain": [
       "                                                                                                                                         Tweet  \\\n",
       "1616  #OneBostonDay celebrates resiliency over tragedy. @Marty_Walsh has launched an important new tradition in Boston: http://t.co/dA91AT0FjD   \n",
       "2270                                                               \"Remember, when they go low, we go high.” —@FLOTUS: https://t.co/tTgeqxNqYm   \n",
       "303         NYC became great because we dared to dream bigger than anyone else. @Cornell_Tech is part of that tradition http://t.co/MzBRpFkLWS   \n",
       "1478                                        Great to see the progress made @Cornell_Tech site on Roosevelt Island today http://t.co/fSLa7Pt0yF   \n",
       "1245    Happy birthday @MayorofLondon &amp; @Anne_Hidalgo. Thank you both for your friendship and inspiring leadership. http://t.co/4LI7CqT5rM   \n",
       "\n",
       "         TF-IDF Pred  \\\n",
       "1616   MikeBloomberg   \n",
       "2270  HillaryClinton   \n",
       "303    MikeBloomberg   \n",
       "1478   MikeBloomberg   \n",
       "1245   MikeBloomberg   \n",
       "\n",
       "                                                                                                                                                                            TF-IDF Probs  \\\n",
       "1616  [0.00838822086938, 0.00559563555962, 0.00396040246683, 0.00632678977452, 0.951976836304, 0.00461117758236, 0.00385026077451, 0.00471869109539, 0.00494975427201, 0.00562223130136]   \n",
       "2270      [0.00488539198949, 0.0117968376808, 0.914076546241, 0.0133382725189, 0.00582823842104, 0.00972138247334, 0.00811720150493, 0.00994804474397, 0.0104351770383, 0.0118529073881]   \n",
       "303       [0.040545040628, 0.00526179915508, 0.00372412429861, 0.00594933260668, 0.903849507312, 0.0172917700261, 0.00362055367514, 0.00443717332093, 0.00465445123593, 0.0106662477417]   \n",
       "1478       [0.0656159686952, 0.00514210775054, 0.003639410752, 0.00581400171419, 0.883289426276, 0.0136524534882, 0.00353819607429, 0.00433623987757, 0.00454857531985, 0.0104236200518]   \n",
       "1245      [0.0184290157251, 0.00472569927491, 0.00334469085172, 0.00597057780193, 0.934270986197, 0.00333408684258, 0.0111622024992, 0.0030670868834, 0.00418023116856, 0.0115154227554]   \n",
       "\n",
       "          SpaCy Pred  \\\n",
       "1616  KellyannePolls   \n",
       "2270  KellyannePolls   \n",
       "303         NYCMayor   \n",
       "1478        NYCMayor   \n",
       "1245   SenJohnMcCain   \n",
       "\n",
       "                                                                                                                                                                   SpaCy Probs  \\\n",
       "1616    [0.0653018705975, 0.114416147858, 0.0915073616071, 0.132187375836, 0.0910656323864, 0.0958431830342, 0.0790941670596, 0.0979916038756, 0.107462582313, 0.125130075433]   \n",
       "2270    [0.0653018705975, 0.114416147858, 0.0915073616071, 0.132187375836, 0.0910656323864, 0.0958431830342, 0.0790941670596, 0.0979916038756, 0.107462582313, 0.125130075433]   \n",
       "303   [0.0325571522157, 0.0570437555258, 0.0456222627842, 0.0659038474196, 0.0999444261912, 0.286972563842, 0.0394334926821, 0.0488550715936, 0.0535769590953, 0.270090468651]   \n",
       "1478  [0.0888848194519, 0.0719688828577, 0.0575590308834, 0.0831471601246, 0.0905670063856, 0.226807172782, 0.0497510093672, 0.0616376830753, 0.0675950217068, 0.202082213365]   \n",
       "1245     [0.049404707273, 0.0865625477571, 0.0692307030742, 0.118895361243, 0.161040937223, 0.0675400118324, 0.183506839206, 0.0571566334899, 0.0813017662954, 0.125360492606]   \n",
       "\n",
       "              Author  Max Prob Change Max Prob Change Author  \\\n",
       "1616   MikeBloomberg        -0.860911          MikeBloomberg   \n",
       "2270  HillaryClinton        -0.822569         HillaryClinton   \n",
       "303    MikeBloomberg        -0.803905          MikeBloomberg   \n",
       "1478   MikeBloomberg        -0.792722          MikeBloomberg   \n",
       "1245   MikeBloomberg        -0.773230          MikeBloomberg   \n",
       "\n",
       "      Prob Change True Author  \n",
       "1616                -0.860911  \n",
       "2270                -0.822569  \n",
       "303                 -0.803905  \n",
       "1478                -0.792722  \n",
       "1245                -0.773230  "
      ]
     },
     "execution_count": 151,
     "metadata": {},
     "output_type": "execute_result"
    }
   ],
   "source": [
    "#Top instances where spaCy moved significantly away from the correct author\n",
    "\n",
    "(comparison[\n",
    "              \n",
    "              (comparison['Max Prob Change Author'] == comparison['Author']) \n",
    "            & (comparison['Max Prob Change'] < 0)\n",
    "           ]\n",
    ").sort_values(by = 'Max Prob Change', ascending = True).head(5)"
   ]
  },
  {
   "cell_type": "code",
   "execution_count": 152,
   "metadata": {},
   "outputs": [
    {
     "data": {
      "text/html": [
       "<div>\n",
       "<style>\n",
       "    .dataframe thead tr:only-child th {\n",
       "        text-align: right;\n",
       "    }\n",
       "\n",
       "    .dataframe thead th {\n",
       "        text-align: left;\n",
       "    }\n",
       "\n",
       "    .dataframe tbody tr th {\n",
       "        vertical-align: top;\n",
       "    }\n",
       "</style>\n",
       "<table border=\"1\" class=\"dataframe\">\n",
       "  <thead>\n",
       "    <tr style=\"text-align: right;\">\n",
       "      <th></th>\n",
       "      <th>Tweet</th>\n",
       "      <th>TF-IDF Pred</th>\n",
       "      <th>TF-IDF Probs</th>\n",
       "      <th>SpaCy Pred</th>\n",
       "      <th>SpaCy Probs</th>\n",
       "      <th>Author</th>\n",
       "      <th>Max Prob Change</th>\n",
       "      <th>Max Prob Change Author</th>\n",
       "      <th>Prob Change True Author</th>\n",
       "    </tr>\n",
       "  </thead>\n",
       "  <tbody>\n",
       "    <tr>\n",
       "      <th>530</th>\n",
       "      <td>Headed to @foxnews now. Will discuss tonight's results on @FoxBusiness at 9:30pET and on FNC at 10pET with @seanhannity</td>\n",
       "      <td>GovMikeHuckabee</td>\n",
       "      <td>[0.0380179639082, 0.351497065478, 0.0649747987184, 0.103798009313, 0.0453551646248, 0.0756514868826, 0.063167801993, 0.0774153654093, 0.0878833982086, 0.0922389454643]</td>\n",
       "      <td>newtgingrich</td>\n",
       "      <td>[0.00219746946972, 0.00749709539018, 0.00307930893167, 0.00444822973711, 0.00306444432722, 0.00322521340769, 0.00266159324007, 0.00329750979313, 0.966546851612, 0.00398228409078]</td>\n",
       "      <td>newtgingrich</td>\n",
       "      <td>0.878663</td>\n",
       "      <td>newtgingrich</td>\n",
       "      <td>0.878663</td>\n",
       "    </tr>\n",
       "    <tr>\n",
       "      <th>2265</th>\n",
       "      <td>Helen Marshall devoted her life to public service across education, arts &amp;amp; economic dev - our city is better for it. https://t.co/5S0w6MT1SU</td>\n",
       "      <td>NYCMayor</td>\n",
       "      <td>[0.0256400648246, 0.061913493024, 0.0438202859871, 0.0782232016015, 0.0966586265688, 0.310942884703, 0.176623143831, 0.0892034628986, 0.0547670721807, 0.0622077643812]</td>\n",
       "      <td>MikeBloomberg</td>\n",
       "      <td>[0.00607304205265, 0.0106406458358, 0.00851013990996, 0.0146151362603, 0.878407858592, 0.0187167606485, 0.0225574608769, 0.0188479523211, 0.00999396763831, 0.0116370358644]</td>\n",
       "      <td>MikeBloomberg</td>\n",
       "      <td>0.781749</td>\n",
       "      <td>MikeBloomberg</td>\n",
       "      <td>0.781749</td>\n",
       "    </tr>\n",
       "    <tr>\n",
       "      <th>327</th>\n",
       "      <td>Great to meet you too! MT @MayorLevine: Had the pleasure of meeting @MikeBloomberg! Great Mayor, philanthropist, &amp;amp; entrepreneur #CityLab2014</td>\n",
       "      <td>SenJohnMcCain</td>\n",
       "      <td>[0.0291690685381, 0.070435037267, 0.0498515481166, 0.088989553825, 0.138630077417, 0.0496934987497, 0.275706303072, 0.0457139496964, 0.0623050094841, 0.189505953834]</td>\n",
       "      <td>MikeBloomberg</td>\n",
       "      <td>[0.00428858398751, 0.00751407662791, 0.00600958291296, 0.010320731982, 0.890166641423, 0.0058628221732, 0.0159293422764, 0.00496149125649, 0.00705741360157, 0.047889313759]</td>\n",
       "      <td>MikeBloomberg</td>\n",
       "      <td>0.751537</td>\n",
       "      <td>MikeBloomberg</td>\n",
       "      <td>0.751537</td>\n",
       "    </tr>\n",
       "    <tr>\n",
       "      <th>3957</th>\n",
       "      <td>Joining @MarosSefcovic &amp;amp; @CFigueres to announce that city leaders from all regions of the world will join the… https://t.co/N7gyWXwr5q</td>\n",
       "      <td>newtgingrich</td>\n",
       "      <td>[0.0296873510873, 0.0716865428001, 0.0507373215998, 0.090570740168, 0.0993537773996, 0.126562662612, 0.169325143361, 0.0465262054032, 0.243522990655, 0.0720272649144]</td>\n",
       "      <td>MikeBloomberg</td>\n",
       "      <td>[0.00892481903696, 0.0156372766231, 0.0125063284623, 0.0214781068849, 0.846083604078, 0.0201062143997, 0.033149985545, 0.0103251823321, 0.0146869315015, 0.0171015511364]</td>\n",
       "      <td>MikeBloomberg</td>\n",
       "      <td>0.746730</td>\n",
       "      <td>MikeBloomberg</td>\n",
       "      <td>0.746730</td>\n",
       "    </tr>\n",
       "    <tr>\n",
       "      <th>2966</th>\n",
       "      <td>EpiPens can be the difference between life and death. There's no justification for these price hikes. https://t.co/O6RbVR6Qim -H</td>\n",
       "      <td>KellyannePolls</td>\n",
       "      <td>[0.0518218294922, 0.125135037712, 0.0885663669049, 0.141485818473, 0.0618230795696, 0.10311963217, 0.086103271395, 0.105523953781, 0.11069121298, 0.125729797522]</td>\n",
       "      <td>HillaryClinton</td>\n",
       "      <td>[0.0120923429915, 0.022341323188, 0.826190403599, 0.0244779372033, 0.0202651525498, 0.0177478628413, 0.0146463460841, 0.02390599083, 0.0198994973985, 0.0184331433149]</td>\n",
       "      <td>HillaryClinton</td>\n",
       "      <td>0.737624</td>\n",
       "      <td>HillaryClinton</td>\n",
       "      <td>0.737624</td>\n",
       "    </tr>\n",
       "  </tbody>\n",
       "</table>\n",
       "</div>"
      ],
      "text/plain": [
       "                                                                                                                                                 Tweet  \\\n",
       "530                            Headed to @foxnews now. Will discuss tonight's results on @FoxBusiness at 9:30pET and on FNC at 10pET with @seanhannity   \n",
       "2265  Helen Marshall devoted her life to public service across education, arts &amp; economic dev - our city is better for it. https://t.co/5S0w6MT1SU   \n",
       "327   Great to meet you too! MT @MayorLevine: Had the pleasure of meeting @MikeBloomberg! Great Mayor, philanthropist, &amp; entrepreneur #CityLab2014   \n",
       "3957        Joining @MarosSefcovic &amp; @CFigueres to announce that city leaders from all regions of the world will join the… https://t.co/N7gyWXwr5q   \n",
       "2966                  EpiPens can be the difference between life and death. There's no justification for these price hikes. https://t.co/O6RbVR6Qim -H   \n",
       "\n",
       "          TF-IDF Pred  \\\n",
       "530   GovMikeHuckabee   \n",
       "2265         NYCMayor   \n",
       "327     SenJohnMcCain   \n",
       "3957     newtgingrich   \n",
       "2966   KellyannePolls   \n",
       "\n",
       "                                                                                                                                                                 TF-IDF Probs  \\\n",
       "530   [0.0380179639082, 0.351497065478, 0.0649747987184, 0.103798009313, 0.0453551646248, 0.0756514868826, 0.063167801993, 0.0774153654093, 0.0878833982086, 0.0922389454643]   \n",
       "2265  [0.0256400648246, 0.061913493024, 0.0438202859871, 0.0782232016015, 0.0966586265688, 0.310942884703, 0.176623143831, 0.0892034628986, 0.0547670721807, 0.0622077643812]   \n",
       "327     [0.0291690685381, 0.070435037267, 0.0498515481166, 0.088989553825, 0.138630077417, 0.0496934987497, 0.275706303072, 0.0457139496964, 0.0623050094841, 0.189505953834]   \n",
       "3957   [0.0296873510873, 0.0716865428001, 0.0507373215998, 0.090570740168, 0.0993537773996, 0.126562662612, 0.169325143361, 0.0465262054032, 0.243522990655, 0.0720272649144]   \n",
       "2966        [0.0518218294922, 0.125135037712, 0.0885663669049, 0.141485818473, 0.0618230795696, 0.10311963217, 0.086103271395, 0.105523953781, 0.11069121298, 0.125729797522]   \n",
       "\n",
       "          SpaCy Pred  \\\n",
       "530     newtgingrich   \n",
       "2265   MikeBloomberg   \n",
       "327    MikeBloomberg   \n",
       "3957   MikeBloomberg   \n",
       "2966  HillaryClinton   \n",
       "\n",
       "                                                                                                                                                                             SpaCy Probs  \\\n",
       "530   [0.00219746946972, 0.00749709539018, 0.00307930893167, 0.00444822973711, 0.00306444432722, 0.00322521340769, 0.00266159324007, 0.00329750979313, 0.966546851612, 0.00398228409078]   \n",
       "2265        [0.00607304205265, 0.0106406458358, 0.00851013990996, 0.0146151362603, 0.878407858592, 0.0187167606485, 0.0225574608769, 0.0188479523211, 0.00999396763831, 0.0116370358644]   \n",
       "327         [0.00428858398751, 0.00751407662791, 0.00600958291296, 0.010320731982, 0.890166641423, 0.0058628221732, 0.0159293422764, 0.00496149125649, 0.00705741360157, 0.047889313759]   \n",
       "3957           [0.00892481903696, 0.0156372766231, 0.0125063284623, 0.0214781068849, 0.846083604078, 0.0201062143997, 0.033149985545, 0.0103251823321, 0.0146869315015, 0.0171015511364]   \n",
       "2966              [0.0120923429915, 0.022341323188, 0.826190403599, 0.0244779372033, 0.0202651525498, 0.0177478628413, 0.0146463460841, 0.02390599083, 0.0198994973985, 0.0184331433149]   \n",
       "\n",
       "              Author  Max Prob Change Max Prob Change Author  \\\n",
       "530     newtgingrich         0.878663           newtgingrich   \n",
       "2265   MikeBloomberg         0.781749          MikeBloomberg   \n",
       "327    MikeBloomberg         0.751537          MikeBloomberg   \n",
       "3957   MikeBloomberg         0.746730          MikeBloomberg   \n",
       "2966  HillaryClinton         0.737624         HillaryClinton   \n",
       "\n",
       "      Prob Change True Author  \n",
       "530                  0.878663  \n",
       "2265                 0.781749  \n",
       "327                  0.751537  \n",
       "3957                 0.746730  \n",
       "2966                 0.737624  "
      ]
     },
     "execution_count": 152,
     "metadata": {},
     "output_type": "execute_result"
    }
   ],
   "source": [
    "#Top instances where spaCy moved significantly toward the correct author\n",
    "\n",
    "(comparison[\n",
    "              \n",
    "              (comparison['Max Prob Change Author'] == comparison['Author']) \n",
    "            & (comparison['Max Prob Change'] > 0)\n",
    "           ]\n",
    ").sort_values(by = 'Max Prob Change', ascending = False).head(5)"
   ]
  },
  {
   "cell_type": "code",
   "execution_count": 160,
   "metadata": {},
   "outputs": [
    {
     "data": {
      "text/html": [
       "<div>\n",
       "<style>\n",
       "    .dataframe thead tr:only-child th {\n",
       "        text-align: right;\n",
       "    }\n",
       "\n",
       "    .dataframe thead th {\n",
       "        text-align: left;\n",
       "    }\n",
       "\n",
       "    .dataframe tbody tr th {\n",
       "        vertical-align: top;\n",
       "    }\n",
       "</style>\n",
       "<table border=\"1\" class=\"dataframe\">\n",
       "  <thead>\n",
       "    <tr style=\"text-align: right;\">\n",
       "      <th></th>\n",
       "      <th>Author</th>\n",
       "      <th>Better</th>\n",
       "      <th>Worse</th>\n",
       "      <th>Total</th>\n",
       "    </tr>\n",
       "  </thead>\n",
       "  <tbody>\n",
       "    <tr>\n",
       "      <th>0</th>\n",
       "      <td>BarackObama</td>\n",
       "      <td>159.0</td>\n",
       "      <td>340.0</td>\n",
       "      <td>499.0</td>\n",
       "    </tr>\n",
       "    <tr>\n",
       "      <th>1</th>\n",
       "      <td>GovMikeHuckabee</td>\n",
       "      <td>222.0</td>\n",
       "      <td>323.0</td>\n",
       "      <td>545.0</td>\n",
       "    </tr>\n",
       "    <tr>\n",
       "      <th>2</th>\n",
       "      <td>HillaryClinton</td>\n",
       "      <td>259.0</td>\n",
       "      <td>303.0</td>\n",
       "      <td>562.0</td>\n",
       "    </tr>\n",
       "    <tr>\n",
       "      <th>3</th>\n",
       "      <td>KellyannePolls</td>\n",
       "      <td>180.0</td>\n",
       "      <td>310.0</td>\n",
       "      <td>490.0</td>\n",
       "    </tr>\n",
       "    <tr>\n",
       "      <th>4</th>\n",
       "      <td>MikeBloomberg</td>\n",
       "      <td>219.0</td>\n",
       "      <td>343.0</td>\n",
       "      <td>562.0</td>\n",
       "    </tr>\n",
       "    <tr>\n",
       "      <th>5</th>\n",
       "      <td>NYCMayor</td>\n",
       "      <td>186.0</td>\n",
       "      <td>325.0</td>\n",
       "      <td>511.0</td>\n",
       "    </tr>\n",
       "    <tr>\n",
       "      <th>6</th>\n",
       "      <td>SenJohnMcCain</td>\n",
       "      <td>228.0</td>\n",
       "      <td>308.0</td>\n",
       "      <td>536.0</td>\n",
       "    </tr>\n",
       "    <tr>\n",
       "      <th>7</th>\n",
       "      <td>SenSanders</td>\n",
       "      <td>238.0</td>\n",
       "      <td>303.0</td>\n",
       "      <td>541.0</td>\n",
       "    </tr>\n",
       "    <tr>\n",
       "      <th>8</th>\n",
       "      <td>newtgingrich</td>\n",
       "      <td>242.0</td>\n",
       "      <td>276.0</td>\n",
       "      <td>518.0</td>\n",
       "    </tr>\n",
       "    <tr>\n",
       "      <th>9</th>\n",
       "      <td>realDonaldTrump</td>\n",
       "      <td>197.0</td>\n",
       "      <td>289.0</td>\n",
       "      <td>486.0</td>\n",
       "    </tr>\n",
       "  </tbody>\n",
       "</table>\n",
       "</div>"
      ],
      "text/plain": [
       "            Author  Better  Worse  Total\n",
       "0      BarackObama   159.0  340.0  499.0\n",
       "1  GovMikeHuckabee   222.0  323.0  545.0\n",
       "2   HillaryClinton   259.0  303.0  562.0\n",
       "3   KellyannePolls   180.0  310.0  490.0\n",
       "4    MikeBloomberg   219.0  343.0  562.0\n",
       "5         NYCMayor   186.0  325.0  511.0\n",
       "6    SenJohnMcCain   228.0  308.0  536.0\n",
       "7       SenSanders   238.0  303.0  541.0\n",
       "8     newtgingrich   242.0  276.0  518.0\n",
       "9  realDonaldTrump   197.0  289.0  486.0"
      ]
     },
     "execution_count": 160,
     "metadata": {},
     "output_type": "execute_result"
    }
   ],
   "source": [
    "#Summarize the spaCy tokenizer performance by author\n",
    "\n",
    "better = pd.DataFrame((comparison['Prob Change True Author'] > 0).groupby(comparison.Author).sum())\n",
    "worse = pd.DataFrame((comparison['Prob Change True Author'] <= 0).groupby(comparison.Author).sum())\n",
    "\n",
    "better.columns=['Better']\n",
    "worse.columns=['Worse']\n",
    "\n",
    "better.reset_index(inplace=True)\n",
    "worse.reset_index(inplace=True)\n",
    "\n",
    "overall = pd.merge(better,worse,how='inner', on='Author')\n",
    "overall['Total'] = overall.Better + overall.Worse\n",
    "overall.head(10)"
   ]
  },
  {
   "cell_type": "markdown",
   "metadata": {},
   "source": [
    "Strangely, the spaCy lemma tokenization does not seem to improve classification probabilities for any author or particular type of tweet (no discernable patterns). Due to its slightly worse classification performance on the test set and lack of any other valid reason to proceed with the customized TF-IDF, I will work with the standard TF-IDF tokenizer (vectorizer1) going forward.\n",
    "\n",
    "I also compared tweet clusters using K-Means and LSA, but did not notice any significant difference between the resultant clusters, further strengthening argument to proceed with default TF-IDF.\n"
   ]
  },
  {
   "cell_type": "markdown",
   "metadata": {},
   "source": [
    "# TF-IDF Centroid Approach"
   ]
  },
  {
   "cell_type": "code",
   "execution_count": 18,
   "metadata": {},
   "outputs": [],
   "source": [
    "#What if we calculate the tf-idf centroid for each author using the training set, and find the consine similarity \n",
    "#for each tweet / author-centroid pair. These new features might add some predictive power to our model. Let's try.\n",
    "\n",
    "#We will use the standard TF-IDF approach (rather than the customized spaCy tokenization) due to superior performance\n",
    "\n",
    "X_train, X_test, y_train, y_test = train_test_split(tweet_df['Tweets'], tweet_df['Author'], test_size = 0.25, random_state = 42)\n",
    "\n",
    "X_train_tfidf = vectorizer1.fit_transform(X_train)\n",
    "X_test_tfidf = vectorizer1.transform(X_test)\n",
    "\n",
    "#Find the average (centroid) by author for each item in the train tfidf matrix. Then compare test vectors to the pre-calculated\n",
    "#centroid and return cosine similarity score for each author\n",
    "\n",
    "centroids = []\n",
    "for author in handles:\n",
    "    auth_tweets = []\n",
    "    for tweet, auth in zip(X_train_tfidf.toarray(), y_train):\n",
    "        if auth == author:\n",
    "            auth_tweets.append(tweet)\n",
    "    #Now take the average of the tf-idf rows for this author\n",
    "    centroids.append([np.mean(auth_tweets, axis = 0), author])"
   ]
  },
  {
   "cell_type": "code",
   "execution_count": 19,
   "metadata": {
    "collapsed": true
   },
   "outputs": [],
   "source": [
    "#Compute the similarity scores for the train set first\n",
    "\n",
    "centroid_sim_train = pd.DataFrame(columns = handles)\n",
    "\n",
    "for i, vector in enumerate(X_train_tfidf.toarray()):\n",
    "    for cen, author in centroids:\n",
    "        centroid_sim_train.loc[i, author] = cosine_similarity(vector, cen)\n",
    "        \n",
    "#Do the same for the test set\n",
    "\n",
    "centroid_sim_test = pd.DataFrame(columns = handles)\n",
    "\n",
    "for i, vector in enumerate(X_test_tfidf.toarray()):\n",
    "    for cen, author in centroids:\n",
    "        centroid_sim_test.loc[i, author] = cosine_similarity(vector, cen)"
   ]
  },
  {
   "cell_type": "code",
   "execution_count": 74,
   "metadata": {},
   "outputs": [
    {
     "name": "stdout",
     "output_type": "stream",
     "text": [
      "Training set score: 0.991492063492\n",
      "\n",
      "Test set score: 0.656761904762\n"
     ]
    }
   ],
   "source": [
    "#Now feed these features back into the Random Forest model\n",
    "\n",
    "X_train_new = pd.concat([pd.DataFrame(X_train_tfidf.toarray()), centroid_sim_train], axis = 1)\n",
    "X_test_new = pd.concat([pd.DataFrame(X_test_tfidf.toarray()), centroid_sim_test], axis = 1)\n",
    "\n",
    "fit = rfc.fit(X_train_new, y_train)\n",
    "y_pred = rfc.predict(X_test_new)\n",
    "\n",
    "print('Training set score:', rfc.score(X_train_new, y_train))\n",
    "print('\\nTest set score:', rfc.score(X_test_new, y_test))"
   ]
  },
  {
   "cell_type": "markdown",
   "metadata": {},
   "source": [
    "The new features appear to have helped the Random Forest model a bit here (we saw 64.5% accuracy without using these features above)... let's check to see if GBM does any better."
   ]
  },
  {
   "cell_type": "code",
   "execution_count": 75,
   "metadata": {},
   "outputs": [
    {
     "name": "stdout",
     "output_type": "stream",
     "text": [
      "Training set score: 0.830920634921\n",
      "\n",
      "Test set score: 0.700380952381\n"
     ]
    }
   ],
   "source": [
    "#Try a GBM classifier using the TF-IDF CENTROID approach above\n",
    "\n",
    "clf = ensemble.GradientBoostingClassifier()\n",
    "train = clf.fit(X_train_new, y_train)\n",
    "y_pred = clf.predict(X_test_new)\n",
    "y_pred_prob = clf.predict_proba(X_test_new)\n",
    "\n",
    "print('Training set score:', clf.score(X_train_new, y_train))\n",
    "print('\\nTest set score:', clf.score(X_test_new, y_test))"
   ]
  },
  {
   "cell_type": "markdown",
   "metadata": {},
   "source": [
    "Voila! The model accuracy is up to 70%! Let's move on to clustering for now. Later, I will optimize and cross-validate the results to produce the best model."
   ]
  },
  {
   "cell_type": "code",
   "execution_count": 76,
   "metadata": {},
   "outputs": [
    {
     "data": {
      "text/plain": [
       "<matplotlib.axes._subplots.AxesSubplot at 0x1ddb5b1a320>"
      ]
     },
     "execution_count": 76,
     "metadata": {},
     "output_type": "execute_result"
    },
    {
     "data": {
      "image/png": "[encoded data removed]",
      "text/plain": [
       "<matplotlib.figure.Figure at 0x1ddb5b3a588>"
      ]
     },
     "metadata": {},
     "output_type": "display_data"
    }
   ],
   "source": [
    "#Confusion matrix for TF-IDF centroid approach (using GBM model)\n",
    "\n",
    "conf = confusion_matrix(y_test, y_pred, labels = handles)\n",
    "\n",
    "df_cm = pd.DataFrame(conf, index = [i for i in handles],\n",
    "                  columns = [i for i in handles])\n",
    "plt.figure(figsize = (15,7))\n",
    "plt.title('Confusion Matrix for TF-IDF Centroid Approarch (standard tokenization)')\n",
    "sns.heatmap(df_cm, annot=True, cmap=\"Blues\", fmt = 'd')"
   ]
  },
  {
   "cell_type": "markdown",
   "metadata": {},
   "source": [
    "At this point, we have a rudimentary supervised model that is able to correctly classify ~70% of the tweets in the test set. Before beginning testing alternate supervised models (SVC, KNN, Neural Networks, etc) and optimizing to improve accuracy, I will implement some unsuperivsed clustering algorithms to explore how authors are typically clustered, and determine if these clusters can be used as features to improve this model.\n",
    "\n",
    "Following that, I will explore different dimensionality reduction techniques (Latent Semantic Analysis [LSA, which uses PCA], Latent Dirichlet Allocation [LDA, which is probabalistic]) with the hopes of identifying topics. One of LDA's drawbacks is that you must specify the number of topics beforehand. Perhaps we can use some unsupervised clustering algorithm to find a number of topics that makes sense. \n"
   ]
  },
  {
   "cell_type": "markdown",
   "metadata": {},
   "source": [
    "# Unsupervised Clustering Using K-Means (MiniBatch): High Dimensional Data"
   ]
  },
  {
   "cell_type": "markdown",
   "metadata": {},
   "source": [
    "Based on trial-and-error techinques, it was determined that a smaller number of clusters made more sense from a feature generation standpoint. With true_k set to 25, we had \"topics\" seemingly generated around individual words like 'day' or 'year' which would obviously not add much value in terms of predicting the author of the tweet. \n",
    "\n",
    "With true_k set equal to 10, we did see some meaningful topics generated."
   ]
  },
  {
   "cell_type": "code",
   "execution_count": 243,
   "metadata": {},
   "outputs": [
    {
     "name": "stdout",
     "output_type": "stream",
     "text": [
      "Clustering sparse data with MiniBatchKMeans(batch_size=5000, compute_labels=True, init='k-means++',\n",
      "        init_size=None, max_iter=100, max_no_improvement=10, n_clusters=10,\n",
      "        n_init=3, random_state=None, reassignment_ratio=0.01, tol=0.0,\n",
      "        verbose=0)\n",
      "Done in 0.779s\n",
      "\n",
      "Homogeneity: 0.146\n",
      "Completeness: 0.201\n",
      "V-measure: 0.169\n",
      "Adjusted Rand-Index: 0.043\n",
      "Silhouette Coefficient: 0.007\n"
     ]
    }
   ],
   "source": [
    "#Let's keep our data in high dimensional form first, to see what (if any) insights we can gain from clustering.\n",
    "\n",
    "#Try K-Means MiniBatch (K-Means is very resource intensive for high dimnesional data) and assume 10 clusters to begin with\n",
    "\n",
    "#Create normalized version of full dataset (we don't need to reserve any for training, we just want to cluster for now)\n",
    "\n",
    "#Normalize the data to the unit vector. Should we normalize by row or column? Normalize by row - gives a better representation of tweet composition. Likely more meaningful than the relative freq magnitude\n",
    "#of each word relative to that word's frequencies in all tweets\n",
    "\n",
    "X = tweet_df['Tweets']\n",
    "X_norm_tfidf = normalize(vectorizer1.fit_transform(X))\n",
    "\n",
    "true_k = 10\n",
    "labels = y\n",
    "km = MiniBatchKMeans(n_clusters=true_k, init='k-means++', batch_size=5000)\n",
    "\n",
    "print(\"Clustering sparse data with %s\" % km)\n",
    "t0 = time()\n",
    "km.fit(X_norm_tfidf)\n",
    "mini_labels = km.labels_\n",
    "print(\"Done in %0.3fs\" % (time() - t0))\n",
    "print()\n",
    "print(\"Homogeneity: %0.3f\" % metrics.homogeneity_score(labels, km.labels_))\n",
    "print(\"Completeness: %0.3f\" % metrics.completeness_score(labels, km.labels_))\n",
    "print(\"V-measure: %0.3f\" % metrics.v_measure_score(labels, km.labels_))\n",
    "print(\"Adjusted Rand-Index: %.3f\"\n",
    "      % metrics.adjusted_rand_score(labels, km.labels_))\n",
    "print(\"Silhouette Coefficient: %0.3f\"\n",
    "      % metrics.silhouette_score(X_norm_tfidf, km.labels_, sample_size=5000))"
   ]
  },
  {
   "cell_type": "code",
   "execution_count": 244,
   "metadata": {
    "collapsed": true
   },
   "outputs": [],
   "source": [
    "tweet_df['MiniBatchLabels'] = mini_labels"
   ]
  },
  {
   "cell_type": "code",
   "execution_count": 245,
   "metadata": {},
   "outputs": [
    {
     "name": "stdout",
     "output_type": "stream",
     "text": [
      "Cluster: 0\n",
      "                 Tweets  MiniBatchLabels\n",
      "Author                                  \n",
      "BarackObama         600              600\n",
      "GovMikeHuckabee    1466             1466\n",
      "HillaryClinton     1382             1382\n",
      "KellyannePolls     1483             1483\n",
      "MikeBloomberg       637              637\n",
      "NYCMayor           1062             1062\n",
      "SenJohnMcCain      1076             1076\n",
      "SenSanders         1358             1358\n",
      "newtgingrich        938              938\n",
      "realDonaldTrump    1032             1032\n",
      "\n",
      "Cluster: 1\n",
      "                 Tweets  MiniBatchLabels\n",
      "Author                                  \n",
      "BarackObama         436              436\n",
      "GovMikeHuckabee      40               40\n",
      "MikeBloomberg       861              861\n",
      "newtgingrich          2                2\n",
      "\n",
      "Cluster: 2\n",
      "                 Tweets  MiniBatchLabels\n",
      "Author                                  \n",
      "BarackObama          56               56\n",
      "GovMikeHuckabee     121              121\n",
      "HillaryClinton      205              205\n",
      "KellyannePolls       74               74\n",
      "MikeBloomberg       115              115\n",
      "NYCMayor            160              160\n",
      "SenJohnMcCain       134              134\n",
      "SenSanders          478              478\n",
      "newtgingrich        150              150\n",
      "realDonaldTrump     364              364\n",
      "\n",
      "Cluster: 3\n",
      "                 Tweets  MiniBatchLabels\n",
      "Author                                  \n",
      "BarackObama         797              797\n",
      "GovMikeHuckabee      48               48\n",
      "HillaryClinton      171              171\n",
      "KellyannePolls       40               40\n",
      "MikeBloomberg        13               13\n",
      "NYCMayor             69               69\n",
      "SenJohnMcCain        44               44\n",
      "SenSanders           90               90\n",
      "newtgingrich         80               80\n",
      "realDonaldTrump      95               95\n",
      "\n",
      "Cluster: 4\n",
      "                 Tweets  MiniBatchLabels\n",
      "Author                                  \n",
      "BarackObama           4                4\n",
      "GovMikeHuckabee     189              189\n",
      "HillaryClinton       62               62\n",
      "KellyannePolls      286              286\n",
      "MikeBloomberg       298              298\n",
      "NYCMayor             52               52\n",
      "SenJohnMcCain       619              619\n",
      "SenSanders           31               31\n",
      "newtgingrich        146              146\n",
      "realDonaldTrump     251              251\n",
      "\n",
      "Cluster: 5\n",
      "                 Tweets  MiniBatchLabels\n",
      "Author                                  \n",
      "BarackObama           3                3\n",
      "GovMikeHuckabee      11               11\n",
      "HillaryClinton       53               53\n",
      "KellyannePolls        2                2\n",
      "MikeBloomberg         2                2\n",
      "NYCMayor             21               21\n",
      "SenJohnMcCain        76               76\n",
      "SenSanders           27               27\n",
      "newtgingrich        481              481\n",
      "realDonaldTrump      22               22\n",
      "\n",
      "Cluster: 6\n",
      "                 Tweets  MiniBatchLabels\n",
      "Author                                  \n",
      "BarackObama         162              162\n",
      "GovMikeHuckabee      19               19\n",
      "HillaryClinton      147              147\n",
      "KellyannePolls       25               25\n",
      "MikeBloomberg         2                2\n",
      "NYCMayor              9                9\n",
      "SenJohnMcCain        25               25\n",
      "SenSanders           50               50\n",
      "newtgingrich         24               24\n",
      "realDonaldTrump      67               67\n",
      "\n",
      "Cluster: 7\n",
      "                 Tweets  MiniBatchLabels\n",
      "Author                                  \n",
      "BarackObama          18               18\n",
      "GovMikeHuckabee      98               98\n",
      "HillaryClinton       52               52\n",
      "KellyannePolls      119              119\n",
      "MikeBloomberg        60               60\n",
      "NYCMayor             26               26\n",
      "SenJohnMcCain        31               31\n",
      "SenSanders           43               43\n",
      "newtgingrich         92               92\n",
      "realDonaldTrump     200              200\n",
      "\n",
      "Cluster: 8\n",
      "                 Tweets  MiniBatchLabels\n",
      "Author                                  \n",
      "GovMikeHuckabee      69               69\n",
      "HillaryClinton        1                1\n",
      "KellyannePolls       27               27\n",
      "MikeBloomberg        10               10\n",
      "SenJohnMcCain        46               46\n",
      "newtgingrich        111              111\n",
      "realDonaldTrump      10               10\n",
      "\n",
      "Cluster: 9\n",
      "                 Tweets  MiniBatchLabels\n",
      "Author                                  \n",
      "BarackObama          24               24\n",
      "GovMikeHuckabee      39               39\n",
      "HillaryClinton       27               27\n",
      "KellyannePolls       44               44\n",
      "MikeBloomberg       102              102\n",
      "NYCMayor            701              701\n",
      "SenJohnMcCain        49               49\n",
      "SenSanders           23               23\n",
      "newtgingrich         76               76\n",
      "realDonaldTrump      59               59\n",
      "\n"
     ]
    }
   ],
   "source": [
    "for label in set(mini_labels):\n",
    "    print('Cluster: %d' % label)\n",
    "    print(tweet_df[tweet_df.MiniBatchLabels == label].groupby('Author').count())\n",
    "    print('')"
   ]
  },
  {
   "cell_type": "markdown",
   "metadata": {},
   "source": [
    "# K-Means MiniBatch Discussion\n",
    "\n",
    "Let's take a look at some of these clusters and determine whether or not they make sense! Using full dataset for now."
   ]
  },
  {
   "cell_type": "code",
   "execution_count": 246,
   "metadata": {},
   "outputs": [
    {
     "data": {
      "text/html": [
       "<div>\n",
       "<style>\n",
       "    .dataframe thead tr:only-child th {\n",
       "        text-align: right;\n",
       "    }\n",
       "\n",
       "    .dataframe thead th {\n",
       "        text-align: left;\n",
       "    }\n",
       "\n",
       "    .dataframe tbody tr th {\n",
       "        vertical-align: top;\n",
       "    }\n",
       "</style>\n",
       "<table border=\"1\" class=\"dataframe\">\n",
       "  <thead>\n",
       "    <tr style=\"text-align: right;\">\n",
       "      <th></th>\n",
       "      <th>Tweets</th>\n",
       "      <th>Author</th>\n",
       "      <th>MiniBatchLabels</th>\n",
       "    </tr>\n",
       "  </thead>\n",
       "  <tbody>\n",
       "    <tr>\n",
       "      <th>10535</th>\n",
       "      <td>Let's keep working to keep our economy on a be...</td>\n",
       "      <td>BarackObama</td>\n",
       "      <td>0</td>\n",
       "    </tr>\n",
       "    <tr>\n",
       "      <th>3943</th>\n",
       "      <td>Trump famously posted an anti-Semitic graphic ...</td>\n",
       "      <td>HillaryClinton</td>\n",
       "      <td>0</td>\n",
       "    </tr>\n",
       "    <tr>\n",
       "      <th>1324</th>\n",
       "      <td>If Chicago doesn't fix the horrible \"carnage\" ...</td>\n",
       "      <td>realDonaldTrump</td>\n",
       "      <td>0</td>\n",
       "    </tr>\n",
       "    <tr>\n",
       "      <th>18464</th>\n",
       "      <td>This brings the #DNC head-roll to 4 in the wak...</td>\n",
       "      <td>KellyannePolls</td>\n",
       "      <td>0</td>\n",
       "    </tr>\n",
       "    <tr>\n",
       "      <th>10061</th>\n",
       "      <td>We don't elect kings, we elect servants. #GOPD...</td>\n",
       "      <td>GovMikeHuckabee</td>\n",
       "      <td>0</td>\n",
       "    </tr>\n",
       "    <tr>\n",
       "      <th>17373</th>\n",
       "      <td>#poll shows majority of Americans optimistic a...</td>\n",
       "      <td>KellyannePolls</td>\n",
       "      <td>0</td>\n",
       "    </tr>\n",
       "    <tr>\n",
       "      <th>6394</th>\n",
       "      <td>Here's what Trump and corporate CEOs don't wan...</td>\n",
       "      <td>SenSanders</td>\n",
       "      <td>0</td>\n",
       "    </tr>\n",
       "    <tr>\n",
       "      <th>19698</th>\n",
       "      <td>Officer Veve remains in critical condition. Bu...</td>\n",
       "      <td>NYCMayor</td>\n",
       "      <td>0</td>\n",
       "    </tr>\n",
       "    <tr>\n",
       "      <th>13886</th>\n",
       "      <td>EU arttack on Apple good example of need for T...</td>\n",
       "      <td>newtgingrich</td>\n",
       "      <td>0</td>\n",
       "    </tr>\n",
       "    <tr>\n",
       "      <th>9151</th>\n",
       "      <td>I will be in DFW @LifeTodayTV 2/28 @ 7PM.  Joi...</td>\n",
       "      <td>GovMikeHuckabee</td>\n",
       "      <td>0</td>\n",
       "    </tr>\n",
       "    <tr>\n",
       "      <th>18405</th>\n",
       "      <td>Drip. Drip. Drip.  https://t.co/B2eI230QQ7</td>\n",
       "      <td>KellyannePolls</td>\n",
       "      <td>0</td>\n",
       "    </tr>\n",
       "    <tr>\n",
       "      <th>8427</th>\n",
       "      <td>Q for HRC per \"What Happened?\": If 32+ factors...</td>\n",
       "      <td>GovMikeHuckabee</td>\n",
       "      <td>0</td>\n",
       "    </tr>\n",
       "    <tr>\n",
       "      <th>1544</th>\n",
       "      <td>Has anyone looked at the really poor numbers o...</td>\n",
       "      <td>realDonaldTrump</td>\n",
       "      <td>0</td>\n",
       "    </tr>\n",
       "    <tr>\n",
       "      <th>8025</th>\n",
       "      <td>Corporate profits stashed overseas cost the U....</td>\n",
       "      <td>SenSanders</td>\n",
       "      <td>0</td>\n",
       "    </tr>\n",
       "    <tr>\n",
       "      <th>19770</th>\n",
       "      <td>Our week #inTheBronx wouldn't be complete with...</td>\n",
       "      <td>NYCMayor</td>\n",
       "      <td>0</td>\n",
       "    </tr>\n",
       "    <tr>\n",
       "      <th>17795</th>\n",
       "      <td>This is pathetic. And some of these voters see...</td>\n",
       "      <td>KellyannePolls</td>\n",
       "      <td>0</td>\n",
       "    </tr>\n",
       "    <tr>\n",
       "      <th>6442</th>\n",
       "      <td>The reality is fraud is the business model of ...</td>\n",
       "      <td>SenSanders</td>\n",
       "      <td>0</td>\n",
       "    </tr>\n",
       "    <tr>\n",
       "      <th>13292</th>\n",
       "      <td>Sworn is as speaker of the 105th Congress 20 y...</td>\n",
       "      <td>newtgingrich</td>\n",
       "      <td>0</td>\n",
       "    </tr>\n",
       "    <tr>\n",
       "      <th>18299</th>\n",
       "      <td>FancySchmancy! Can't she just debate the issue...</td>\n",
       "      <td>KellyannePolls</td>\n",
       "      <td>0</td>\n",
       "    </tr>\n",
       "    <tr>\n",
       "      <th>3672</th>\n",
       "      <td>\"Can I just say, I am really into electing Hil...</td>\n",
       "      <td>HillaryClinton</td>\n",
       "      <td>0</td>\n",
       "    </tr>\n",
       "    <tr>\n",
       "      <th>18992</th>\n",
       "      <td>This is what compassion looks like, Steve Bann...</td>\n",
       "      <td>NYCMayor</td>\n",
       "      <td>0</td>\n",
       "    </tr>\n",
       "    <tr>\n",
       "      <th>8644</th>\n",
       "      <td>Ratings-wise, “CNN” now stands for “Cratering ...</td>\n",
       "      <td>GovMikeHuckabee</td>\n",
       "      <td>0</td>\n",
       "    </tr>\n",
       "    <tr>\n",
       "      <th>9267</th>\n",
       "      <td>Event I'm doing in Jerusalem tonight.     http...</td>\n",
       "      <td>GovMikeHuckabee</td>\n",
       "      <td>0</td>\n",
       "    </tr>\n",
       "    <tr>\n",
       "      <th>1527</th>\n",
       "      <td>Today there were terror attacks in Turkey, Swi...</td>\n",
       "      <td>realDonaldTrump</td>\n",
       "      <td>0</td>\n",
       "    </tr>\n",
       "    <tr>\n",
       "      <th>6399</th>\n",
       "      <td>Thank you to all the courageous individuals wh...</td>\n",
       "      <td>SenSanders</td>\n",
       "      <td>0</td>\n",
       "    </tr>\n",
       "  </tbody>\n",
       "</table>\n",
       "</div>"
      ],
      "text/plain": [
       "                                                  Tweets           Author  \\\n",
       "10535  Let's keep working to keep our economy on a be...      BarackObama   \n",
       "3943   Trump famously posted an anti-Semitic graphic ...   HillaryClinton   \n",
       "1324   If Chicago doesn't fix the horrible \"carnage\" ...  realDonaldTrump   \n",
       "18464  This brings the #DNC head-roll to 4 in the wak...   KellyannePolls   \n",
       "10061  We don't elect kings, we elect servants. #GOPD...  GovMikeHuckabee   \n",
       "17373  #poll shows majority of Americans optimistic a...   KellyannePolls   \n",
       "6394   Here's what Trump and corporate CEOs don't wan...       SenSanders   \n",
       "19698  Officer Veve remains in critical condition. Bu...         NYCMayor   \n",
       "13886  EU arttack on Apple good example of need for T...     newtgingrich   \n",
       "9151   I will be in DFW @LifeTodayTV 2/28 @ 7PM.  Joi...  GovMikeHuckabee   \n",
       "18405         Drip. Drip. Drip.  https://t.co/B2eI230QQ7   KellyannePolls   \n",
       "8427   Q for HRC per \"What Happened?\": If 32+ factors...  GovMikeHuckabee   \n",
       "1544   Has anyone looked at the really poor numbers o...  realDonaldTrump   \n",
       "8025   Corporate profits stashed overseas cost the U....       SenSanders   \n",
       "19770  Our week #inTheBronx wouldn't be complete with...         NYCMayor   \n",
       "17795  This is pathetic. And some of these voters see...   KellyannePolls   \n",
       "6442   The reality is fraud is the business model of ...       SenSanders   \n",
       "13292  Sworn is as speaker of the 105th Congress 20 y...     newtgingrich   \n",
       "18299  FancySchmancy! Can't she just debate the issue...   KellyannePolls   \n",
       "3672   \"Can I just say, I am really into electing Hil...   HillaryClinton   \n",
       "18992  This is what compassion looks like, Steve Bann...         NYCMayor   \n",
       "8644   Ratings-wise, “CNN” now stands for “Cratering ...  GovMikeHuckabee   \n",
       "9267   Event I'm doing in Jerusalem tonight.     http...  GovMikeHuckabee   \n",
       "1527   Today there were terror attacks in Turkey, Swi...  realDonaldTrump   \n",
       "6399   Thank you to all the courageous individuals wh...       SenSanders   \n",
       "\n",
       "       MiniBatchLabels  \n",
       "10535                0  \n",
       "3943                 0  \n",
       "1324                 0  \n",
       "18464                0  \n",
       "10061                0  \n",
       "17373                0  \n",
       "6394                 0  \n",
       "19698                0  \n",
       "13886                0  \n",
       "9151                 0  \n",
       "18405                0  \n",
       "8427                 0  \n",
       "1544                 0  \n",
       "8025                 0  \n",
       "19770                0  \n",
       "17795                0  \n",
       "6442                 0  \n",
       "13292                0  \n",
       "18299                0  \n",
       "3672                 0  \n",
       "18992                0  \n",
       "8644                 0  \n",
       "9267                 0  \n",
       "1527                 0  \n",
       "6399                 0  "
      ]
     },
     "execution_count": 246,
     "metadata": {},
     "output_type": "execute_result"
    }
   ],
   "source": [
    "#Let's check Cluster 0 - the largest, and likely a catch-all for tweets that did not fall into other clusters\n",
    "shuffle(tweet_df[tweet_df.MiniBatchLabels == 0]).head(25)"
   ]
  },
  {
   "cell_type": "code",
   "execution_count": 247,
   "metadata": {
    "scrolled": true
   },
   "outputs": [
    {
     "data": {
      "text/html": [
       "<div>\n",
       "<style>\n",
       "    .dataframe thead tr:only-child th {\n",
       "        text-align: right;\n",
       "    }\n",
       "\n",
       "    .dataframe thead th {\n",
       "        text-align: left;\n",
       "    }\n",
       "\n",
       "    .dataframe tbody tr th {\n",
       "        vertical-align: top;\n",
       "    }\n",
       "</style>\n",
       "<table border=\"1\" class=\"dataframe\">\n",
       "  <thead>\n",
       "    <tr style=\"text-align: right;\">\n",
       "      <th></th>\n",
       "      <th>Tweets</th>\n",
       "      <th>Author</th>\n",
       "      <th>MiniBatchLabels</th>\n",
       "    </tr>\n",
       "  </thead>\n",
       "  <tbody>\n",
       "    <tr>\n",
       "      <th>11911</th>\n",
       "      <td>WATCH: We only get one planet—that's why it's ...</td>\n",
       "      <td>BarackObama</td>\n",
       "      <td>1</td>\n",
       "    </tr>\n",
       "    <tr>\n",
       "      <th>12222</th>\n",
       "      <td>Read why #CleanWaterRules are essential to pre...</td>\n",
       "      <td>BarackObama</td>\n",
       "      <td>1</td>\n",
       "    </tr>\n",
       "    <tr>\n",
       "      <th>16416</th>\n",
       "      <td>#TBT to The Gates - one of many favorite #Publ...</td>\n",
       "      <td>MikeBloomberg</td>\n",
       "      <td>1</td>\n",
       "    </tr>\n",
       "    <tr>\n",
       "      <th>12496</th>\n",
       "      <td>For real though: http://t.co/mjoOt7YfVz #CanILive</td>\n",
       "      <td>BarackObama</td>\n",
       "      <td>1</td>\n",
       "    </tr>\n",
       "    <tr>\n",
       "      <th>16542</th>\n",
       "      <td>Have big ideas to make the world a better plac...</td>\n",
       "      <td>MikeBloomberg</td>\n",
       "      <td>1</td>\n",
       "    </tr>\n",
       "    <tr>\n",
       "      <th>16562</th>\n",
       "      <td>By the end of this century, 4 out of 10 of the...</td>\n",
       "      <td>MikeBloomberg</td>\n",
       "      <td>1</td>\n",
       "    </tr>\n",
       "    <tr>\n",
       "      <th>12221</th>\n",
       "      <td>A huge step forward in making sure our drinkin...</td>\n",
       "      <td>BarackObama</td>\n",
       "      <td>1</td>\n",
       "    </tr>\n",
       "    <tr>\n",
       "      <th>11683</th>\n",
       "      <td>Our thoughts and prayers are not enough. It's ...</td>\n",
       "      <td>BarackObama</td>\n",
       "      <td>1</td>\n",
       "    </tr>\n",
       "    <tr>\n",
       "      <th>16515</th>\n",
       "      <td>Digital initiatives like #BloombergConnects gi...</td>\n",
       "      <td>MikeBloomberg</td>\n",
       "      <td>1</td>\n",
       "    </tr>\n",
       "    <tr>\n",
       "      <th>12488</th>\n",
       "      <td>Read the President's reply to a high school st...</td>\n",
       "      <td>BarackObama</td>\n",
       "      <td>1</td>\n",
       "    </tr>\n",
       "    <tr>\n",
       "      <th>11732</th>\n",
       "      <td>Watch @Pontifex say why it's so important for ...</td>\n",
       "      <td>BarackObama</td>\n",
       "      <td>1</td>\n",
       "    </tr>\n",
       "    <tr>\n",
       "      <th>16021</th>\n",
       "      <td>.@C40Cities are taking bold steps to address #...</td>\n",
       "      <td>MikeBloomberg</td>\n",
       "      <td>1</td>\n",
       "    </tr>\n",
       "    <tr>\n",
       "      <th>12032</th>\n",
       "      <td>Add your name if you think it's time to #FixOv...</td>\n",
       "      <td>BarackObama</td>\n",
       "      <td>1</td>\n",
       "    </tr>\n",
       "    <tr>\n",
       "      <th>16059</th>\n",
       "      <td>Data &amp;amp; evidence can help #mayors meet citi...</td>\n",
       "      <td>MikeBloomberg</td>\n",
       "      <td>1</td>\n",
       "    </tr>\n",
       "    <tr>\n",
       "      <th>16586</th>\n",
       "      <td>The #GenesisGeneration Challenge will award te...</td>\n",
       "      <td>MikeBloomberg</td>\n",
       "      <td>1</td>\n",
       "    </tr>\n",
       "    <tr>\n",
       "      <th>16329</th>\n",
       "      <td>Which idea from the past 85 years does @BW say...</td>\n",
       "      <td>MikeBloomberg</td>\n",
       "      <td>1</td>\n",
       "    </tr>\n",
       "    <tr>\n",
       "      <th>15794</th>\n",
       "      <td>The 3-year renewal of #BloombergConnects @Tate...</td>\n",
       "      <td>MikeBloomberg</td>\n",
       "      <td>1</td>\n",
       "    </tr>\n",
       "    <tr>\n",
       "      <th>16316</th>\n",
       "      <td>With the exception of my parents, no one had a...</td>\n",
       "      <td>MikeBloomberg</td>\n",
       "      <td>1</td>\n",
       "    </tr>\n",
       "    <tr>\n",
       "      <th>11726</th>\n",
       "      <td>You could win a chance to meet President Obama...</td>\n",
       "      <td>BarackObama</td>\n",
       "      <td>1</td>\n",
       "    </tr>\n",
       "    <tr>\n",
       "      <th>15906</th>\n",
       "      <td>The #FFD3 agreement will help more countries u...</td>\n",
       "      <td>MikeBloomberg</td>\n",
       "      <td>1</td>\n",
       "    </tr>\n",
       "    <tr>\n",
       "      <th>12376</th>\n",
       "      <td>Happy #NationalHighFiveDay! http://t.co/HkSzyr...</td>\n",
       "      <td>BarackObama</td>\n",
       "      <td>1</td>\n",
       "    </tr>\n",
       "    <tr>\n",
       "      <th>12086</th>\n",
       "      <td>Say you'll keep up the fight—show your support...</td>\n",
       "      <td>BarackObama</td>\n",
       "      <td>1</td>\n",
       "    </tr>\n",
       "    <tr>\n",
       "      <th>11943</th>\n",
       "      <td>Check out the President's final appearance on ...</td>\n",
       "      <td>BarackObama</td>\n",
       "      <td>1</td>\n",
       "    </tr>\n",
       "    <tr>\n",
       "      <th>11801</th>\n",
       "      <td>These professional fellows learned skills that...</td>\n",
       "      <td>BarackObama</td>\n",
       "      <td>1</td>\n",
       "    </tr>\n",
       "    <tr>\n",
       "      <th>15916</th>\n",
       "      <td>.@JohnsHopkins' newest Distinguished Professor...</td>\n",
       "      <td>MikeBloomberg</td>\n",
       "      <td>1</td>\n",
       "    </tr>\n",
       "  </tbody>\n",
       "</table>\n",
       "</div>"
      ],
      "text/plain": [
       "                                                  Tweets         Author  \\\n",
       "11911  WATCH: We only get one planet—that's why it's ...    BarackObama   \n",
       "12222  Read why #CleanWaterRules are essential to pre...    BarackObama   \n",
       "16416  #TBT to The Gates - one of many favorite #Publ...  MikeBloomberg   \n",
       "12496  For real though: http://t.co/mjoOt7YfVz #CanILive    BarackObama   \n",
       "16542  Have big ideas to make the world a better plac...  MikeBloomberg   \n",
       "16562  By the end of this century, 4 out of 10 of the...  MikeBloomberg   \n",
       "12221  A huge step forward in making sure our drinkin...    BarackObama   \n",
       "11683  Our thoughts and prayers are not enough. It's ...    BarackObama   \n",
       "16515  Digital initiatives like #BloombergConnects gi...  MikeBloomberg   \n",
       "12488  Read the President's reply to a high school st...    BarackObama   \n",
       "11732  Watch @Pontifex say why it's so important for ...    BarackObama   \n",
       "16021  .@C40Cities are taking bold steps to address #...  MikeBloomberg   \n",
       "12032  Add your name if you think it's time to #FixOv...    BarackObama   \n",
       "16059  Data &amp; evidence can help #mayors meet citi...  MikeBloomberg   \n",
       "16586  The #GenesisGeneration Challenge will award te...  MikeBloomberg   \n",
       "16329  Which idea from the past 85 years does @BW say...  MikeBloomberg   \n",
       "15794  The 3-year renewal of #BloombergConnects @Tate...  MikeBloomberg   \n",
       "16316  With the exception of my parents, no one had a...  MikeBloomberg   \n",
       "11726  You could win a chance to meet President Obama...    BarackObama   \n",
       "15906  The #FFD3 agreement will help more countries u...  MikeBloomberg   \n",
       "12376  Happy #NationalHighFiveDay! http://t.co/HkSzyr...    BarackObama   \n",
       "12086  Say you'll keep up the fight—show your support...    BarackObama   \n",
       "11943  Check out the President's final appearance on ...    BarackObama   \n",
       "11801  These professional fellows learned skills that...    BarackObama   \n",
       "15916  .@JohnsHopkins' newest Distinguished Professor...  MikeBloomberg   \n",
       "\n",
       "       MiniBatchLabels  \n",
       "11911                1  \n",
       "12222                1  \n",
       "16416                1  \n",
       "12496                1  \n",
       "16542                1  \n",
       "16562                1  \n",
       "12221                1  \n",
       "11683                1  \n",
       "16515                1  \n",
       "12488                1  \n",
       "11732                1  \n",
       "16021                1  \n",
       "12032                1  \n",
       "16059                1  \n",
       "16586                1  \n",
       "16329                1  \n",
       "15794                1  \n",
       "16316                1  \n",
       "11726                1  \n",
       "15906                1  \n",
       "12376                1  \n",
       "12086                1  \n",
       "11943                1  \n",
       "11801                1  \n",
       "15916                1  "
      ]
     },
     "execution_count": 247,
     "metadata": {},
     "output_type": "execute_result"
    }
   ],
   "source": [
    "#Cluster 1 \n",
    "shuffle(tweet_df[tweet_df.MiniBatchLabels == 1]).head(25)"
   ]
  },
  {
   "cell_type": "code",
   "execution_count": 248,
   "metadata": {},
   "outputs": [
    {
     "data": {
      "text/html": [
       "<div>\n",
       "<style>\n",
       "    .dataframe thead tr:only-child th {\n",
       "        text-align: right;\n",
       "    }\n",
       "\n",
       "    .dataframe thead th {\n",
       "        text-align: left;\n",
       "    }\n",
       "\n",
       "    .dataframe tbody tr th {\n",
       "        vertical-align: top;\n",
       "    }\n",
       "</style>\n",
       "<table border=\"1\" class=\"dataframe\">\n",
       "  <thead>\n",
       "    <tr style=\"text-align: right;\">\n",
       "      <th></th>\n",
       "      <th>Tweets</th>\n",
       "      <th>Author</th>\n",
       "      <th>MiniBatchLabels</th>\n",
       "    </tr>\n",
       "  </thead>\n",
       "  <tbody>\n",
       "    <tr>\n",
       "      <th>6218</th>\n",
       "      <td>Greatly enjoyed this performance by the @phxbo...</td>\n",
       "      <td>SenJohnMcCain</td>\n",
       "      <td>2</td>\n",
       "    </tr>\n",
       "    <tr>\n",
       "      <th>7687</th>\n",
       "      <td>Donald Trump said he would not cut Medicare or...</td>\n",
       "      <td>SenSanders</td>\n",
       "      <td>2</td>\n",
       "    </tr>\n",
       "    <tr>\n",
       "      <th>5812</th>\n",
       "      <td>.@GovernorPerry - great governor, great dancer...</td>\n",
       "      <td>SenJohnMcCain</td>\n",
       "      <td>2</td>\n",
       "    </tr>\n",
       "    <tr>\n",
       "      <th>6817</th>\n",
       "      <td>I believe our country needs to be a leader on ...</td>\n",
       "      <td>SenSanders</td>\n",
       "      <td>2</td>\n",
       "    </tr>\n",
       "    <tr>\n",
       "      <th>7006</th>\n",
       "      <td>We must join the rest of the industrialized wo...</td>\n",
       "      <td>SenSanders</td>\n",
       "      <td>2</td>\n",
       "    </tr>\n",
       "    <tr>\n",
       "      <th>18179</th>\n",
       "      <td>HRC's #basketofdeplorables vs. @mike_pence: Ve...</td>\n",
       "      <td>KellyannePolls</td>\n",
       "      <td>2</td>\n",
       "    </tr>\n",
       "    <tr>\n",
       "      <th>8000</th>\n",
       "      <td>What does Wells Fargo CEO John Stumpf get for ...</td>\n",
       "      <td>SenSanders</td>\n",
       "      <td>2</td>\n",
       "    </tr>\n",
       "    <tr>\n",
       "      <th>76</th>\n",
       "      <td>The devastation left by Hurricane Irma was far...</td>\n",
       "      <td>realDonaldTrump</td>\n",
       "      <td>2</td>\n",
       "    </tr>\n",
       "    <tr>\n",
       "      <th>6524</th>\n",
       "      <td>Yes. We need to improve Obamacare. But the way...</td>\n",
       "      <td>SenSanders</td>\n",
       "      <td>2</td>\n",
       "    </tr>\n",
       "    <tr>\n",
       "      <th>13101</th>\n",
       "      <td>Sean Spicer was very effective today in contra...</td>\n",
       "      <td>newtgingrich</td>\n",
       "      <td>2</td>\n",
       "    </tr>\n",
       "    <tr>\n",
       "      <th>16799</th>\n",
       "      <td>Meeting this morning with Israeli Prime Minist...</td>\n",
       "      <td>MikeBloomberg</td>\n",
       "      <td>2</td>\n",
       "    </tr>\n",
       "    <tr>\n",
       "      <th>8017</th>\n",
       "      <td>I've met so many people with dreams of progres...</td>\n",
       "      <td>SenSanders</td>\n",
       "      <td>2</td>\n",
       "    </tr>\n",
       "    <tr>\n",
       "      <th>1399</th>\n",
       "      <td>All of my Cabinet nominee are looking good and...</td>\n",
       "      <td>realDonaldTrump</td>\n",
       "      <td>2</td>\n",
       "    </tr>\n",
       "    <tr>\n",
       "      <th>13105</th>\n",
       "      <td>American Health Care Act is a promising first ...</td>\n",
       "      <td>newtgingrich</td>\n",
       "      <td>2</td>\n",
       "    </tr>\n",
       "    <tr>\n",
       "      <th>7734</th>\n",
       "      <td>It's absurd that taxpayers have to subsidize h...</td>\n",
       "      <td>SenSanders</td>\n",
       "      <td>2</td>\n",
       "    </tr>\n",
       "    <tr>\n",
       "      <th>17702</th>\n",
       "      <td>Best way to see the country and feel sleep-dep...</td>\n",
       "      <td>KellyannePolls</td>\n",
       "      <td>2</td>\n",
       "    </tr>\n",
       "    <tr>\n",
       "      <th>6956</th>\n",
       "      <td>How can you call something \"health care reform...</td>\n",
       "      <td>SenSanders</td>\n",
       "      <td>2</td>\n",
       "    </tr>\n",
       "    <tr>\n",
       "      <th>6040</th>\n",
       "      <td>Great catching up w/ Hopi Chairman Herman Hona...</td>\n",
       "      <td>SenJohnMcCain</td>\n",
       "      <td>2</td>\n",
       "    </tr>\n",
       "    <tr>\n",
       "      <th>17280</th>\n",
       "      <td>The opposite. \\nWalking on sunshine here in WH...</td>\n",
       "      <td>KellyannePolls</td>\n",
       "      <td>2</td>\n",
       "    </tr>\n",
       "    <tr>\n",
       "      <th>9748</th>\n",
       "      <td>5 great reasons to caucus for @GovMikeHuckabee...</td>\n",
       "      <td>GovMikeHuckabee</td>\n",
       "      <td>2</td>\n",
       "    </tr>\n",
       "    <tr>\n",
       "      <th>9029</th>\n",
       "      <td>I Tweet for my amusement and your amazement. T...</td>\n",
       "      <td>GovMikeHuckabee</td>\n",
       "      <td>2</td>\n",
       "    </tr>\n",
       "    <tr>\n",
       "      <th>9322</th>\n",
       "      <td>Linda McMahon of WWE named by @realDonaldTrump...</td>\n",
       "      <td>GovMikeHuckabee</td>\n",
       "      <td>2</td>\n",
       "    </tr>\n",
       "    <tr>\n",
       "      <th>14101</th>\n",
       "      <td>Great piece by @jackiecushman on common-sense ...</td>\n",
       "      <td>newtgingrich</td>\n",
       "      <td>2</td>\n",
       "    </tr>\n",
       "    <tr>\n",
       "      <th>20459</th>\n",
       "      <td>We created IDNYC to help people – to get bank ...</td>\n",
       "      <td>NYCMayor</td>\n",
       "      <td>2</td>\n",
       "    </tr>\n",
       "    <tr>\n",
       "      <th>13160</th>\n",
       "      <td>Callista and I extend our deepest sympathies t...</td>\n",
       "      <td>newtgingrich</td>\n",
       "      <td>2</td>\n",
       "    </tr>\n",
       "  </tbody>\n",
       "</table>\n",
       "</div>"
      ],
      "text/plain": [
       "                                                  Tweets           Author  \\\n",
       "6218   Greatly enjoyed this performance by the @phxbo...    SenJohnMcCain   \n",
       "7687   Donald Trump said he would not cut Medicare or...       SenSanders   \n",
       "5812   .@GovernorPerry - great governor, great dancer...    SenJohnMcCain   \n",
       "6817   I believe our country needs to be a leader on ...       SenSanders   \n",
       "7006   We must join the rest of the industrialized wo...       SenSanders   \n",
       "18179  HRC's #basketofdeplorables vs. @mike_pence: Ve...   KellyannePolls   \n",
       "8000   What does Wells Fargo CEO John Stumpf get for ...       SenSanders   \n",
       "76     The devastation left by Hurricane Irma was far...  realDonaldTrump   \n",
       "6524   Yes. We need to improve Obamacare. But the way...       SenSanders   \n",
       "13101  Sean Spicer was very effective today in contra...     newtgingrich   \n",
       "16799  Meeting this morning with Israeli Prime Minist...    MikeBloomberg   \n",
       "8017   I've met so many people with dreams of progres...       SenSanders   \n",
       "1399   All of my Cabinet nominee are looking good and...  realDonaldTrump   \n",
       "13105  American Health Care Act is a promising first ...     newtgingrich   \n",
       "7734   It's absurd that taxpayers have to subsidize h...       SenSanders   \n",
       "17702  Best way to see the country and feel sleep-dep...   KellyannePolls   \n",
       "6956   How can you call something \"health care reform...       SenSanders   \n",
       "6040   Great catching up w/ Hopi Chairman Herman Hona...    SenJohnMcCain   \n",
       "17280  The opposite. \\nWalking on sunshine here in WH...   KellyannePolls   \n",
       "9748   5 great reasons to caucus for @GovMikeHuckabee...  GovMikeHuckabee   \n",
       "9029   I Tweet for my amusement and your amazement. T...  GovMikeHuckabee   \n",
       "9322   Linda McMahon of WWE named by @realDonaldTrump...  GovMikeHuckabee   \n",
       "14101  Great piece by @jackiecushman on common-sense ...     newtgingrich   \n",
       "20459  We created IDNYC to help people – to get bank ...         NYCMayor   \n",
       "13160  Callista and I extend our deepest sympathies t...     newtgingrich   \n",
       "\n",
       "       MiniBatchLabels  \n",
       "6218                 2  \n",
       "7687                 2  \n",
       "5812                 2  \n",
       "6817                 2  \n",
       "7006                 2  \n",
       "18179                2  \n",
       "8000                 2  \n",
       "76                   2  \n",
       "6524                 2  \n",
       "13101                2  \n",
       "16799                2  \n",
       "8017                 2  \n",
       "1399                 2  \n",
       "13105                2  \n",
       "7734                 2  \n",
       "17702                2  \n",
       "6956                 2  \n",
       "6040                 2  \n",
       "17280                2  \n",
       "9748                 2  \n",
       "9029                 2  \n",
       "9322                 2  \n",
       "14101                2  \n",
       "20459                2  \n",
       "13160                2  "
      ]
     },
     "execution_count": 248,
     "metadata": {},
     "output_type": "execute_result"
    }
   ],
   "source": [
    "#Cluster 2 \n",
    "shuffle(tweet_df[tweet_df.MiniBatchLabels == 2]).head(25)"
   ]
  },
  {
   "cell_type": "code",
   "execution_count": 249,
   "metadata": {},
   "outputs": [
    {
     "data": {
      "text/html": [
       "<div>\n",
       "<style>\n",
       "    .dataframe thead tr:only-child th {\n",
       "        text-align: right;\n",
       "    }\n",
       "\n",
       "    .dataframe thead th {\n",
       "        text-align: left;\n",
       "    }\n",
       "\n",
       "    .dataframe tbody tr th {\n",
       "        vertical-align: top;\n",
       "    }\n",
       "</style>\n",
       "<table border=\"1\" class=\"dataframe\">\n",
       "  <thead>\n",
       "    <tr style=\"text-align: right;\">\n",
       "      <th></th>\n",
       "      <th>Tweets</th>\n",
       "      <th>Author</th>\n",
       "      <th>MiniBatchLabels</th>\n",
       "    </tr>\n",
       "  </thead>\n",
       "  <tbody>\n",
       "    <tr>\n",
       "      <th>11634</th>\n",
       "      <td>\"I applaud the Democrats and Republicans who c...</td>\n",
       "      <td>BarackObama</td>\n",
       "      <td>3</td>\n",
       "    </tr>\n",
       "    <tr>\n",
       "      <th>1064</th>\n",
       "      <td>\"The President Changed. So Has Small Businesse...</td>\n",
       "      <td>realDonaldTrump</td>\n",
       "      <td>3</td>\n",
       "    </tr>\n",
       "    <tr>\n",
       "      <th>11737</th>\n",
       "      <td>LIVE: President Obama and others are greeting ...</td>\n",
       "      <td>BarackObama</td>\n",
       "      <td>3</td>\n",
       "    </tr>\n",
       "    <tr>\n",
       "      <th>12354</th>\n",
       "      <td>Tune in at 3:05 p.m. ET to watch the President...</td>\n",
       "      <td>BarackObama</td>\n",
       "      <td>3</td>\n",
       "    </tr>\n",
       "    <tr>\n",
       "      <th>14268</th>\n",
       "      <td>Hillary has to be pro-Obama candidate, but hav...</td>\n",
       "      <td>newtgingrich</td>\n",
       "      <td>3</td>\n",
       "    </tr>\n",
       "    <tr>\n",
       "      <th>11946</th>\n",
       "      <td>\"We still have more to do to make sure that pe...</td>\n",
       "      <td>BarackObama</td>\n",
       "      <td>3</td>\n",
       "    </tr>\n",
       "    <tr>\n",
       "      <th>19831</th>\n",
       "      <td>Up to 500,000 kids in his hometown will have l...</td>\n",
       "      <td>NYCMayor</td>\n",
       "      <td>3</td>\n",
       "    </tr>\n",
       "    <tr>\n",
       "      <th>2701</th>\n",
       "      <td>\"I really want to be president for all of the ...</td>\n",
       "      <td>HillaryClinton</td>\n",
       "      <td>3</td>\n",
       "    </tr>\n",
       "    <tr>\n",
       "      <th>10969</th>\n",
       "      <td>In the weekly address, President Obama discuss...</td>\n",
       "      <td>BarackObama</td>\n",
       "      <td>3</td>\n",
       "    </tr>\n",
       "    <tr>\n",
       "      <th>11385</th>\n",
       "      <td>\"We should recruit and support more great teac...</td>\n",
       "      <td>BarackObama</td>\n",
       "      <td>3</td>\n",
       "    </tr>\n",
       "    <tr>\n",
       "      <th>12506</th>\n",
       "      <td>\"We're trying to make sure that across the boa...</td>\n",
       "      <td>BarackObama</td>\n",
       "      <td>3</td>\n",
       "    </tr>\n",
       "    <tr>\n",
       "      <th>2446</th>\n",
       "      <td>Imagine that it’s January 20, 2017. Ask yourse...</td>\n",
       "      <td>HillaryClinton</td>\n",
       "      <td>3</td>\n",
       "    </tr>\n",
       "    <tr>\n",
       "      <th>1314</th>\n",
       "      <td>Ungrateful TRAITOR Chelsea Manning, who should...</td>\n",
       "      <td>realDonaldTrump</td>\n",
       "      <td>3</td>\n",
       "    </tr>\n",
       "    <tr>\n",
       "      <th>17476</th>\n",
       "      <td>I'll be speaking at #wsjceocouncil tonight abo...</td>\n",
       "      <td>KellyannePolls</td>\n",
       "      <td>3</td>\n",
       "    </tr>\n",
       "    <tr>\n",
       "      <th>11893</th>\n",
       "      <td>\"Iran has powerful incentives to keep its comm...</td>\n",
       "      <td>BarackObama</td>\n",
       "      <td>3</td>\n",
       "    </tr>\n",
       "    <tr>\n",
       "      <th>11887</th>\n",
       "      <td>“There is no scenario where sanctions relief t...</td>\n",
       "      <td>BarackObama</td>\n",
       "      <td>3</td>\n",
       "    </tr>\n",
       "    <tr>\n",
       "      <th>12530</th>\n",
       "      <td>\"What greater form of patriotism is there than...</td>\n",
       "      <td>BarackObama</td>\n",
       "      <td>3</td>\n",
       "    </tr>\n",
       "    <tr>\n",
       "      <th>9961</th>\n",
       "      <td>I've written before about Obama's politicizati...</td>\n",
       "      <td>GovMikeHuckabee</td>\n",
       "      <td>3</td>\n",
       "    </tr>\n",
       "    <tr>\n",
       "      <th>11792</th>\n",
       "      <td>“Climate change is no longer some far-off prob...</td>\n",
       "      <td>BarackObama</td>\n",
       "      <td>3</td>\n",
       "    </tr>\n",
       "    <tr>\n",
       "      <th>20723</th>\n",
       "      <td>President Trump and Republicans are perpetrati...</td>\n",
       "      <td>NYCMayor</td>\n",
       "      <td>3</td>\n",
       "    </tr>\n",
       "    <tr>\n",
       "      <th>20548</th>\n",
       "      <td>President Trump's executive order violates bot...</td>\n",
       "      <td>NYCMayor</td>\n",
       "      <td>3</td>\n",
       "    </tr>\n",
       "    <tr>\n",
       "      <th>11311</th>\n",
       "      <td>Take a look at President Obama's latest common...</td>\n",
       "      <td>BarackObama</td>\n",
       "      <td>3</td>\n",
       "    </tr>\n",
       "    <tr>\n",
       "      <th>11225</th>\n",
       "      <td>LIVE: President Obama is highlighting the prog...</td>\n",
       "      <td>BarackObama</td>\n",
       "      <td>3</td>\n",
       "    </tr>\n",
       "    <tr>\n",
       "      <th>4052</th>\n",
       "      <td>Trump's candidacy alone is undermining our nat...</td>\n",
       "      <td>HillaryClinton</td>\n",
       "      <td>3</td>\n",
       "    </tr>\n",
       "    <tr>\n",
       "      <th>12288</th>\n",
       "      <td>LIVE: President Obama is speaking about trade ...</td>\n",
       "      <td>BarackObama</td>\n",
       "      <td>3</td>\n",
       "    </tr>\n",
       "  </tbody>\n",
       "</table>\n",
       "</div>"
      ],
      "text/plain": [
       "                                                  Tweets           Author  \\\n",
       "11634  \"I applaud the Democrats and Republicans who c...      BarackObama   \n",
       "1064   \"The President Changed. So Has Small Businesse...  realDonaldTrump   \n",
       "11737  LIVE: President Obama and others are greeting ...      BarackObama   \n",
       "12354  Tune in at 3:05 p.m. ET to watch the President...      BarackObama   \n",
       "14268  Hillary has to be pro-Obama candidate, but hav...     newtgingrich   \n",
       "11946  \"We still have more to do to make sure that pe...      BarackObama   \n",
       "19831  Up to 500,000 kids in his hometown will have l...         NYCMayor   \n",
       "2701   \"I really want to be president for all of the ...   HillaryClinton   \n",
       "10969  In the weekly address, President Obama discuss...      BarackObama   \n",
       "11385  \"We should recruit and support more great teac...      BarackObama   \n",
       "12506  \"We're trying to make sure that across the boa...      BarackObama   \n",
       "2446   Imagine that it’s January 20, 2017. Ask yourse...   HillaryClinton   \n",
       "1314   Ungrateful TRAITOR Chelsea Manning, who should...  realDonaldTrump   \n",
       "17476  I'll be speaking at #wsjceocouncil tonight abo...   KellyannePolls   \n",
       "11893  \"Iran has powerful incentives to keep its comm...      BarackObama   \n",
       "11887  “There is no scenario where sanctions relief t...      BarackObama   \n",
       "12530  \"What greater form of patriotism is there than...      BarackObama   \n",
       "9961   I've written before about Obama's politicizati...  GovMikeHuckabee   \n",
       "11792  “Climate change is no longer some far-off prob...      BarackObama   \n",
       "20723  President Trump and Republicans are perpetrati...         NYCMayor   \n",
       "20548  President Trump's executive order violates bot...         NYCMayor   \n",
       "11311  Take a look at President Obama's latest common...      BarackObama   \n",
       "11225  LIVE: President Obama is highlighting the prog...      BarackObama   \n",
       "4052   Trump's candidacy alone is undermining our nat...   HillaryClinton   \n",
       "12288  LIVE: President Obama is speaking about trade ...      BarackObama   \n",
       "\n",
       "       MiniBatchLabels  \n",
       "11634                3  \n",
       "1064                 3  \n",
       "11737                3  \n",
       "12354                3  \n",
       "14268                3  \n",
       "11946                3  \n",
       "19831                3  \n",
       "2701                 3  \n",
       "10969                3  \n",
       "11385                3  \n",
       "12506                3  \n",
       "2446                 3  \n",
       "1314                 3  \n",
       "17476                3  \n",
       "11893                3  \n",
       "11887                3  \n",
       "12530                3  \n",
       "9961                 3  \n",
       "11792                3  \n",
       "20723                3  \n",
       "20548                3  \n",
       "11311                3  \n",
       "11225                3  \n",
       "4052                 3  \n",
       "12288                3  "
      ]
     },
     "execution_count": 249,
     "metadata": {},
     "output_type": "execute_result"
    }
   ],
   "source": [
    "#Cluster 3\n",
    "shuffle(tweet_df[tweet_df.MiniBatchLabels == 3]).head(25)"
   ]
  },
  {
   "cell_type": "markdown",
   "metadata": {},
   "source": [
    "# Using K-Means MiniBatch Labels as predictors in my model"
   ]
  },
  {
   "cell_type": "code",
   "execution_count": 252,
   "metadata": {},
   "outputs": [],
   "source": [
    "X_train, X_test, y_train, y_test = train_test_split(tweet_df['Tweets'], tweet_df['Author'], test_size = 0.25, random_state = 42)\n",
    "\n",
    "\n",
    "X_train_norm_tfidf = normalize(vectorizer1.fit_transform(X_train))\n",
    "X_test_norm_tfidf = normalize(vectorizer1.transform(X_test))\n",
    "\n",
    "true_k = 10\n",
    "km = MiniBatchKMeans(n_clusters=true_k, init='k-means++', batch_size=5000)\n",
    "\n",
    "km.fit(X_train_norm_tfidf)\n",
    "km_train_label = km.labels_\n",
    "km_test_label = km.predict(X_test_norm_tfidf)"
   ]
  },
  {
   "cell_type": "code",
   "execution_count": 263,
   "metadata": {},
   "outputs": [],
   "source": [
    "X_train_new_km = pd.concat([X_train_new, pd.DataFrame(km_train_label, columns = ['Cluster'])], axis = 1)\n",
    "X_test_new_km = pd.concat([X_test_new, pd.DataFrame(km_test_label, columns = ['Cluster'])], axis = 1)"
   ]
  },
  {
   "cell_type": "code",
   "execution_count": 267,
   "metadata": {},
   "outputs": [
    {
     "name": "stdout",
     "output_type": "stream",
     "text": [
      "Training set score: 0.831301587302\n",
      "\n",
      "Test set score: 0.702857142857\n"
     ]
    }
   ],
   "source": [
    "#Try a GBM classifier using the TF-IDF CENTROID approach above, with added features from K-Means Mini-Batch\n",
    "\n",
    "clf = ensemble.GradientBoostingClassifier()\n",
    "train = clf.fit(X_train_new_km, y_train)\n",
    "y_pred = clf.predict(X_test_new_km)\n",
    "\n",
    "print('Training set score:', clf.score(X_train_new_km, y_train))\n",
    "print('\\nTest set score:', clf.score(X_test_new_km, y_test))"
   ]
  },
  {
   "cell_type": "markdown",
   "metadata": {},
   "source": [
    "# Latent Semantic Analysis (LSA)"
   ]
  },
  {
   "cell_type": "code",
   "execution_count": 205,
   "metadata": {},
   "outputs": [
    {
     "name": "stdout",
     "output_type": "stream",
     "text": [
      "Percent variance captured by all components: 10.5120790219\n",
      "Component 0:\n",
      "Tweets\n",
      "Great to see President @BarackObama prioritizing #ClimateChange &amp; @ClimateRisk in his new budget http://t.co/GYQfWzPpzY #ActOnClimate     0.626006\n",
      "LIVE: President Obama is speaking to youth and local law enforcement in New Jersey. http://t.co/Mp3KIk8WO2                                    0.591357\n",
      "\"Too often, where people live determines what opportunities they have in life.\" —President Obama http://t.co/pQyCEWlxBr                       0.587495\n",
      "LIVE: President Obama is speaking about the rebuilding of New Orleans ten years after Hurricane Katrina. http://t.co/18U5Zv53ir #Katrina10    0.586873\n",
      "LIVE: President Obama is talking about the success of the Affordable Care Act. http://t.co/33ShdBN7sC                                         0.585059\n",
      "Name: 0, dtype: float64\n",
      "\n",
      "Component 1:\n",
      "Tweets\n",
      "#ClimateChangeIsReal. So are the actions President Obama is taking to tackle it. http://t.co/63jKisj8ZS                                         0.770535\n",
      "Go behind the lens with @PeteSouza's photo gallery from President Obama's recent trip to Alaska. http://t.co/cisonNXKnY                         0.768456\n",
      "Happening now: President Obama delivers remarks for the launch of the My Brother's Keeper Alliance at @LehmanCollege. http://t.co/Rh8KgadI7g    0.765122\n",
      "\"There’s nothing principled about the idea of another government shutdown.\" —President Obama http://t.co/P7dlz9Q0V9                             0.764036\n",
      "Since President Obama took office, the deficit has been reduced by more than two-thirds. http://t.co/lpOOBKxN5d                                 0.762845\n",
      "Name: 1, dtype: float64\n",
      "\n",
      "Component 2:\n",
      "Tweets\n",
      "Live on @facebook from the room where Calvin Coolidge was nominated for president in 1924. #cleveland #RNCinCLE https://t.co/pzBSG55zFU    0.810054\n",
      "Live on @facebook now discussing #obama chicago trip https://t.co/UOn7JiPR5J                                                               0.798947\n",
      "Live on @facebook with @Greta in the Q @GOPconvention #RNCinCLE https://t.co/Brcqe4pzmf https://t.co/xTrWzJ4Zsy                            0.783344\n",
      "Talking #election2016, #Canada and more with @CABC_co live on @facebook now: https://t.co/X5kCQwiipC                                       0.782464\n",
      "Live on @facebook from @foxandfriends https://t.co/mooPlbhDj9                                                                              0.781391\n",
      "Name: 2, dtype: float64\n",
      "\n",
      "Component 3:\n",
      "Tweets\n",
      "Joining @TomSteyer &amp; Hank Paulson to release the Risky Business report. Live feed: http://t.co/94Lzq0YYSe  #ClimateChange                  0.591888\n",
      "Join us in one hour for a chat on cities &amp; combating #ClimateChange. Submit your questions using #AskMike @UN http://t.co/GuwuErBgE2       0.540922\n",
      "Glad to share the stage with @MayorofLondon at #CityLab2015 &amp; discuss innovation in our two great cities http://t.co/DP64jOCWGf            0.537479\n",
      "Great to have @ariannahuff &amp; Patti Harris kick off #CityLab2015 w/@BloombergDotOrg's Mayors Innovation Studio http://t.co/7cGeWsBfEu       0.533599\n",
      ".@MayorGregor &amp; 6 Canadian mayors have joined @CompactofMayors, raising the bar on #ClimateAction: http://t.co/5fIOtClNIx @GlobeandMail    0.531093\n",
      "Name: 3, dtype: float64\n",
      "\n",
      "Component 4:\n",
      "Tweets\n",
      "New York stands with you, Jimmy. #NotInOurCity https://t.co/qCiwBQ3n6g                                                         0.816569\n",
      "New Yorkers deserve safe and affordable places to live. Why? Because New York City is for everyone. https://t.co/3gd8u5QGQF    0.812961\n",
      "We call them New York's finest for a reason. https://t.co/NxD96BlAO8                                                           0.810853\n",
      "Small coffee, buttered roll. A classic New York duo. https://t.co/X0q1KkMaYW                                                   0.809978\n",
      "New York City responds to the president's budget: https://t.co/mBsWDMcJeH                                                      0.808604\n",
      "Name: 4, dtype: float64\n",
      "\n",
      "Component 5:\n",
      "Tweets\n",
      "The question we ask ourselves should be: \"How can we provide health care to all our people?\" not \"How many should we throw off health care?\"       0.817607\n",
      "How can you call something \"health care reform” when 24 million people lose their health insurance?                                                0.812998\n",
      "Cruz’s health care plan:\\n✅ Throw 20 million off health care\\n✅ Increase drug prices\\n✅ Deny health care to people with pre-existing conditions    0.812187\n",
      "Access to health care doesn't mean a damn thing. What we are talking about is whether people can afford health care. #DebateWithBernie             0.806593\n",
      "Why must we guarantee health care as a right? Because people who can’t afford care deserve to live as much as those who can.                       0.804704\n",
      "Name: 5, dtype: float64\n",
      "\n",
      "Component 6:\n",
      "Tweets\n",
      "the Democrats’ attempts to undermine Trump’s win are getting desperate when even Jeb Bush laughs them off\\nhttp:https://t.co/yrK7eTRTO6        0.620530\n",
      "The Trump Effect, in real number$. https://t.co/hINjYHKCaU                                                                                     0.554007\n",
      "Margaret Thatcher, much more than Ronald Reagan, is the real model for the #Trump presidency.… https://t.co/pSMZ4EGzX9                         0.546877\n",
      "\"@PrisonPlanet: Trump accuser praised him in an email as recently as April! This is all yet another hoax. https://t.co/tcKzmIKpfS\" Terrible    0.541514\n",
      "Someone as detached from reality as Donald Trump should never be in charge of making decisions that are as real as they come.                  0.528684\n",
      "Name: 6, dtype: float64\n",
      "\n",
      "Component 7:\n",
      "Tweets\n",
      "We CAN make America great again. #RNCinCLE #AmericaFirst https://t.co/MLqUVC8KiV    0.645082\n",
      "MAKE AMERICA GREAT AGAIN!                                                           0.640487\n",
      "MAKE AMERICA GREAT AGAIN!                                                           0.640487\n",
      "MAKE AMERICA GREAT AGAIN! https://t.co/g4ELhh9joH                                   0.640487\n",
      "MAKE AMERICA GREAT AGAIN!                                                           0.640487\n",
      "Name: 7, dtype: float64\n",
      "\n",
      "Component 8:\n",
      "Tweets\n",
      "Get the facts on everything from a fair #SCOTUS nomination process to climate change: https://t.co/jCZzreLARW https://t.co/qnB5GLM8eC          0.773685\n",
      "97 percent of climate scientists agree—climate change is real and man-made. Stand up for bold action: https://t.co/F0IC4JUfn1 #ActOnClimate    0.766021\n",
      "Add your name if you support global efforts to tackle climate change: https://t.co/IQJzH7sb2C                                                  0.756639\n",
      "Add your name to support bold action to combat climate change: https://t.co/b1d4PFfxyY #ActOnClimate                                           0.756183\n",
      "Show your support for bold moves to combat climate change—add your name: https://t.co/Wof6TIp08t #ActOnClimate                                 0.755367\n",
      "Name: 8, dtype: float64\n",
      "\n",
      "Component 9:\n",
      "Tweets\n",
      "The Supreme Court must remain above politics. Judge Garland needs a hearing and a vote. #DoYourJob https://t.co/eVSPSIFNpB                  0.661283\n",
      "Speak up for a fair nomination process and a timely vote by the Senate—sign @OFA's petition: https://t.co/HlQMqNYhVr #DoYourJob             0.658461\n",
      "There has never been a more qualified nominee, Senate leaders. He deserves a fair hearing and a vote. #DoYourJob https://t.co/qtzcY3iwyl    0.656788\n",
      "Check out the most recent editorial boards calling on Senate leaders to vote on Judge Garland: https://t.co/hzuhZYevfo #DoYourJob           0.651823\n",
      "Senate leaders are weakening our highest court by refusing to vote on Judge Garland. https://t.co/FPgZJBQKL5 #DoYourJob                     0.650526\n",
      "Name: 9, dtype: float64\n",
      "\n"
     ]
    }
   ],
   "source": [
    "#Our SVD data reducer.  We are going to reduce the feature space to 50 dimensions\n",
    "svd= TruncatedSVD(50)\n",
    "\n",
    "#Truncated SVD works on sparse matrices, per http://scikit-learn.org/stable/modules/generated/sklearn.decomposition.TruncatedSVD.html\n",
    "\n",
    "#This transformer performs linear dimensionality reduction by means of truncated singular value decomposition (SVD). \n",
    "#Contrary to PCA, this estimator does not center the data before computing the singular value decomposition. \n",
    "#This means it can work with scipy.sparse matrices efficiently.\n",
    "\n",
    "#Truncate and then Normalize samples individually to unit norm.\n",
    "lsa = make_pipeline(svd, Normalizer(copy=False))\n",
    "\n",
    "# Run SVD on the training data, then project the training data.\n",
    "X_train_lsa = lsa.fit_transform(X_train_tfidf)\n",
    "X_test_lsa = lsa.transform(X_test_tfidf)\n",
    "\n",
    "variance_explained=svd.explained_variance_ratio_\n",
    "total_variance = variance_explained.sum()\n",
    "print(\"Percent variance captured by all components:\",total_variance*100)\n",
    "\n",
    "#Looking at what sorts of tweets our solution considers similar, for the first 10 identified topics (aka Truncated features)\n",
    "\n",
    "#will print the top 5 scores for each feature\n",
    "\n",
    "tweet_components = pd.DataFrame(X_train_lsa,index=X_train)\n",
    "tweet_components['Author'] = list(y_train)\n",
    "for i in range(10):\n",
    "    print('Component {}:'.format(i))\n",
    "    print(tweet_components.loc[:,i].sort_values(ascending=False)[0:5])\n",
    "    print('')"
   ]
  },
  {
   "cell_type": "markdown",
   "metadata": {},
   "source": [
    "Try directly adding these 50 new clusters to the prior best feature set (which included centroid cosine similarities) to see if the model benefits."
   ]
  },
  {
   "cell_type": "code",
   "execution_count": 206,
   "metadata": {
    "collapsed": true
   },
   "outputs": [],
   "source": [
    "X_train_lsa_df = pd.DataFrame(X_train_lsa)\n",
    "X_test_lsa_df = pd.DataFrame(X_test_lsa)"
   ]
  },
  {
   "cell_type": "code",
   "execution_count": 208,
   "metadata": {},
   "outputs": [
    {
     "name": "stdout",
     "output_type": "stream",
     "text": [
      "Training set score: 0.992761904762\n",
      "\n",
      "Test set score: 0.558285714286\n"
     ]
    }
   ],
   "source": [
    "X_train_new_v2 = pd.concat([X_train_new, X_train_lsa_df], axis = 1)\n",
    "X_test_new_v2 = pd.concat([X_test_new, X_test_lsa_df], axis = 1)\n",
    "\n",
    "fit = rfc.fit(X_train_new_v2, y_train)\n",
    "y_pred = rfc.predict(X_test_new_v2)\n",
    "\n",
    "print('Training set score:', rfc.score(X_train_new_v2, y_train))\n",
    "print('\\nTest set score:', rfc.score(X_test_new_v2, y_test))"
   ]
  },
  {
   "cell_type": "markdown",
   "metadata": {},
   "source": [
    "Yikes, these new features did not help at all - RFC model performance suffered a drop of about 10% in accuracy. How about the GBM model we built, which had 70% accuracy?"
   ]
  },
  {
   "cell_type": "code",
   "execution_count": 210,
   "metadata": {},
   "outputs": [
    {
     "name": "stdout",
     "output_type": "stream",
     "text": [
      "Training set score: 0.842031746032\n",
      "\n",
      "Test set score: 0.704952380952\n"
     ]
    }
   ],
   "source": [
    "#Try a GBM classifier using the TF-IDF CENTROID approach above, with added features from LSA\n",
    "\n",
    "clf = ensemble.GradientBoostingClassifier()\n",
    "train = clf.fit(X_train_new_v2, y_train)\n",
    "y_pred = clf.predict(X_test_new_v2)\n",
    "\n",
    "print('Training set score:', clf.score(X_train_new_v2, y_train))\n",
    "print('\\nTest set score:', clf.score(X_test_new_v2, y_test))"
   ]
  },
  {
   "cell_type": "markdown",
   "metadata": {},
   "source": [
    "After adding the LSA features to the TF-IDF + Centroid data, we saw a marginal improvement in the train and test set accuracies (1% and 0.5%, respectively). We will include them in future models."
   ]
  },
  {
   "cell_type": "markdown",
   "metadata": {},
   "source": [
    "Future next steps (not attempted here for brevity purposes): use cosine-similarity to find which training set tweet (on the reduced dimensionality set) closest resembles the test set tweet we are providing. We can take that score and use it as a feature. We could have dummy variables for all 10 authors, with the cosine similarity score for the author with the closest tweet match and zeros in the remaining 9 author variables. We could also emply a centroid-like approach that we used before, but this time the centroid would be defined on the reduced feature space.\n"
   ]
  },
  {
   "cell_type": "markdown",
   "metadata": {},
   "source": [
    "LSA, like K-Means, seems to have clustered tweets around specific words (\"LIVE:\", \"Live on @facebook\", \"President Obama\", etc) rather than about actual topics. Perhaps we are asking too much of the algorithms, or perhaps there are other algorithms that might serve our purposes better. Let's try LDA - Latent Dirichlet Allocation, which finds words that tend to occur together in topics."
   ]
  },
  {
   "cell_type": "markdown",
   "metadata": {},
   "source": [
    "# Experimenting with Topic Identification via LDA (Latent Dirichlet Allocation)"
   ]
  },
  {
   "cell_type": "markdown",
   "metadata": {},
   "source": [
    "LDA makes two assumptions:\n",
    "   1) Words carry strong semantic information, and that documents discussing similar topics will use a similar group of words.\n",
    "      Latent topics are then discovered by finding groups of words that frequently occur together within documents.\n",
    "      \n",
    "   2) Documents are probability distributions of topics, and topics are probability distributions of words.\n",
    "\n",
    "Relevant Links:\n",
    "\n",
    "https://rpubs.com/barberje/LDA\n",
    "\n",
    "https://medium.com/@aneesha/topic-modeling-with-scikit-learn-e80d33668730\n",
    "\n",
    "https://www.youtube.com/watch?v=3mHy4OSyRf0\n",
    "\n",
    "Ways to evaluate: cosine similarity, predicted perplexity (lower is better)"
   ]
  },
  {
   "cell_type": "code",
   "execution_count": 20,
   "metadata": {},
   "outputs": [],
   "source": [
    "#The gensim LDA model takes a corpus document that is supposed to be a list consisting\n",
    "#of a \"bag of words\" for each doc, in the form of a tuple\n",
    "\n",
    "def bag_of_words_gen(doc):\n",
    "    tweets_full = nlp(doc)\n",
    "    allwords = (token.lemma_ for token in tweets_full if not token.is_stop and not token.is_punct and not token.like_url and \n",
    "                not token.like_num and not token.is_space and token.is_ascii and len(token.lemma_) > 1)\n",
    "\n",
    "    #Let's clean this up a bit \n",
    "    replace_words = [r'/n', r'\\\\n', r'\\n', r'--', r'-', 'https:\\/\\/t\\.co\\/[\\w\\d]+', r'&amp', r'&', \"amp\", \n",
    "                     r'w/', \"'s\", r'not', \"n't\"]\n",
    "    allwords = [re.sub('|'.join(replace_words), '', word) for word in allwords]\n",
    "    \n",
    "    allwords = ' '.join(allwords)\n",
    "    allwords = nlp(allwords)\n",
    "    \n",
    "    allwords = (token.lemma_ for token in allwords if not token.is_stop and not token.is_punct and not token.like_url and \n",
    "                not token.like_num and not token.is_space and token.is_ascii and len(token.lemma_) > 1)\n",
    "    \n",
    "    return allwords\n",
    "\n",
    "\n",
    "texts = []\n",
    "for tweet in X_train:\n",
    "    texts.append(list(bag_of_words_gen(tweet)))"
   ]
  },
  {
   "cell_type": "code",
   "execution_count": 25,
   "metadata": {},
   "outputs": [
    {
     "data": {
      "text/html": [
       "\n",
       "<link rel=\"stylesheet\" type=\"text/css\" href=\"https://cdn.rawgit.com/bmabey/pyLDAvis/files/ldavis.v1.0.0.css\">\n",
       "\n",
       "\n",
       "<div id=\"ldavis_el2943619388774475288128831552\"></div>\n",
       "<script type=\"text/javascript\">\n",
       "\n",
       "var ldavis_el2943619388774475288128831552_data = {\"mdsDat\": {\"Freq\": [8.148395994647741, 7.168635875729875, 5.769575659083427, 5.753865928619524, 5.693315462069616, 5.258676139781998, 5.255823071421053, 5.180341398735174, 4.864597028738639, 4.815954988771452, 4.576253413268027, 4.537189563980263, 4.339736785751951, 4.2209626520008525, 4.209746874162977, 4.200043586045108, 4.048410930066955, 4.034841639286008, 4.0289945563761815, 3.8946384514631727], \"cluster\": [1, 1, 1, 1, 1, 1, 1, 1, 1, 1, 1, 1, 1, 1, 1, 1, 1, 1, 1, 1], \"topics\": [1, 2, 3, 4, 5, 6, 7, 8, 9, 10, 11, 12, 13, 14, 15, 16, 17, 18, 19, 20], \"x\": [-0.017066902455255495, -0.183140683045086, -0.0919339950232181, -0.07029122333506249, -0.12593916891176324, -0.09509349208916117, 0.27784261504817587, 0.05059882091722901, 0.10994805919231171, 0.010745628441455924, -0.12626045276882053, -0.018448398786983466, -0.017350155104667815, -0.022217736589001773, -0.0032503784160449346, 0.03060716317356272, 0.015909381616845377, 3.93962336027927e-05, 0.01505008412876294, 0.26025143777311854], \"y\": [-0.17068673002593523, -0.009318410912335144, 0.1649483613727009, 0.08194696644166602, 0.04840261320994915, 0.02969361768774446, 0.13186233415682144, 0.05149874686717342, -0.20889287324427502, 0.11779115548453474, 0.0868391312638259, -0.06418836023608632, 0.0911701394164628, -0.014450545201262623, -0.05129571450031136, -0.07780467199790353, -0.04884381176159817, -0.13468577070940985, -0.11404329625329875, 0.09005711894153762]}, \"tinfo\": {\"Category\": [\"Default\", \"Default\", \"Default\", \"Default\", \"Default\", \"Default\", \"Default\", \"Default\", \"Default\", \"Default\", \"Default\", \"Default\", \"Default\", \"Default\", \"Default\", \"Default\", \"Default\", \"Default\", \"Default\", \"Default\", \"Default\", \"Default\", \"Default\", \"Default\", \"Default\", \"Default\", \"Default\", \"Default\", \"Default\", \"Default\", \"Topic1\", \"Topic1\", \"Topic1\", \"Topic1\", \"Topic1\", \"Topic1\", \"Topic1\", \"Topic1\", \"Topic1\", \"Topic1\", \"Topic1\", \"Topic1\", \"Topic1\", \"Topic1\", \"Topic1\", \"Topic1\", \"Topic1\", \"Topic1\", \"Topic1\", \"Topic1\", \"Topic1\", \"Topic1\", \"Topic1\", \"Topic1\", \"Topic1\", \"Topic1\", \"Topic1\", \"Topic1\", \"Topic1\", \"Topic1\", \"Topic1\", \"Topic1\", \"Topic1\", \"Topic1\", \"Topic1\", \"Topic1\", \"Topic1\", \"Topic1\", \"Topic1\", \"Topic1\", \"Topic1\", \"Topic1\", \"Topic1\", \"Topic1\", \"Topic1\", \"Topic1\", \"Topic1\", \"Topic1\", \"Topic1\", \"Topic1\", \"Topic1\", \"Topic1\", \"Topic1\", \"Topic1\", \"Topic1\", \"Topic2\", \"Topic2\", \"Topic2\", \"Topic2\", \"Topic2\", \"Topic2\", \"Topic2\", \"Topic2\", \"Topic2\", \"Topic2\", \"Topic2\", \"Topic2\", \"Topic2\", \"Topic2\", \"Topic2\", \"Topic2\", \"Topic2\", \"Topic2\", \"Topic2\", \"Topic2\", \"Topic2\", \"Topic2\", \"Topic2\", \"Topic2\", \"Topic2\", \"Topic2\", \"Topic2\", \"Topic2\", \"Topic2\", \"Topic2\", \"Topic2\", \"Topic2\", \"Topic2\", \"Topic2\", \"Topic2\", \"Topic2\", \"Topic2\", \"Topic2\", \"Topic2\", \"Topic2\", \"Topic2\", \"Topic2\", \"Topic2\", \"Topic2\", \"Topic2\", \"Topic2\", \"Topic2\", \"Topic2\", \"Topic2\", \"Topic2\", \"Topic2\", \"Topic2\", \"Topic2\", \"Topic2\", \"Topic2\", \"Topic2\", \"Topic2\", \"Topic2\", \"Topic2\", \"Topic3\", \"Topic3\", \"Topic3\", \"Topic3\", \"Topic3\", \"Topic3\", \"Topic3\", \"Topic3\", \"Topic3\", \"Topic3\", \"Topic3\", \"Topic3\", \"Topic3\", \"Topic3\", \"Topic3\", \"Topic3\", \"Topic3\", \"Topic3\", \"Topic3\", \"Topic3\", \"Topic3\", \"Topic3\", \"Topic3\", \"Topic3\", \"Topic3\", \"Topic3\", \"Topic3\", \"Topic3\", \"Topic3\", \"Topic3\", \"Topic3\", \"Topic3\", \"Topic3\", \"Topic3\", \"Topic3\", \"Topic3\", \"Topic3\", \"Topic3\", \"Topic3\", \"Topic3\", \"Topic3\", \"Topic3\", \"Topic3\", \"Topic3\", \"Topic3\", \"Topic3\", \"Topic3\", \"Topic3\", \"Topic3\", \"Topic3\", \"Topic3\", \"Topic3\", \"Topic3\", \"Topic3\", \"Topic3\", \"Topic4\", \"Topic4\", \"Topic4\", \"Topic4\", \"Topic4\", \"Topic4\", \"Topic4\", \"Topic4\", \"Topic4\", \"Topic4\", \"Topic4\", \"Topic4\", \"Topic4\", \"Topic4\", \"Topic4\", \"Topic4\", \"Topic4\", \"Topic4\", \"Topic4\", \"Topic4\", \"Topic4\", \"Topic4\", \"Topic4\", \"Topic4\", \"Topic4\", \"Topic4\", \"Topic4\", \"Topic4\", \"Topic4\", \"Topic4\", \"Topic4\", \"Topic4\", \"Topic4\", \"Topic4\", \"Topic4\", \"Topic4\", \"Topic4\", \"Topic4\", \"Topic4\", \"Topic4\", \"Topic4\", \"Topic4\", \"Topic4\", \"Topic4\", \"Topic4\", \"Topic4\", \"Topic4\", \"Topic4\", \"Topic4\", \"Topic4\", \"Topic4\", \"Topic4\", \"Topic4\", \"Topic4\", \"Topic4\", \"Topic4\", \"Topic4\", \"Topic4\", \"Topic4\", \"Topic5\", \"Topic5\", \"Topic5\", \"Topic5\", \"Topic5\", \"Topic5\", \"Topic5\", \"Topic5\", \"Topic5\", \"Topic5\", \"Topic5\", \"Topic5\", \"Topic5\", \"Topic5\", \"Topic5\", \"Topic5\", \"Topic5\", \"Topic5\", \"Topic5\", \"Topic5\", \"Topic5\", \"Topic5\", \"Topic5\", \"Topic5\", \"Topic5\", \"Topic5\", \"Topic5\", \"Topic5\", \"Topic5\", \"Topic5\", \"Topic5\", \"Topic5\", \"Topic5\", \"Topic5\", \"Topic5\", \"Topic5\", \"Topic5\", \"Topic5\", \"Topic5\", \"Topic5\", \"Topic5\", \"Topic5\", \"Topic5\", \"Topic5\", \"Topic5\", \"Topic5\", \"Topic5\", \"Topic5\", \"Topic5\", \"Topic5\", \"Topic5\", \"Topic5\", \"Topic5\", \"Topic5\", \"Topic5\", \"Topic5\", \"Topic5\", \"Topic5\", \"Topic6\", \"Topic6\", \"Topic6\", \"Topic6\", \"Topic6\", \"Topic6\", \"Topic6\", \"Topic6\", \"Topic6\", \"Topic6\", \"Topic6\", \"Topic6\", \"Topic6\", \"Topic6\", \"Topic6\", \"Topic6\", \"Topic6\", \"Topic6\", \"Topic6\", \"Topic6\", \"Topic6\", \"Topic6\", \"Topic6\", \"Topic6\", \"Topic6\", \"Topic6\", \"Topic6\", \"Topic6\", \"Topic6\", \"Topic6\", \"Topic6\", \"Topic6\", \"Topic6\", \"Topic6\", \"Topic6\", \"Topic6\", \"Topic6\", \"Topic6\", \"Topic6\", \"Topic6\", \"Topic6\", \"Topic6\", \"Topic6\", \"Topic6\", \"Topic6\", \"Topic6\", \"Topic6\", \"Topic6\", \"Topic6\", \"Topic6\", \"Topic6\", \"Topic6\", \"Topic6\", \"Topic6\", \"Topic6\", \"Topic6\", \"Topic6\", \"Topic6\", \"Topic6\", \"Topic6\", \"Topic7\", \"Topic7\", \"Topic7\", \"Topic7\", \"Topic7\", \"Topic7\", \"Topic7\", \"Topic7\", \"Topic7\", \"Topic7\", \"Topic7\", \"Topic7\", \"Topic7\", \"Topic7\", \"Topic7\", \"Topic7\", \"Topic7\", \"Topic7\", \"Topic7\", \"Topic7\", \"Topic7\", \"Topic7\", \"Topic7\", \"Topic7\", \"Topic7\", \"Topic7\", \"Topic7\", \"Topic7\", \"Topic7\", \"Topic7\", \"Topic7\", \"Topic7\", \"Topic7\", \"Topic7\", \"Topic7\", \"Topic7\", \"Topic7\", \"Topic7\", \"Topic7\", \"Topic7\", \"Topic7\", \"Topic7\", \"Topic7\", \"Topic7\", \"Topic7\", \"Topic7\", \"Topic7\", \"Topic7\", \"Topic7\", \"Topic7\", \"Topic7\", \"Topic7\", \"Topic7\", \"Topic7\", \"Topic8\", \"Topic8\", \"Topic8\", \"Topic8\", \"Topic8\", \"Topic8\", \"Topic8\", \"Topic8\", \"Topic8\", \"Topic8\", \"Topic8\", \"Topic8\", \"Topic8\", \"Topic8\", \"Topic8\", \"Topic8\", \"Topic8\", \"Topic8\", \"Topic8\", \"Topic8\", \"Topic8\", \"Topic8\", \"Topic8\", \"Topic8\", \"Topic8\", \"Topic8\", \"Topic8\", \"Topic8\", \"Topic8\", \"Topic8\", \"Topic8\", \"Topic8\", \"Topic8\", \"Topic8\", \"Topic8\", \"Topic8\", \"Topic8\", \"Topic8\", \"Topic8\", \"Topic8\", \"Topic8\", \"Topic8\", \"Topic8\", \"Topic8\", \"Topic8\", \"Topic8\", \"Topic8\", \"Topic8\", \"Topic8\", \"Topic8\", \"Topic8\", \"Topic8\", \"Topic8\", \"Topic8\", \"Topic9\", \"Topic9\", \"Topic9\", \"Topic9\", \"Topic9\", \"Topic9\", \"Topic9\", \"Topic9\", \"Topic9\", \"Topic9\", \"Topic9\", \"Topic9\", \"Topic9\", \"Topic9\", \"Topic9\", \"Topic9\", \"Topic9\", \"Topic9\", \"Topic9\", \"Topic9\", \"Topic9\", \"Topic9\", \"Topic9\", \"Topic9\", \"Topic9\", \"Topic9\", \"Topic9\", \"Topic9\", \"Topic9\", \"Topic9\", \"Topic9\", \"Topic9\", \"Topic9\", \"Topic9\", \"Topic9\", \"Topic9\", \"Topic9\", \"Topic9\", \"Topic9\", \"Topic9\", \"Topic9\", \"Topic9\", \"Topic9\", \"Topic9\", \"Topic9\", \"Topic9\", \"Topic9\", \"Topic9\", \"Topic9\", \"Topic9\", \"Topic9\", \"Topic9\", \"Topic9\", \"Topic10\", \"Topic10\", \"Topic10\", \"Topic10\", \"Topic10\", \"Topic10\", \"Topic10\", \"Topic10\", \"Topic10\", \"Topic10\", \"Topic10\", \"Topic10\", \"Topic10\", \"Topic10\", \"Topic10\", \"Topic10\", \"Topic10\", \"Topic10\", \"Topic10\", \"Topic10\", \"Topic10\", \"Topic10\", \"Topic10\", \"Topic10\", \"Topic10\", \"Topic10\", \"Topic10\", \"Topic10\", \"Topic10\", \"Topic10\", \"Topic10\", \"Topic10\", \"Topic10\", \"Topic10\", \"Topic10\", \"Topic10\", \"Topic10\", \"Topic10\", \"Topic10\", \"Topic10\", \"Topic10\", \"Topic10\", \"Topic10\", \"Topic10\", \"Topic10\", \"Topic10\", \"Topic10\", \"Topic10\", \"Topic10\", \"Topic10\", \"Topic11\", \"Topic11\", \"Topic11\", \"Topic11\", \"Topic11\", \"Topic11\", \"Topic11\", \"Topic11\", \"Topic11\", \"Topic11\", \"Topic11\", \"Topic11\", \"Topic11\", \"Topic11\", \"Topic11\", \"Topic11\", \"Topic11\", \"Topic11\", \"Topic11\", \"Topic11\", \"Topic11\", \"Topic11\", \"Topic11\", \"Topic11\", \"Topic11\", \"Topic11\", \"Topic11\", \"Topic11\", \"Topic11\", \"Topic11\", \"Topic11\", \"Topic11\", \"Topic11\", \"Topic11\", \"Topic11\", \"Topic11\", \"Topic11\", \"Topic11\", \"Topic11\", \"Topic11\", \"Topic11\", \"Topic11\", \"Topic11\", \"Topic11\", \"Topic11\", \"Topic11\", \"Topic11\", \"Topic11\", \"Topic11\", \"Topic11\", \"Topic11\", \"Topic12\", \"Topic12\", \"Topic12\", \"Topic12\", \"Topic12\", \"Topic12\", \"Topic12\", \"Topic12\", \"Topic12\", \"Topic12\", \"Topic12\", \"Topic12\", \"Topic12\", \"Topic12\", \"Topic12\", \"Topic12\", \"Topic12\", \"Topic12\", \"Topic12\", \"Topic12\", \"Topic12\", \"Topic12\", \"Topic12\", \"Topic12\", \"Topic12\", \"Topic12\", \"Topic12\", \"Topic12\", \"Topic12\", \"Topic12\", \"Topic12\", \"Topic12\", \"Topic12\", \"Topic12\", \"Topic12\", \"Topic12\", \"Topic12\", \"Topic12\", \"Topic12\", \"Topic12\", \"Topic12\", \"Topic12\", \"Topic12\", \"Topic12\", \"Topic12\", \"Topic12\", \"Topic12\", \"Topic13\", \"Topic13\", \"Topic13\", \"Topic13\", \"Topic13\", \"Topic13\", \"Topic13\", \"Topic13\", \"Topic13\", \"Topic13\", \"Topic13\", \"Topic13\", \"Topic13\", \"Topic13\", \"Topic13\", \"Topic13\", \"Topic13\", \"Topic13\", \"Topic13\", \"Topic13\", \"Topic13\", \"Topic13\", \"Topic13\", \"Topic13\", \"Topic13\", \"Topic13\", \"Topic13\", \"Topic13\", \"Topic13\", \"Topic13\", \"Topic13\", \"Topic13\", \"Topic13\", \"Topic13\", \"Topic13\", \"Topic13\", \"Topic13\", \"Topic13\", \"Topic13\", \"Topic13\", \"Topic13\", \"Topic13\", \"Topic13\", \"Topic13\", \"Topic13\", \"Topic13\", \"Topic13\", \"Topic13\", \"Topic13\", \"Topic13\", \"Topic13\", \"Topic14\", \"Topic14\", \"Topic14\", \"Topic14\", \"Topic14\", \"Topic14\", \"Topic14\", \"Topic14\", \"Topic14\", \"Topic14\", \"Topic14\", \"Topic14\", \"Topic14\", \"Topic14\", \"Topic14\", \"Topic14\", \"Topic14\", \"Topic14\", \"Topic14\", \"Topic14\", \"Topic14\", \"Topic14\", \"Topic14\", \"Topic14\", \"Topic14\", \"Topic14\", \"Topic14\", \"Topic14\", \"Topic14\", \"Topic14\", \"Topic14\", \"Topic14\", \"Topic14\", \"Topic14\", \"Topic14\", \"Topic14\", \"Topic14\", \"Topic14\", \"Topic14\", \"Topic14\", \"Topic14\", \"Topic14\", \"Topic14\", \"Topic14\", \"Topic14\", \"Topic14\", \"Topic14\", \"Topic15\", \"Topic15\", \"Topic15\", \"Topic15\", \"Topic15\", \"Topic15\", \"Topic15\", \"Topic15\", \"Topic15\", \"Topic15\", \"Topic15\", \"Topic15\", \"Topic15\", \"Topic15\", \"Topic15\", \"Topic15\", \"Topic15\", \"Topic15\", \"Topic15\", \"Topic15\", \"Topic15\", \"Topic15\", \"Topic15\", \"Topic15\", \"Topic15\", \"Topic15\", \"Topic15\", \"Topic15\", \"Topic15\", \"Topic15\", \"Topic15\", \"Topic15\", \"Topic15\", \"Topic15\", \"Topic15\", \"Topic15\", \"Topic15\", \"Topic15\", \"Topic15\", \"Topic15\", \"Topic15\", \"Topic15\", \"Topic15\", \"Topic16\", \"Topic16\", \"Topic16\", \"Topic16\", \"Topic16\", \"Topic16\", \"Topic16\", \"Topic16\", \"Topic16\", \"Topic16\", \"Topic16\", \"Topic16\", \"Topic16\", \"Topic16\", \"Topic16\", \"Topic16\", \"Topic16\", \"Topic16\", \"Topic16\", \"Topic16\", \"Topic16\", \"Topic16\", \"Topic16\", \"Topic16\", \"Topic16\", \"Topic16\", \"Topic16\", \"Topic16\", \"Topic16\", \"Topic16\", \"Topic16\", \"Topic16\", \"Topic16\", \"Topic16\", \"Topic16\", \"Topic16\", \"Topic16\", \"Topic16\", \"Topic16\", \"Topic16\", \"Topic16\", \"Topic16\", \"Topic16\", \"Topic16\", \"Topic16\", \"Topic16\", \"Topic16\", \"Topic16\", \"Topic16\", \"Topic16\", \"Topic16\", \"Topic16\", \"Topic16\", \"Topic17\", \"Topic17\", \"Topic17\", \"Topic17\", \"Topic17\", \"Topic17\", \"Topic17\", \"Topic17\", \"Topic17\", \"Topic17\", \"Topic17\", \"Topic17\", \"Topic17\", \"Topic17\", \"Topic17\", \"Topic17\", \"Topic17\", \"Topic17\", \"Topic17\", \"Topic17\", \"Topic17\", \"Topic17\", \"Topic17\", \"Topic17\", \"Topic17\", \"Topic17\", \"Topic17\", \"Topic17\", \"Topic17\", \"Topic17\", \"Topic17\", \"Topic17\", \"Topic17\", \"Topic17\", \"Topic17\", \"Topic17\", \"Topic17\", \"Topic17\", \"Topic17\", \"Topic17\", \"Topic17\", \"Topic17\", \"Topic17\", \"Topic17\", \"Topic17\", \"Topic17\", \"Topic17\", \"Topic17\", \"Topic18\", \"Topic18\", \"Topic18\", \"Topic18\", \"Topic18\", \"Topic18\", \"Topic18\", \"Topic18\", \"Topic18\", \"Topic18\", \"Topic18\", \"Topic18\", \"Topic18\", \"Topic18\", \"Topic18\", \"Topic18\", \"Topic18\", \"Topic18\", \"Topic18\", \"Topic18\", \"Topic18\", \"Topic18\", \"Topic18\", \"Topic18\", \"Topic18\", \"Topic18\", \"Topic18\", \"Topic18\", \"Topic18\", \"Topic18\", \"Topic18\", \"Topic18\", \"Topic18\", \"Topic18\", \"Topic18\", \"Topic18\", \"Topic18\", \"Topic18\", \"Topic18\", \"Topic18\", \"Topic18\", \"Topic18\", \"Topic18\", \"Topic18\", \"Topic18\", \"Topic18\", \"Topic18\", \"Topic18\", \"Topic18\", \"Topic18\", \"Topic18\", \"Topic18\", \"Topic19\", \"Topic19\", \"Topic19\", \"Topic19\", \"Topic19\", \"Topic19\", \"Topic19\", \"Topic19\", \"Topic19\", \"Topic19\", \"Topic19\", \"Topic19\", \"Topic19\", \"Topic19\", \"Topic19\", \"Topic19\", \"Topic19\", \"Topic19\", \"Topic19\", \"Topic19\", \"Topic19\", \"Topic19\", \"Topic19\", \"Topic19\", \"Topic19\", \"Topic19\", \"Topic19\", \"Topic19\", \"Topic19\", \"Topic19\", \"Topic19\", \"Topic19\", \"Topic19\", \"Topic19\", \"Topic19\", \"Topic19\", \"Topic19\", \"Topic19\", \"Topic19\", \"Topic19\", \"Topic19\", \"Topic19\", \"Topic20\", \"Topic20\", \"Topic20\", \"Topic20\", \"Topic20\", \"Topic20\", \"Topic20\", \"Topic20\", \"Topic20\", \"Topic20\", \"Topic20\", \"Topic20\", \"Topic20\", \"Topic20\", \"Topic20\", \"Topic20\", \"Topic20\", \"Topic20\", \"Topic20\", \"Topic20\", \"Topic20\", \"Topic20\", \"Topic20\", \"Topic20\", \"Topic20\", \"Topic20\", \"Topic20\", \"Topic20\", \"Topic20\", \"Topic20\", \"Topic20\", \"Topic20\", \"Topic20\", \"Topic20\", \"Topic20\", \"Topic20\", \"Topic20\", \"Topic20\", \"Topic20\", \"Topic20\", \"Topic20\", \"Topic20\", \"Topic20\", \"Topic20\", \"Topic20\", \"Topic20\", \"Topic20\", \"Topic20\"], \"Freq\": [724.0, 720.0, 1346.0, 566.0, 985.0, 452.0, 552.0, 561.0, 397.0, 941.0, 442.0, 429.0, 318.0, 294.0, 374.0, 322.0, 320.0, 420.0, 379.0, 606.0, 259.0, 269.0, 763.0, 780.0, 377.0, 672.0, 283.0, 280.0, 292.0, 227.0, 719.9844510617154, 428.83345403065766, 373.2268415459438, 282.1676954777078, 157.90699679255346, 152.45849841263666, 122.55498099262836, 110.0789842485038, 100.90151448107868, 60.482128173696786, 59.07769226619852, 58.206844534891786, 44.04456577040798, 42.94412435167563, 38.58023327787897, 33.13470534728789, 32.539223636716756, 31.726307995973716, 31.609994415862932, 30.521069700253587, 29.347283297675055, 29.31024922895154, 26.181230145026564, 25.887085971853914, 25.80544396089983, 25.77521985379579, 25.730368386267582, 24.928494434323312, 24.689901875765788, 24.57597884206113, 117.8615740904605, 83.08574808627611, 81.04412679507702, 583.6028472855023, 42.87487321126251, 53.221708144177754, 233.40616860290572, 117.82019041555591, 71.58286439326082, 106.64343134106853, 79.51481551907064, 126.56699790943279, 59.10679058554798, 97.84063798384412, 62.33351239567337, 139.9075881179504, 200.90084473530604, 100.7089263298387, 75.96976655663249, 87.80394717315507, 96.72475826947654, 139.16258589541397, 123.1869110231097, 113.59963054793758, 79.26297633447759, 171.68397963462067, 128.1306977167772, 96.67825168353961, 75.23737082081011, 63.641592791307815, 62.71153547969299, 62.035188412172445, 54.923660263024395, 54.32233595989149, 50.68074113907331, 49.06939272384885, 47.98531724081769, 44.461464463574245, 43.020982252990166, 42.725195260789185, 42.107682532370376, 34.433995767737834, 31.10854829850399, 29.63761245701765, 28.07277140593214, 27.621639993614938, 24.519088837517636, 23.641912786870634, 21.966805406454696, 21.285791862567493, 20.63245017270803, 20.5131933152532, 20.512733708998123, 20.297996220137684, 20.205167131206746, 45.50215387654758, 247.00962981855727, 151.03186921548308, 151.35547892149802, 205.670139069529, 58.87507141460691, 72.23440657131593, 77.78767480843564, 144.4501827366638, 79.82259603121595, 92.84643967952819, 61.71090233351268, 187.3711006665682, 155.4568273853908, 222.66681098596231, 148.8473332587455, 187.11407537881868, 128.09807082598522, 91.23041998007112, 133.46933289329826, 128.02356574686667, 89.00668786727174, 133.23286128115498, 114.07005337837788, 95.13975634244859, 85.23194911647215, 86.76222124969449, 70.65751884132813, 64.98542274215205, 565.2037406676868, 319.8785893122847, 208.0071346646915, 118.3967527549089, 61.41260852377357, 53.57243151832475, 50.908079873468736, 45.55121313365071, 38.458602705439716, 37.25566005653129, 35.01123832307204, 34.80625964905509, 32.96656999014601, 30.368565815406896, 28.289410366773158, 28.14498250660133, 27.704308940337548, 27.45836158872508, 26.556840365417816, 24.953119806080004, 23.70503365315971, 23.692587810342896, 23.52053622818458, 22.766828448863183, 22.694595351278053, 22.52030118709113, 22.279362212431604, 22.22312018168794, 20.94907145971361, 19.019873533940753, 44.954376835469255, 52.277051539725186, 43.595426626966805, 44.023851417449904, 122.91549426167144, 45.43976566851298, 433.70991884501865, 86.13193911243879, 140.17308297170766, 52.07516136673281, 103.03929858631577, 66.3072664981884, 49.12720662670181, 73.93947484313885, 96.02846371228932, 41.89200282255963, 58.42693046824638, 69.89482750263582, 72.90592410563418, 61.56000851504957, 73.85447336146474, 71.77797018910496, 52.34763315937073, 56.86240220918023, 44.630255560223716, 160.40882769790045, 113.06032189599772, 68.17684209987571, 60.76810083080488, 59.65765726107621, 51.33210444737037, 35.75562156927153, 30.99482334411154, 29.062082177027683, 28.178556119157573, 28.1202231850709, 27.667224835581344, 27.49418496371253, 26.889667526162242, 26.793771065178188, 25.46495289673867, 25.401888961974866, 25.11977704452429, 25.069567606841304, 24.89439884141262, 24.165194388090924, 23.61547863630895, 22.646316218468662, 21.91309919691191, 21.315547867112556, 21.29996671988575, 21.08078396346056, 19.91910557732951, 19.46960202813709, 19.270114584596133, 22.615369071816378, 64.29801435846998, 193.07974803017828, 66.69796616563228, 42.41373881587848, 41.65021468642457, 172.81588626584443, 54.14610160724242, 47.246033665179134, 238.81133965122237, 59.914443084013634, 452.10887656899996, 72.25821682634941, 39.831703282835925, 86.34651951006813, 57.85032074555641, 159.0479911595087, 111.31570339237823, 94.00694623989408, 191.91130239245254, 39.867358006831836, 36.143961928911146, 57.039841604558205, 67.32219426193518, 73.8479159092081, 61.0952141772401, 46.90319264103205, 58.690691378093646, 43.45939308350014, 452.10710334080454, 397.0840561138129, 321.1650729993392, 77.64874252837312, 51.999460707575125, 46.766241834602425, 39.427672624706986, 36.488292689998055, 30.272216162135056, 29.254697195654554, 28.884860210842078, 26.815723404078554, 26.661527623074253, 24.811138255910514, 24.552670407327568, 24.522624539473664, 24.289299193521252, 23.365834113357163, 23.27218664311031, 22.309907535386213, 21.550707526517023, 20.380577341858917, 20.256775142068562, 20.109403496967374, 19.239808883651225, 18.79471343278461, 17.73004936273586, 17.089072832659017, 16.783638983090636, 16.481949318699847, 248.19286245958097, 39.7737974178308, 59.63145384970265, 53.509681887126725, 160.43287800843262, 101.05070607375671, 51.49892009298821, 98.11960228187996, 109.9247659215175, 37.37685704309595, 126.60440504635729, 226.04091691633613, 67.15004706215171, 33.67111670258671, 39.50637506076668, 153.22460299584233, 41.160598741857726, 103.62602175713907, 90.02829465360476, 59.38660208338475, 54.34473453268111, 66.43230084451922, 51.37722047892532, 61.55208386972727, 58.94115282381181, 52.006028496811695, 45.87113103120612, 47.58382038572746, 151.3119569476807, 61.802497059922665, 61.37319740146916, 60.76502383740166, 56.424652714198345, 50.94497971110973, 44.506781936422435, 41.89528417173654, 40.50162103650811, 37.75859646026467, 37.30439763925707, 27.218542081176643, 26.724349666554716, 24.861244705133956, 24.44705461085013, 23.712645243310515, 22.10271893501043, 21.450422785207437, 21.337924231897606, 20.95085953284818, 20.56973009758858, 20.221828100228592, 19.959895665964776, 19.484199974964213, 18.980245802708033, 18.894634355464483, 18.78018466599742, 18.303449431680313, 18.247097627529993, 17.956484293837303, 149.43547759125488, 66.02014592055217, 287.06190423959634, 44.89710915366794, 49.59322927183532, 73.86023424205753, 35.51982923617077, 91.75067386467053, 89.9434822068088, 93.66502760006733, 45.44243208096864, 41.69411510759711, 28.184179505304304, 66.16447618667456, 99.18039702869659, 72.7152261237234, 54.421491312472966, 41.27689449420147, 169.2325251830121, 73.06306621224753, 92.55362663086112, 49.08424954932421, 104.90882582596991, 72.3605388635325, 79.12400560568199, 94.74086598404998, 70.32589052257472, 64.58638646387851, 52.82799169532927, 51.42881435851031, 723.4039525566038, 268.33705584602035, 226.57672696665566, 189.70988252605883, 106.44341696205758, 75.58900522169051, 74.4383814328756, 52.485673747382286, 49.45654675456109, 48.66247088330932, 47.47169948783192, 34.66093359971781, 31.166124459779606, 31.095076825957324, 26.95865083718931, 25.472760886738243, 22.185871934718257, 21.72557776497643, 21.426236036414736, 20.037888616796558, 19.708500509805084, 19.571871742266058, 19.54729705606412, 19.39441191645501, 17.724882648357276, 17.70293320197575, 17.580020029021433, 17.222044085757148, 15.81958542042533, 15.781805026190105, 51.34490605478804, 400.9675330875957, 38.55047367442, 100.43685870720445, 93.04195619596268, 151.83384098760837, 148.48024443882443, 61.5810450231287, 54.74168654873895, 60.35307445298864, 82.71085663089995, 62.25893867697842, 48.146595757010246, 183.62001748823292, 98.92025215836563, 42.23177169849717, 58.33639555189612, 130.1308334069688, 52.24424480968578, 47.053874255577924, 79.84695244950787, 57.758557330657936, 68.04520297327578, 49.9161472538688, 138.14392393908952, 120.11513084307803, 109.84121673976722, 106.36921214829844, 66.68249039179842, 60.43214159050406, 44.02711783182045, 41.33228338963347, 39.301656737195145, 39.005480278749125, 38.26143023679349, 38.225154023008486, 36.06214242067984, 35.17815381678602, 34.04990175712706, 31.536505704577596, 30.24524382717761, 27.06242327683599, 26.93201543901783, 26.09626036939792, 24.348034190109775, 24.15700737590919, 21.280838045741046, 20.657222042582184, 19.644398558465458, 18.62345666752502, 18.565255521801102, 17.821164222869637, 17.534741514241784, 17.440694048078733, 70.88061287400633, 349.15918942616986, 54.72113153758142, 63.62998920857217, 135.80912064877307, 238.30499078261465, 42.68768514018342, 70.18569387555776, 58.439064828039704, 31.754107763470184, 58.87369192154333, 33.146375686524664, 137.84997951995538, 45.44854016895205, 118.2027669754487, 54.073497589864594, 99.10879135293665, 71.35556834828658, 52.31863099463694, 62.170418148348894, 53.58274956044524, 48.62280946484538, 51.144391258445914, 42.9065731858161, 122.5541457269859, 74.58497185315507, 56.88106025077467, 49.56695130431315, 44.80495223130895, 41.90469872984659, 40.26231621570296, 37.84927974613621, 35.12456952702287, 32.11686637305555, 31.876326251792136, 30.91151553486557, 30.426471973535556, 29.77234714818929, 29.181292041231405, 27.932001685574367, 26.9833922604699, 24.825118694062432, 24.234587075188326, 22.644111656167247, 22.369599683625346, 21.76745762716599, 20.46321902947413, 20.457470842857067, 19.784775759222473, 19.78101814778905, 19.539948617493202, 18.975922376705814, 18.1597494786375, 18.069743306142588, 86.30405298962091, 136.66601870605288, 49.911176821913855, 40.72942107649155, 74.33812605042752, 136.42198252577495, 120.16916357410496, 245.42281711891437, 84.53496585563163, 288.68750583233117, 41.8088009112956, 85.27912977334724, 40.088985894321205, 70.85897313179363, 155.1342092298698, 35.51857181121192, 40.49580750372712, 64.60613440906008, 55.55151293147914, 41.177622558572864, 46.80973638380812, 50.674605792698124, 38.52220752845624, 126.13089486282232, 117.37433357693598, 88.86192945882136, 64.28270636850098, 63.449131530042834, 61.799658814940834, 59.48956454855217, 58.67389938011367, 56.27404018754002, 53.78258893972588, 45.55494475934585, 44.36856987426823, 41.706362582531675, 40.04246308757881, 39.290210041142934, 35.37149394612683, 34.58680925625022, 32.94888253627936, 31.47943527219308, 30.995564001290457, 29.677097280517412, 28.480541814544004, 26.441851567984227, 23.963711831443888, 21.726519423631952, 21.244883560431816, 21.207419604936856, 19.435559581809514, 19.18706499391403, 18.620949197809, 48.0757426950121, 94.72388020188444, 51.65013108032608, 74.17948966753328, 37.474242623984324, 36.68662184223754, 220.41057995827157, 47.48922091694512, 178.7525696975584, 41.56892842613311, 112.12244180244747, 55.4059292166981, 51.74118775061147, 43.455830439001446, 55.01465172621976, 40.556898450926035, 50.9362849652013, 48.99042135559072, 46.310136741575725, 40.77366056236089, 258.69362380721003, 114.71430322509505, 114.57255274259472, 110.18692341406712, 83.55221380742593, 79.06950879199576, 61.067383157748225, 48.59031076824391, 43.661613959404924, 41.60062972750836, 38.78893127696398, 38.00135539076082, 36.87555052477798, 32.20999676270588, 32.0555456840838, 31.207018005613218, 30.089965056603482, 28.555071787466538, 27.905715954164954, 25.266612674525565, 24.856245769934706, 24.46651602737941, 24.100213664013353, 23.609973994384756, 23.533329082302117, 22.06266733501564, 22.009904690459003, 21.844463964035015, 20.337936415591923, 20.325009745352485, 44.75658797069685, 95.61387146155407, 104.54418939351778, 45.76710696898492, 48.47290801476719, 44.751011852207824, 33.3142849199818, 30.217844516110826, 46.35269773454382, 113.26079808405984, 57.95134817981677, 115.18529924045255, 36.63552267076136, 48.40414297220388, 59.609530909170424, 62.97819481997084, 59.01908249009292, 60.64720266522989, 38.179888667970246, 59.55116800634075, 43.85307728712153, 105.5721434466386, 105.24461889500913, 89.74564654337723, 78.59152386784471, 48.56278563815344, 45.63521179273291, 45.347232794775074, 45.28638355872363, 40.767478703936725, 40.502834300308656, 37.91698792027954, 37.85628248427049, 37.160057076283714, 36.85681564729481, 36.556834666853355, 35.46837237349394, 35.13459072226655, 34.83361782028134, 31.012330130550794, 30.888947669342592, 30.120377476646457, 29.06199948464824, 28.981969419574565, 27.951966708785147, 25.8859113829403, 24.64052131949576, 23.997871895398788, 23.958681888024447, 23.357388291230283, 22.98108994143552, 72.4001621858003, 72.48112052982493, 134.9387280319792, 53.97407505401037, 95.44956743352866, 54.67827363050541, 59.164749978927446, 75.61463328931438, 38.595136392007866, 36.83503116579711, 48.186363928384246, 62.90764429644653, 42.11916651279697, 54.25536037219252, 42.40735408622376, 39.86157955043026, 37.648171986536404, 127.83560274593778, 92.57357428339334, 55.855379472650554, 48.750698214183366, 47.87109125925376, 46.95809810627319, 44.693744768053435, 43.48393003942992, 42.5433738054267, 42.12309705046754, 39.56904482393756, 38.86024736886859, 38.62806454345294, 35.88004487352576, 34.417899889158946, 33.22096410251094, 31.808432513173898, 31.363536902557456, 29.319023213553628, 28.94696150246023, 28.777705953914044, 27.419941314038052, 27.305104825593308, 26.70975933718382, 26.551985928437166, 26.281232741873687, 25.005591894374415, 23.919399015549622, 23.337090337353345, 23.21175929095612, 53.79020548244453, 210.73689921145444, 47.78381400811808, 37.7951951379367, 77.43459131143155, 38.83547931179548, 66.12952906848179, 121.1570740324147, 44.72327208636137, 66.74019929927628, 42.02781015127393, 56.62904765699754, 51.07209443037223, 70.28465537977617, 93.21089875059891, 53.26977986725007, 44.93296012639525, 53.24093837953248, 54.36648630980913, 56.87589498835171, 44.76548169152779, 294.1201937304901, 164.03897092699358, 113.25382238338952, 92.40564230599992, 85.65819660917698, 69.55198134720719, 67.46841083303798, 60.57166474911974, 60.12132423536825, 49.310578038555335, 49.1993733774406, 49.03552173465116, 46.10602239046917, 40.77383368451977, 40.144466700399235, 39.05939728060094, 32.071538330066645, 32.01605070433246, 29.357370321627585, 27.982946082624125, 27.900253984478542, 26.869048133251685, 26.417009320649722, 25.534215137678206, 25.07011798835651, 24.661671278070244, 24.235789664397203, 22.390671706846135, 22.345535548297622, 21.84312959453914, 38.08886909938938, 53.46568662170799, 48.02951984658154, 55.44571407246709, 41.34236357390889, 41.168476270077846, 57.75163051105787, 44.77619274386088, 136.84002411717884, 42.40481755162124, 43.75364355489595, 88.42219256707165, 46.10042136200535, 50.627486537557154, 49.59173467971352, 41.714273955431146, 40.250104141290535, 190.32098630219798, 155.56124660832018, 95.87460664800231, 94.72024145307329, 89.45917243859107, 87.86696902304257, 74.56192621991778, 72.3815654784176, 64.58862426848312, 59.51682294128286, 57.942146045996225, 51.125999333341404, 46.21321227713517, 45.70918471842868, 41.863982338701085, 40.0283962188018, 37.2163115342899, 36.95735563009448, 35.45564442701472, 31.895249805429103, 31.461429587710043, 29.477384474582845, 28.953226016855833, 27.97848519414089, 27.517965140402104, 26.675196672750637, 23.241718720419627, 22.56957463307134, 22.190114561655353, 21.51203182068015, 94.04762934678928, 105.4598425921535, 73.82196388503121, 42.950300674257356, 63.976042999163795, 53.4123182661728, 62.603861125888606, 56.22023608346101, 38.51159425467711, 40.586456718202236, 41.86177687146465, 38.97226326710549, 37.140625570678964, 69.30302174303654, 42.63667863907266, 41.77905079658081, 41.415962804923154, 37.82840573166766, 36.901918181819894, 36.14527825238245, 34.5390572255338, 32.09505973611755, 28.13966455233399, 26.549752522260157, 26.318915528611406, 25.85542714468164, 25.799707470324197, 25.640844938942585, 23.60529125135264, 23.203712495744607, 22.83187260814453, 21.64383749921791, 20.324178625820036, 20.08871252045049, 19.927434351347507, 19.306893469916474, 19.292201375909816, 18.95624120185066, 18.776409413209702, 18.677921814869425, 18.190166530151703, 17.905194509957255, 17.892441157321013, 95.91387202103026, 67.89323367175902, 79.57163269671283, 35.23146899307997, 70.3755190917623, 70.85278314377307, 39.21287578466275, 70.47874121959025, 49.531225792479994, 47.19957260463929, 60.67395108695276, 206.7256032023063, 44.11576693731921, 98.72240217337935, 26.27823997229362, 81.14382281009921, 68.60893025001181, 61.802473390938964, 33.64986947252608, 44.82109791714037, 55.502057379809926, 41.269158639255096, 40.31546817073276, 119.74059197990172, 115.01201299469356, 56.92929510554285, 45.716602596742284, 36.90893537735094, 35.416634112832895, 34.64438172885532, 34.542007748509164, 33.03739226852119, 32.541279010272135, 32.36993065939231, 32.22406820364688, 31.684017063399818, 29.797362295406227, 28.71028067786373, 28.39363370986158, 27.6444909848383, 26.119395905508053, 24.78101970863393, 23.79842259205631, 23.51847884031909, 23.47433809068181, 22.77212405154885, 22.435894747649485, 21.113296630996036, 20.767294025809985, 20.04932950784548, 18.755031054226855, 18.603739469320416, 18.460665996809908, 107.85739152726792, 82.3020581159971, 54.35234025525732, 128.40814870007608, 72.5220452062351, 44.22731536154667, 43.26289892865982, 42.70351352913032, 223.07105036058113, 100.91622527968201, 29.550135909290514, 55.164943277049495, 30.501948063400473, 49.252317921510304, 33.58795330745138, 36.73214912662136, 37.021877317472295, 32.3990598436082, 116.55762376158475, 105.70857105179961, 101.10517991859422, 49.264551843941305, 48.93605799257128, 46.10084460378394, 45.21604616625649, 41.000060084661065, 39.405406669857605, 38.122560983479886, 31.769847030379918, 28.97583204023345, 28.348764917716053, 28.212855208944763, 25.68138034648464, 24.060983238532625, 23.57864471044342, 22.223530262719198, 22.025418733907475, 21.464450473600728, 20.564200714993262, 20.253844878933386, 19.653284827916448, 19.517891145913033, 17.701906074411884, 17.18053898938888, 17.173832524813992, 16.91201900252205, 16.896536311831667, 16.59123430933022, 100.18344188549807, 139.1002521786794, 111.43473919521493, 47.87981754923236, 53.39893544525786, 27.284102002739868, 36.73313784153111, 71.94081046569366, 40.215091745829575, 38.1764677175084, 100.47279280298608, 32.21473230718053, 48.577338002850844, 54.91274101858275, 47.659315794014454, 40.244212622398614, 54.83079530472045, 68.50654223331716, 70.44090849049378, 37.79929253771323, 33.80797902581554, 33.445795439519785, 317.9490383227886, 154.6751411844889, 76.3206210438054, 73.77503593736155, 73.55564160094568, 71.14164500617565, 60.389590252766766, 52.23950287074281, 39.7436696594602, 35.66424916483298, 35.54152291371867, 33.54129800514821, 33.11891058845822, 31.812688548382628, 31.40037715543523, 31.00096438753046, 30.440132696157633, 30.0559362632327, 29.661051039655945, 23.92739722163449, 22.64185250768427, 22.616591507838457, 21.99697090424064, 21.239949700776933, 21.118279918991362, 20.19760262054031, 19.763142640834506, 19.57750460809047, 19.17225091039904, 19.11450359205856, 69.24221762558574, 41.21959235846972, 68.49831198635589, 40.22792005188736, 43.01536346769926, 37.485634729179274, 33.813545815822295, 63.34025289422248, 36.13492402593675, 32.00500501485795, 55.92681697538337, 33.39277769188497, 172.75247105094238, 126.56382330101066, 69.8706099890532, 68.6095771341908, 67.45631948190108, 66.29342686536798, 63.043274773195606, 52.410161704285564, 48.79352537481396, 45.06193654154606, 36.16195274213303, 27.984265153815752, 25.309135522841096, 24.053805354852997, 23.9256902007477, 22.77251752687071, 21.93441258053438, 21.33735936705319, 20.30604535500465, 19.694036370578537, 19.248884043733415, 19.03287958928504, 18.644408189291394, 18.323298501481872, 17.887240691864967, 17.668050641389087, 16.975085269758743, 16.496537088839734, 16.47724138763303, 16.336064897635463, 49.15449131591506, 163.02676731129776, 28.384746801758222, 291.53612749126734, 35.46819592647369, 39.063422885675216, 27.357350630241772, 58.59140144498327, 24.354477526395026, 108.47797673883241, 83.34459475670447, 95.61499003744909, 27.167567059557427, 35.264973760764605, 32.43030203177524, 39.021884083411535, 33.55344768980368, 28.684363416841343], \"Term\": [\"live\", \"city\", \"trump\", \"hillary\", \"new\", \"health\", \"join\", \"watch\", \"care\", \"great\", \"read\", \"change\", \"woman\", \"look\", \"climate\", \"life\", \"clinton\", \"job\", \"right\", \"thank\", \"news\", \"@facebook\", \"obama\", \"president\", \"state\", \"work\", \"york\", \"senate\", \"republican\", \"question\", \"city\", \"change\", \"climate\", \"york\", \"actonclimate\", \"action\", \"mayor\", \"global\", \"climatechange\", \"submit\", \"drive\", \"@bloombergdotorg\", \"cop21\", \"commit\", \"ballot\", \"quality\", \"usafricabizforum\", \"bronx\", \"incredible\", \"africa\", \"preserve\", \"partnership\", \"resource\", \"@compactofmayor\", \"afternoon\", \"parisagreement\", \"tackle\", \"review\", \"nato\", \"april\", \"progress\", \"leadership\", \"clean\", \"new\", \"innovation\", \"risk\", \"fight\", \"future\", \"power\", \"business\", \"energy\", \"world\", \"improve\", \"economy\", \"glad\", \"help\", \"great\", \"way\", \"community\", \"lead\", \"leader\", \"work\", \"thank\", \"today\", \"support\", \"safe\", \"kid\", \"student\", \"promise\", \"social\", \"number\", \"br\", \"announce\", \"medicare\", \"senior\", \"parent\", \"invest\", \".@potus\", \"massive\", \"debt\", \"hurricane\", \"neighbor\", \"texas\", \"cancer\", \"affect\", \"@c40citie\", \"harvey\", \"inequality\", \"regulation\", \"extreme\", \"traffic\", \"wing\", \"navy\", \"positive\", \"electoral\", \"instead\", \"tax\", \"cut\", \"high\", \"pay\", \"reduce\", \"young\", \"stay\", \"security\", \"college\", \"school\", \"rate\", \"family\", \"want\", \"work\", \"america\", \"people\", \"job\", \"leave\", \"ne\", \"help\", \"big\", \"trump\", \"american\", \"year\", \"country\", \"good\", \"new\", \"let\", \"hillary\", \"clinton\", \"debate\", \"lie\", \"email\", \"tweet\", \"minute\", \"wealthy\", \"buy\", \"tie\", \"endorse\", \"minimum\", \"un\", \"bold\", \"deny\", \"elite\", \"food\", \"poor\", \"especially\", \"study\", \"father\", \"@dcexaminer\", \"count\", \"simply\", \"reflect\", \"bigleaguetruth\", \"usa\", \"diversity\", \"winner\", \"headline\", \"trust\", \"dangerous\", \"supporter\", \"cause\", \"medium\", \"fbi\", \"trump\", \"sure\", \"know\", \"rule\", \"think\", \"democrat\", \"wage\", \"donald\", \"time\", \"pre\", \"poll\", \"want\", \"country\", \"let\", \"american\", \"president\", \"@realdonaldtrump\", \"people\", \"run\", \"yorker\", \"voter\", \"nypd\", \"syria\", \"defeat\", \"miss\", \"letter\", \"african\", \"foundation\", \"spread\", \"register\", \"ticket\", \"seek\", \"excuse\", \"comment\", \"rt\", \"vpdebate\", \"assad\", \"hunt\", \"throwbackthursday\", \"islamic\", \"retweet\", \"huckabee\", \"kaine\", \"medal\", \"colorado\", \"penny\", \"warn\", \"cool\", \"uss\", \"reporter\", \"war\", \"election\", \"message\", \"putin\", \"tbt\", \"donald\", \"game\", \"terrorist\", \"day\", \"mccain\", \"trump\", \"john\", \"isis\", \"attack\", \"send\", \"vote\", \"win\", \"caign\", \"new\", \"kill\", \"victory\", \"russia\", \"stand\", \"american\", \"good\", \"thing\", \"today\", \"president\", \"health\", \"care\", \"life\", \"insurance\", \"throw\", \"ignore\", \"equality\", \"session\", \"gov\", \"legislation\", \"depend\", \"speaker\", \"secure\", \"lgbt\", \"require\", \"confirm\", \"attorney\", \"summer\", \"politician\", \"ryan\", \"a.m.\", \"swear\", \"marriage\", \"orlando\", \"paul\", \"parenthood\", \"carry\", \"overtime\", \"boy\", \"slow\", \"republican\", \"medicaid\", \"statement\", \"easy\", \"bill\", \"save\", \"beautiful\", \"child\", \"act\", \"exle\", \"plan\", \"people\", \"issue\", \"simple\", \"afford\", \"american\", \"death\", \"vote\", \"fight\", \"congress\", \"economic\", \"ne\", \"obamacare\", \"help\", \"good\", \"obama\", \"family\", \"work\", \"pm\", \"iran\", \"human\", \"@nytime\", \"goal\", \"movement\", \"combat\", \"difference\", \"reach\", \"disaster\", \"sanction\", \"moral\", \"international\", \"everybody\", \".@bloombergdotorg\", \"ukraine\", \"grassroots\", \"partisan\", \"sell\", \"condemn\", \"australia\", \"extend\", \"civil\", \"@narendramodi\", \"accountable\", \"intelligence\", \"sailor\", \"jerusalem\", \"aca\", \"@climaterisk\", \"important\", \"@washingtonpost\", \"right\", \"police\", \"hand\", \"reform\", \"remain\", \"add\", \"find\", \"hard\", \"executive\", \"ppl\", \"concern\", \"hold\", \"russia\", \"happen\", \"effort\", \"begin\", \"work\", \"protect\", \"read\", \"russian\", \"obama\", \"support\", \"fight\", \"american\", \"today\", \"people\", \"ne\", \"time\", \"live\", \"@facebook\", \"question\", \"ask\", \"answer\", \"north\", \"enjoy\", \"town\", \"process\", \"korea\", \".@callygingrich\", \"carolina\", \"wh\", \"treatment\", \"discrimination\", \"different\", \"recovery\", \"pledge\", \"blame\", \"election2016\", \"edt\", \"vp\", \"mission\", \"reveal\", \"evening\", \"resolve\", \"touch\", \"completely\", \"inaugural\", \"organization\", \"deliver\", \"join\", \"shoot\", \"team\", \"discus\", \"discuss\", \"speak\", \"china\", \"host\", \"head\", \"tune\", \"fact\", \"hall\", \"watch\", \"talk\", \"truth\", \"tomorrow\", \"today\", \"morning\", \"crisis\", \"president\", \"tonight\", \"obama\", \"speech\", \"deal\", \"@wsj\", \"address\", \"united\", \"prayer\", \"sasc\", \"@vp\", \"anniversary\", \"offer\", \"weekly\", \"guarantee\", \"@whitehouse\", \"daughter\", \"park\", \"gain\", \"imp't\", \"fly\", \"co\", \"biden\", \"tpp\", \"teacher\", \"melania\", \"storm\", \"reagan\", \"responsibility\", \"cindy\", \"condolence\", \"@usnavy\", \"immediately\", \"tillerson\", \"defense\", \"read\", \"immigration\", \"trade\", \"hear\", \"state\", \"official\", \"open\", \"order\", \"priority\", \"matter\", \"girl\", \"obama\", \"secretary\", \"president\", \"history\", \"today\", \"family\", \"u.s\", \"good\", \"watch\", \"world\", \"country\", \"nation\", \"choice\", \"va\", \"point\", \"local\", \"cover\", \"liberal\", \"phoenix\", \"unite\", \"vet\", \"represent\", \"twitter\", \"final\", \"university\", \"excellent\", \"piece\", \"caucus\", \"achieve\", \"standard\", \"govt\", \"ad\", \"pull\", \".@hillaryclinton\", \"grand\", \"nominate\", \"earlier\", \"unemployment\", \"enemy\", \"culture\", \"chat\", \"era\", \"veteran\", \"poll\", \"freedom\", \"datum\", \"visit\", \"@realdonaldtrump\", \"lead\", \"thank\", \"strong\", \"great\", \"rally\", \"meet\", \"@bloomberg\", \"love\", \"today\", \"commitment\", \"follow\", \"state\", \"honor\", \"welcome\", \"day\", \"new\", \"year\", \"fair\", \"judge\", \"chance\", \"nominee\", \"garland\", \"hearing\", \"little\", \"@cnn\", \"historic\", \"enter\", \"dream\", \"vision\", \"yes\", \"fill\", \"majority\", \"group\", \"scotus\", \"admin\", \"sw\", \"prevent\", \"consider\", \"grateful\", \"develop\", \"lesson\", \"perfect\", \"proposal\", \"david\", \"@msnbc\", \"near\", \"duty\", \"refuse\", \"national\", \"politic\", \"deserve\", \"feel\", \"afghanistan\", \"president\", \"office\", \"obama\", \"presidential\", \"trump\", \"security\", \"meet\", \"budget\", \"senate\", \"face\", \"leader\", \"like\", \"ne\", \"share\", \"news\", \"low\", \"drug\", \"fake\", \"cost\", \"price\", \"governor\", \"profit\", \"rich\", \"corporation\", \"early\", \"ed\", \"nearly\", \"ny\", \"vital\", \"potential\", \"reject\", \"fast\", \"flight\", \"courage\", \"bigotry\", \"greed\", \"introduce\", \"financial\", \"exist\", \"owe\", \"momentum\", \"successful\", \"racism\", \"uninsured\", \"op\", \"company\", \"worker\", \"ceo\", \"foreign\", \"income\", \"huge\", \"half\", \"raise\", \"year\", \"congress\", \"american\", \"hour\", \"end\", \"stand\", \"country\", \"time\", \"people\", \"wage\", \"trump\", \"medium\", \"class\", \"repeal\", \"fail\", \"middle\", \"hurt\", \"interest\", \"bernie\", \"replace\", \"nice\", \"criminal\", \"housing\", \"crooked\", \"hrc\", \"worry\", \"fun\", \"despite\", \"total\", \"black\", \"partner\", \"ice\", \"prime\", \"syrian\", \"secret\", \"bloomberg\", \"burn\", \"st\", \"respond\", \"folk\", \"sound\", \"crowd\", \"far\", \"wrong\", \"obamacare\", \"cnn\", \"bad\", \"healthcare\", \"congratulation\", \"big\", \"sander\", \"line\", \"run\", \"thank\", \"law\", \"great\", \"lose\", \"policy\", \"medium\", \"court\", \"supreme\", \"fox\", \"nomination\", \"planet\", \"kind\", \"board\", \"ohio\", \"sector\", \"floor\", \"pipeline\", \"organize\", \"director\", \"remark\", \"decide\", \"appreciate\", \"november\", \"summit\", \"dakota\", \"healthy\", \"editorial\", \"pro\", \"premium\", \"code\", \"rip\", \"biz\", \"fy18ndaa\", \"fy17ndaa\", \"january\", \"green\", \"private\", \"senate\", \"voice\", \"view\", \"pass\", \"brave\", \"doyourjob\", \"leader\", \"democracy\", \"dem\", \"drainthesw\", \"military\", \"political\", \"stop\", \"vote\", \"justice\", \"comey\", \"hear\", \"speak\", \"country\", \"bill\", \"look\", \"forward\", \"book\", \"use\", \"understand\", \"immigrant\", \"mr\", \"small\", \"industry\", \"reality\", \"fuel\", \"tobacco\", \"role\", \"fossil\", \"forget\", \"@callygingrich\", \"tour\", \"travel\", \"union\", \"model\", \"corrupt\", \"king\", \"denier\", \"form\", \"@un\", \"course\", \"epa\", \"pharmaceutical\", \"cruz\", \"medical\", \"citizen\", \"elect\", \"affordable\", \"learn\", \"key\", \"special\", \"tomorrow\", \"play\", \"trump\", \"opportunity\", \"lot\", \"new\", \"business\", \"work\", \"thank\", \"big\", \"like\", \"happy\", \"imwithhuck\", \"wall\", \"candidate\", \"gopdebate\", \"birthday\", \"street\", \"party\", \"late\", \"wish\", \"billionaire\", \"iacaucus\", \"truly\", \".@realdonaldtrump\", \"faith\", \"list\", \"rig\", \"road\", \"worth\", \"wealth\", \"later\", \"clearly\", \"short\", \"presidency\", \"emission\", \"accept\", \"bush\", \"chairman\", \"fairtax\", \"wife\", \"story\", \"report\", \"system\", \"fix\", \"friend\", \"tell\", \"good\", \"year\", \"tax\", \"day\", \"president\", \"ne\", \"today\", \"wonderful\", \"agreement\", \"moment\", \"trip\", \"@mike_pence\", \"urge\", \"market\", \"borough\", \"leadontrade\", \"d.c\", \"hire\", \"inthebronx\", \"volunteer\", \"exactly\", \"lady\", \"wonder\", \"lifetime\", \"rncincle\", \"environment\", \"conservative\", \"relationship\", \"delegation\", \"congressional\", \"@morning_joe\", \"department\", \"q;a\", \"announcement\", \"obstruction\", \"climateofhope\", \"onstatenisland\", \"gt\", \"idea\", \"washington\", \"pence\", \"government\", \"challenge\", \"mike\", \"night\", \"meeting\", \"israel\", \"try\", \"great\", \"listen\", \"good\", \"south\", \"american\", \"thank\", \"america\", \"fire\", \"support\", \"people\", \"@potus\", \"friend\", \"check\", \"white\", \"push\", \"conference\", \"getcover\", \"strengthen\", \"info\", \"@flotus\", \"option\", \"divide\", \"remarkable\", \"al\", \"jame\", \"weekend\", \"@mariabartiromo\", \"trail\", \"equal\", \"labor\", \"dnc\", \"strength\", \"hot\", \"society\", \"dinner\", \"wisconsin\", \"period\", \"outrageous\", \"straight\", \"guest\", \"holiday\", \"dead\", \"record\", \"month\", \"press\", \"house\", \"grow\", \"soon\", \"guy\", \"able\", \"job\", \"caign\", \"chicago\", \"economy\", \"florida\", \"day\", \"add\", \"ne\", \"obama\", \"leave\", \"free\", \"serve\", \"ready\", \"hero\", \"generation\", \"fear\", \"nuclear\", \"failure\", \"commander\", \"experience\", \"primary\", \"de\", \"la\", \"weapon\", \"terror\", \"hospital\", \"struggle\", \"accountability\", \"skill\", \"memorial\", \"contract\", \"moderator\", \"pa\", \"tucson\", \"contribution\", \"outstanding\", \"schumer\", \"@gop\", \"tuition\", \"mistake\", \"create\", \"congrat\", \"public\", \"tough\", \"chief\", \"remind\", \"person\", \"service\", \"fall\", \"include\", \"honor\", \"investment\", \"true\", \"place\", \"force\", \"education\", \"arizona\", \"job\", \"great\", \"believe\", \"family\", \"ne\", \"woman\", \"man\", \"away\", \"control\", \"violence\", \"respect\", \"close\", \"treat\", \"sense\", \"charge\", \"sad\", \"earn\", \"solve\", \"chip\", \"common\", \"beat\", \"taxpayer\", \"award\", \"percent\", \"mayoral\", \"bless\", \"racist\", \"apologize\", \"advice\", \"second\", \"surprise\", \"abortion\", \"transform\", \"investigate\", \"@berniesander\", \"gun\", \"dc\", \"remember\", \"single\", \"officer\", \"problem\", \"bring\", \"right\", \"god\", \"impact\", \"thank\", \"time\", \"et\", \"@foxnew\", \"interview\", \"@seanhannity\", \"@foxandfriend\", \"mis\", \"sotu\", \"p.m.\", \"anti\", \"debatenight\", \"catch\", \"establishment\", \"alliance\", \"imagine\", \"field\", \"disgrace\", \"strike\", \"doctor\", \"importance\", \"dishonest\", \"sunday\", \"alabama\", \"daca\", \"bob\", \"appear\", \"kim\", \"scott\", \"@nycfirstlady\", \"train\", \"conduct\", \"hate\", \"tonight\", \"island\", \"watch\", \"coal\", \"powerful\", \"facebook\", \"tune\", \"cabinet\", \"obama\", \"join\", \"president\", \"crime\", \"talk\", \"discuss\", \"today\", \"good\", \"come\"], \"Total\": [724.0, 720.0, 1346.0, 566.0, 985.0, 452.0, 552.0, 561.0, 397.0, 941.0, 442.0, 429.0, 318.0, 294.0, 374.0, 322.0, 320.0, 420.0, 379.0, 606.0, 259.0, 269.0, 763.0, 780.0, 377.0, 672.0, 283.0, 280.0, 292.0, 227.0, 720.8442201919887, 429.69321978907675, 374.0866073015688, 283.0274612336801, 158.7667625484088, 153.31826417070698, 123.4147467494796, 110.93875000613139, 101.7612802369771, 61.341893938179524, 59.93745802477077, 59.06661029777011, 44.90433152567489, 43.803890111113354, 39.43999903806985, 33.994471109327996, 33.39898939201265, 32.58607375772307, 32.4697601799369, 31.380835456365872, 30.207049060981284, 30.170014986718886, 27.040995911233328, 26.74685172757807, 26.665209724450747, 26.634985610078814, 26.590134142348063, 25.78826019955119, 25.549667643184293, 25.435744607058485, 131.19780703711578, 94.66925153658109, 92.36487994125314, 985.9745410311552, 48.54188758250224, 65.00374121439671, 427.99192608419037, 180.7425797160333, 106.44698886168932, 188.50435437392505, 126.55770077082637, 267.74274063461746, 85.96155068054989, 202.9446934760923, 99.07866431341972, 451.93588465611, 941.033789528915, 254.3014498324111, 147.14155826099193, 208.78825861934925, 275.9310083282972, 672.8178970012395, 606.9421912297425, 804.5454213956453, 294.21276297808896, 172.54311686644235, 128.98983493155959, 97.5373888969605, 76.09650803524364, 64.50073000212308, 63.570672693923775, 62.89432562815008, 55.782797481206906, 55.18147317331531, 51.53987835132019, 49.928529936001894, 48.844454453082605, 45.32060168158611, 43.88011946836506, 43.58433247180316, 42.96681974478354, 35.29313298048385, 31.967685513014683, 30.496749674232817, 28.931908619935083, 28.480777213541877, 25.37822604875603, 24.501050001034653, 22.82594262120083, 22.144929077492137, 21.491587388646693, 21.372330532473807, 21.37187092858396, 21.157133435274783, 21.064304350466404, 48.64327359918347, 286.33601843052173, 171.5275913808654, 177.8212583596122, 263.2986763075494, 67.66899883825866, 88.0991335285302, 96.4789269371383, 200.67019459514916, 102.35996918534667, 124.30673655676455, 76.17457291470782, 359.22181004244544, 355.5055049772476, 672.8178970012395, 477.84449762552873, 798.8687096417899, 420.4438730204369, 209.77503761559134, 482.43588720596375, 451.93588465611, 316.24121352621216, 1346.9018398000803, 793.8233627388998, 533.0720248488309, 442.4115631613136, 629.0555112160338, 985.9745410311552, 331.9616919328053, 566.06346922413, 320.7383178358929, 208.86686318831832, 119.25648128306305, 62.272337047433474, 54.436660678836006, 51.76780840144437, 46.41094166267023, 39.31833123333572, 38.11538858108407, 35.87096684574963, 35.665988172361985, 33.826298519149745, 31.228294343180448, 29.14913889327602, 29.004711032858587, 28.564037471792748, 28.318090120191624, 27.4165688951984, 25.812848333711194, 24.56476218092739, 24.552316335195346, 24.380264752826083, 23.62655697380971, 23.554323879851648, 23.380029710116695, 23.13909074091096, 23.08284871576508, 21.80879999139919, 19.879602061005272, 48.18684721568346, 59.619296929914064, 51.03912949495015, 53.91213932721926, 205.18610564842808, 60.55618408515214, 1346.9018398000803, 146.739960044081, 296.20065619220543, 77.3971169513062, 238.75659278599474, 126.82079267253759, 88.12088097675866, 247.56936789120243, 509.9221116298014, 78.22345893230238, 195.9080598095074, 355.5055049772476, 442.4115631613136, 331.9616919328053, 793.8233627388998, 780.892798821983, 237.71697985583276, 798.8687096417899, 149.39948079110957, 161.26789262875477, 113.91938682710743, 69.03590703257596, 61.627165763557876, 60.51672219438089, 52.19116938244431, 36.61468650271963, 31.85388827680201, 29.921147109843456, 29.037621050027454, 28.979288112524753, 28.526289769574987, 28.353249897426586, 27.74873245760588, 27.65283600034025, 26.324017827925882, 26.26095389224035, 25.978841974847043, 25.928632538573755, 25.753463769142453, 25.02425931703165, 24.47454356981838, 23.505381153141695, 22.772164127977273, 22.174612798771506, 22.159031649880408, 21.939848894438818, 20.778170510599193, 20.328666961661316, 20.129179515786113, 23.766419103794078, 70.96660810299406, 230.88615755952753, 74.91588870794932, 47.54859411024375, 46.635829678976606, 247.56936789120243, 67.41061139086497, 57.76194455983366, 471.1135132008696, 80.07986430785799, 1346.9018398000803, 110.26012420658522, 50.474029276243584, 158.9340665817381, 92.69189510668323, 443.57583010257974, 267.8456020484029, 209.92675464554515, 985.9745410311552, 68.70782368070677, 54.700142917440076, 183.38105365052087, 330.48497515666656, 793.8233627388998, 629.0555112160338, 173.7314581608098, 804.5454213956453, 780.892798821983, 452.96680749155604, 397.94376026384117, 322.0247771535245, 78.50844667832409, 52.85916485688633, 47.62594598932595, 40.28737677795553, 37.34799684215329, 31.131920316892415, 30.11440134863443, 29.74456436327347, 27.67542755836192, 27.52123177705924, 25.670842412556347, 25.41237456439446, 25.382328696350143, 25.149003345025616, 24.225538268131626, 24.13189079542669, 23.169611685595306, 22.41041168548869, 21.24028149882545, 21.116479293380856, 20.969107653751305, 20.099513037435006, 19.654417582119066, 18.58975352148489, 17.948776983870896, 17.643343140809165, 17.341653475595667, 292.1671253135027, 43.54399119268028, 68.5800549727593, 63.25211596032162, 215.8537683237437, 130.98973727310346, 62.5952141399812, 135.2447544922064, 177.32125150437955, 45.72199943956039, 284.82542928471776, 798.8687096417899, 131.19607945499513, 43.36842655049309, 57.51005443067047, 793.8233627388998, 67.41250453815077, 443.57583010257974, 427.99192608419037, 166.56250213315093, 141.48489802059257, 482.43588720596375, 213.78151899516217, 451.93588465611, 629.0555112160338, 763.9642963112569, 359.22181004244544, 672.8178970012395, 152.17147198650844, 62.662012122601396, 62.23271243880015, 61.624538878029405, 57.284167752188374, 51.80449474736043, 45.366296973969646, 42.75479920902913, 41.36113607532189, 38.61811150011133, 38.16391267563649, 28.07805712170102, 27.583864705905356, 25.720759742384637, 25.306569648996827, 24.572160279709955, 22.96223397052163, 22.309937822686447, 22.1974392685357, 21.81037457489116, 21.429245134107674, 21.081343139073653, 20.819410700344, 20.34371501039158, 19.839760837136602, 19.754149396542317, 19.63969970459481, 19.162964468827496, 19.106612664160547, 18.815999331436466, 164.15783698105594, 75.31681366945449, 379.5729914816804, 50.675282632325576, 59.14655514609093, 96.80140493363233, 41.22320483423116, 126.15292457186042, 130.01884178268358, 146.48195379369784, 58.632933036438146, 53.5414111343026, 32.25936138272972, 103.25746431401195, 183.38105365052087, 124.16060572758545, 83.99026783361406, 59.11804240417364, 672.8178970012395, 205.88495038186423, 442.5268881777415, 92.2959836469498, 763.9642963112569, 294.21276297808896, 427.99192608419037, 793.8233627388998, 804.5454213956453, 798.8687096417899, 482.43588720596375, 509.9221116298014, 724.2639670686357, 269.1970703550079, 227.4367414774, 190.5698970392966, 107.30343147509522, 76.44901973432262, 75.29839594905145, 53.345688258839495, 50.316561272134486, 49.52248539631104, 48.33171400052365, 35.52094811218355, 32.0261389791236, 31.955091339546733, 27.818665354365475, 26.332775404771066, 23.04588644889469, 22.585592284742116, 22.286250554366916, 20.897903126216402, 20.568515023057408, 20.431886259868783, 20.40731157371318, 20.254426436759065, 18.584897161779804, 18.562947723183406, 18.440034549612033, 18.08205860472003, 16.67959993513611, 16.641819543118963, 54.95906483947911, 552.3366537307878, 43.505111473798735, 130.5465557801665, 123.53177695984186, 229.11567605604023, 239.27993821827928, 81.83732114788212, 78.81121417870608, 89.89817468252926, 142.1174728161548, 99.67255192380426, 69.59414097853276, 561.5445997451745, 248.10152766208915, 62.18450685176172, 129.8951718881848, 804.5454213956453, 108.04924876727372, 82.89482267059894, 780.892798821983, 253.1927095497939, 763.9642963112569, 159.08683340313357, 139.00326739394936, 120.97447429382251, 110.70056019302338, 107.2285556001063, 67.54183384460121, 61.2914850406879, 44.88646128521485, 42.19162684403382, 40.16100021215459, 39.86482372876923, 39.12077369097455, 39.08449747866969, 36.92148587550596, 36.03749727150707, 34.90924521298955, 32.39584915867651, 31.104587281384916, 27.921766731838538, 27.79135889213195, 26.955603823208016, 25.207377644663197, 25.016350832772474, 22.140181502151687, 21.516565496801267, 20.50374201471665, 19.48280012059896, 19.42459897423574, 18.680507674934866, 18.394084972550026, 18.30003749918637, 80.72468922418496, 442.5268881777415, 66.44808587189051, 79.16325545501196, 189.8639222870528, 377.2369831943856, 58.420866473259515, 117.61660018248085, 99.01377180104666, 38.90182093197924, 107.37511149113783, 42.31578124388156, 763.9642963112569, 80.89170521459964, 780.892798821983, 129.33189041132053, 804.5454213956453, 359.22181004244544, 225.10762888034586, 629.0555112160338, 561.5445997451745, 267.74274063461746, 442.4115631613136, 164.1282225774957, 123.4143145111646, 75.44514063788928, 57.7412290360098, 50.42712008956559, 45.665121019608016, 42.76486752051681, 41.12248499815529, 38.70944853407069, 35.98473831059437, 32.97703515877506, 32.73649503458356, 31.771684320881516, 31.28664076114915, 30.636084680741455, 30.041460824828135, 28.792170470894, 27.843561047655033, 25.685287478301888, 25.09475586199049, 23.50428044069992, 23.229768468160945, 22.62762641256465, 21.32338781478514, 21.317639632156638, 20.64494454165828, 20.64118693523074, 20.400117402007357, 19.836091160387312, 19.01991826342341, 18.929912093925186, 103.72527362757222, 195.9080598095074, 61.68120216126182, 50.14723602439019, 109.82956279356449, 237.71697985583276, 208.78825861934925, 606.9421912297425, 152.62289176335915, 941.033789528915, 57.78357716601662, 177.17870353841795, 55.81895421990232, 142.4581301656972, 804.5454213956453, 54.32293373600392, 81.95620540445731, 377.2369831943856, 244.03396106611595, 102.52188353360086, 471.1135132008696, 985.9745410311552, 533.0720248488309, 126.99062696157146, 118.23406567254096, 89.72166155708847, 65.14243846537019, 64.30886362411714, 62.65939091017814, 60.3492966916205, 59.53363148212772, 57.13377228785346, 54.64232103579592, 46.41467685860744, 45.22830197451797, 42.5660946820089, 40.90219518910755, 40.14994213989197, 36.23122604583712, 35.446541352778674, 33.80861463611486, 32.33916736990592, 31.85529610411538, 30.536829378446257, 29.340273916312213, 27.301583668194493, 24.82344393104645, 22.586251523008585, 22.104615662936805, 22.067151704322118, 20.295291685608827, 20.046797099267785, 19.48068129691698, 58.70266469293269, 162.88943056359372, 73.97002766258362, 124.72718494823279, 48.85259354471801, 49.73270032041627, 780.892798821983, 77.1712348951828, 763.9642963112569, 65.68753687605847, 1346.9018398000803, 200.67019459514916, 177.17870353841795, 93.74416205535547, 280.2131077578162, 75.40452846853275, 275.9310083282972, 302.84282329217524, 482.43588720596375, 107.38561085838967, 259.5524676421158, 115.57314705601614, 115.43139657075206, 111.04576724202497, 84.41105763769426, 79.92835261963867, 61.92622699056002, 49.44915459794022, 44.520457789673834, 42.45947355837345, 39.6477751086696, 38.86019922010106, 37.73439435413591, 33.06884059424534, 32.91438951606572, 32.06586183650576, 30.94880888689413, 29.41391561989189, 28.76455978457573, 26.125456507807613, 25.71508959875203, 25.325359854507063, 24.959057495293383, 24.46881782413017, 24.392172913147878, 22.921511165979418, 22.868748521363486, 22.703307797782454, 21.19678024330761, 21.183853576674554, 48.23688229318049, 120.36971895992255, 136.81431772660548, 56.59153679057697, 65.45027861015744, 64.24853926380068, 42.21033118291273, 37.2738970485962, 85.57154404877312, 533.0720248488309, 166.56250213315093, 793.8233627388998, 63.771391751553516, 156.3964997105111, 330.48497515666656, 442.4115631613136, 509.9221116298014, 798.8687096417899, 88.12088097675866, 1346.9018398000803, 205.18610564842808, 106.43176803268194, 106.10424348042896, 90.60527112981474, 79.45114845292488, 49.42241022406021, 46.49483637976902, 46.206857378691495, 46.146008140569485, 41.62710363168687, 41.362458885392975, 38.776612508479516, 38.71590706989881, 38.019681662500254, 37.716440234310156, 37.41645925232554, 36.32799696139237, 35.99421530706122, 35.693242406472045, 31.87195471786481, 31.74857225477348, 30.98000206036235, 29.92162407357474, 29.841594005668544, 28.81159129560179, 26.745535970615478, 25.500145905945843, 24.857496482274225, 24.818306475014836, 24.217012883353547, 23.840714524477765, 77.14251732186062, 79.14712882045845, 213.78151899516217, 68.2812060988791, 153.11598017166065, 76.85248246902442, 93.04172946565942, 316.24121352621216, 61.700579404760944, 59.40952781131021, 149.39948079110957, 606.9421912297425, 128.51250570327716, 941.033789528915, 146.38781389355773, 159.54640209643173, 205.18610564842808, 128.6949092187615, 93.43288075471636, 56.71468594821164, 49.61000468885845, 48.7303977367292, 47.817404583106814, 45.553051243823234, 44.34323651684284, 43.40268027950675, 42.98240352282167, 40.42835129751358, 39.71955384562486, 39.487371019587094, 36.739351351841414, 35.277206365259346, 34.080270578681855, 32.667738988802896, 32.222843379640715, 30.178329686326908, 29.806267978677322, 29.637012425267965, 28.279247789324927, 28.16441130318058, 27.56906581675568, 27.411292406066224, 27.140539217224028, 25.864898367737645, 24.778705489822563, 24.196396814047578, 24.071065769731984, 61.14161827105876, 280.2131077578162, 54.8973865514704, 42.59823241072909, 107.63818138762208, 44.86610218414019, 104.67917030109804, 275.9310083282972, 60.62101440010891, 122.90838905725529, 57.85522554671402, 111.13769431090594, 95.86092221902673, 212.45478566385606, 443.57583010257974, 112.79886717822683, 82.95586677038713, 189.8639222870528, 239.27993821827928, 442.4115631613136, 215.8537683237437, 294.97932403205385, 164.89809575814866, 114.11294721472954, 93.26476714048195, 86.51732144094936, 70.41110618066257, 68.32753566745022, 61.430789581196365, 60.98044906818653, 50.16970287250643, 50.058498208693834, 49.894646566853666, 46.965147224474094, 41.63295851460944, 41.00359153399258, 39.91852211304061, 32.930663166341574, 32.87517553992579, 30.21649515583563, 28.842070914389673, 28.75937882239683, 27.728172969984385, 27.27613415610856, 26.393339972394692, 25.92924282179942, 25.520796113495543, 25.094914498513738, 23.249796538149184, 23.20466038496856, 22.70225442909934, 45.380395928048266, 85.69466842761598, 77.29847898138149, 101.18276241194839, 62.63011961058636, 62.958967262146615, 129.8951718881848, 82.02886578862669, 1346.9018398000803, 84.31424374566731, 94.54737226264497, 985.9745410311552, 188.50435437392505, 672.8178970012395, 606.9421912297425, 316.24121352621216, 302.84282329217524, 191.1814301178534, 156.4216904233357, 96.73505046395671, 95.58068528051474, 90.31961625263985, 88.72741283767094, 75.42237003487907, 73.2420092968008, 65.4490680877007, 60.377266756982245, 58.80258986318774, 51.98644314873115, 47.07365609635486, 46.56962853634915, 42.72442615680526, 40.88884003928985, 38.07675535001716, 37.81779945019072, 36.316088245670414, 32.75569362238203, 32.3218734085697, 30.337828293806467, 29.81366983900134, 28.838929010665048, 28.378408959474843, 27.535640491845797, 24.102162536901105, 23.430018453556585, 23.05055837460279, 22.372475639007703, 123.01229338608101, 143.68493857769204, 106.25130581039112, 60.23571984252551, 209.98701924608912, 164.17178525131794, 629.0555112160338, 533.0720248488309, 286.33601843052173, 471.1135132008696, 780.892798821983, 482.43588720596375, 804.5454213956453, 70.16207634237928, 43.49573323856918, 42.63810539482706, 42.275017402908404, 38.687460332897466, 37.76097278580494, 37.00433285322729, 35.39811182171254, 32.954114335479304, 28.998719148982673, 27.408807122362802, 27.17797012611458, 26.71448174277385, 26.658762069033244, 26.4998995377306, 24.464345852870682, 24.062767096287395, 23.69092720527116, 22.502892099056666, 21.183233223349106, 20.947767118479234, 20.7864889491556, 20.165948070037743, 20.151255978282627, 19.815295804136507, 19.635464012785583, 19.53697641358239, 19.049221131713782, 18.764249108369388, 18.751495755090314, 108.79720439684172, 81.80081253470009, 114.31557412898407, 43.346489044940355, 105.48157634185853, 108.29456889901147, 51.96706046093353, 132.8472978363152, 79.92103811473825, 75.96906460605032, 119.47163532264793, 941.033789528915, 89.76109830829716, 629.0555112160338, 32.27260658064287, 793.8233627388998, 606.9421912297425, 477.84449762552873, 73.62515727834203, 294.21276297808896, 798.8687096417899, 229.0747785416358, 209.98701924608912, 120.60016101293469, 115.87158202567967, 57.78886414123062, 46.57617162799336, 37.768504405616596, 36.27620314748455, 35.503950761421564, 35.40157678159093, 33.896961300196274, 33.40084804632414, 33.22949969402167, 33.083637237309304, 32.54358609471858, 30.656931328271373, 29.56984971135367, 29.253202740648206, 28.504060014699323, 26.978964936971806, 25.64058874105904, 24.657991626107368, 24.378047872575824, 24.333907123152333, 23.631693084800116, 23.29546378192851, 21.972865663944003, 21.626863058738085, 20.908898539111366, 19.61460009018438, 19.463308503540528, 19.320235028039825, 123.37118947966972, 93.50872947964372, 61.48002595047324, 155.56792838326425, 86.36323661717991, 50.146195139932665, 50.800011155796895, 50.53903107450566, 420.4438730204369, 209.92675464554515, 41.79206217811015, 202.9446934760923, 48.14984322297587, 471.1135132008696, 126.15292457186042, 482.43588720596375, 763.9642963112569, 209.77503761559134, 117.4167003727684, 106.56764766451057, 101.96425653013507, 50.12362845317148, 49.79513460421056, 46.95992121846407, 46.07512277714714, 41.859136697275474, 40.2644832783449, 38.98163759458484, 32.62892364564529, 29.834908651080376, 29.207841529429732, 29.0719318186437, 26.540456958736147, 24.92005985445775, 24.437721322215822, 23.082606879228294, 22.884495344613217, 22.323527084154655, 21.423277328370077, 21.112921492074545, 20.51236144220029, 20.3769677578522, 18.560982684476766, 18.039615602367792, 18.03290914078031, 17.771095617532982, 17.7556129189893, 17.45031092216786, 110.90240740861911, 157.98162530382928, 150.94528660501646, 58.754242774432676, 67.40491582934106, 32.73068394792572, 50.060318062200025, 131.3238727684639, 58.41168378822154, 54.6667951538649, 244.03396106611595, 43.15673411407918, 88.93801280385526, 123.76197863757247, 98.56142432763855, 70.77497463630328, 138.9963913954864, 420.4438730204369, 941.033789528915, 161.55449767895158, 359.22181004244544, 482.43588720596375, 318.8087799497505, 155.53488281104848, 77.1803626720545, 74.63477756438698, 74.41538322666631, 72.00138663407482, 61.24933196404662, 53.09924449859015, 40.60341128615691, 36.52399079284935, 36.40126454076612, 34.401039633831935, 33.97865221523914, 32.67243017379212, 32.26011878171923, 31.860706016709585, 31.299874325241333, 30.915677891188054, 30.520792665817222, 24.787138845019545, 23.50159413313711, 23.47633313638241, 22.856712534048413, 22.09969132887361, 21.978021547165945, 21.057344247783234, 20.622884268441222, 20.437246234231047, 20.03199253798327, 19.97424522121799, 79.37988356060049, 47.28377381309722, 91.15132272904434, 49.18697094700151, 57.48534836808974, 67.52684867779102, 62.6043261038709, 379.5729914816804, 90.98973425240689, 75.20418783083085, 606.9421912297425, 509.9221116298014, 173.61245794946146, 127.42381019893247, 70.73059688865352, 69.46956403266593, 68.31630638090056, 67.15341376648811, 63.903261672976214, 53.27014860153631, 49.65351227782668, 45.92192344165772, 37.02193964492115, 28.844252056077, 26.169122428941527, 24.913792257142834, 24.78567710203452, 23.632504432746494, 22.794399486240064, 22.19734626777398, 21.166032256658834, 20.554023272986047, 20.108870944516628, 19.89286649028529, 19.50439509125526, 19.183285403080017, 18.74722759409965, 18.528037544585253, 17.835072173966672, 17.35652399204865, 17.337228290252927, 17.196051805919517, 60.59363448069056, 253.1927095497939, 33.36095315711033, 561.5445997451745, 46.898648692570895, 54.31708420883599, 36.24603773493615, 142.1174728161548, 31.90910143541227, 763.9642963112569, 552.3366537307878, 780.892798821983, 61.71537224638825, 248.10152766208915, 229.11567605604023, 804.5454213956453, 629.0555112160338, 287.66095541921305], \"loglift\": [30.0, 29.0, 28.0, 27.0, 26.0, 25.0, 24.0, 23.0, 22.0, 21.0, 20.0, 19.0, 18.0, 17.0, 16.0, 15.0, 14.0, 13.0, 12.0, 11.0, 10.0, 9.0, 8.0, 7.0, 6.0, 5.0, 4.0, 3.0, 2.0, 1.0, 2.5062, 2.5053, 2.505, 2.5043, 2.5019, 2.5017, 2.5004, 2.4996, 2.4989, 2.4932, 2.4929, 2.4927, 2.488, 2.4875, 2.4853, 2.4817, 2.4813, 2.4806, 2.4805, 2.4796, 2.4785, 2.4784, 2.475, 2.4747, 2.4746, 2.4745, 2.4745, 2.4734, 2.4731, 2.473, 2.4002, 2.3768, 2.3766, 1.9829, 2.3832, 2.3074, 1.901, 2.0794, 2.1106, 1.9377, 2.0426, 1.7581, 2.1328, 1.7778, 2.0439, 1.3348, 0.9632, 1.5811, 1.8463, 1.6411, 1.4591, 0.9315, 0.9126, 0.5498, 1.1958, 2.6305, 2.6288, 2.6266, 2.6241, 2.622, 2.6218, 2.6217, 2.6199, 2.6198, 2.6186, 2.6181, 2.6177, 2.6163, 2.6157, 2.6155, 2.6153, 2.6108, 2.6082, 2.6069, 2.6053, 2.6048, 2.601, 2.5998, 2.5971, 2.5959, 2.5947, 2.5944, 2.5944, 2.594, 2.5938, 2.5687, 2.4877, 2.5082, 2.4743, 2.3884, 2.4962, 2.4369, 2.4201, 2.3067, 2.3868, 2.3436, 2.4249, 1.9846, 1.8083, 1.5297, 1.4691, 1.184, 1.4469, 1.8028, 1.3505, 1.3741, 1.3677, 0.322, 0.6954, 0.9121, 0.9886, 0.6544, -0.0003, 1.0046, 2.8511, 2.8499, 2.8484, 2.8453, 2.8387, 2.8366, 2.8358, 2.8339, 2.8305, 2.8298, 2.8283, 2.8282, 2.8268, 2.8247, 2.8226, 2.8225, 2.822, 2.8217, 2.8207, 2.8187, 2.8169, 2.8169, 2.8167, 2.8155, 2.8154, 2.8151, 2.8147, 2.8146, 2.8124, 2.8084, 2.7831, 2.7211, 2.6949, 2.6499, 2.3402, 2.5654, 1.7194, 2.3198, 2.1044, 2.4563, 2.0122, 2.2041, 2.2683, 1.6441, 1.183, 2.2281, 1.6427, 1.226, 1.0495, 1.1676, 0.4778, 0.4657, 1.3394, 0.21, 1.6444, 2.85, 2.8477, 2.8428, 2.8413, 2.841, 2.8387, 2.8316, 2.828, 2.8262, 2.8253, 2.8252, 2.8247, 2.8245, 2.8239, 2.8237, 2.8221, 2.822, 2.8217, 2.8216, 2.8214, 2.8204, 2.8196, 2.8181, 2.8168, 2.8158, 2.8158, 2.8154, 2.8131, 2.8121, 2.8117, 2.8057, 2.7566, 2.6765, 2.7391, 2.741, 2.7422, 2.4958, 2.6362, 2.6543, 2.1759, 2.5652, 1.7637, 2.4327, 2.6185, 2.2452, 2.3839, 1.8296, 1.9773, 2.0519, 1.2187, 2.311, 2.4409, 1.6875, 1.2642, 0.4804, 0.5235, 1.5459, 0.2373, -0.0333, 2.864, 2.8637, 2.8632, 2.8549, 2.8495, 2.8477, 2.8443, 2.8426, 2.8379, 2.8369, 2.8365, 2.8343, 2.8341, 2.8318, 2.8315, 2.8314, 2.8311, 2.8297, 2.8296, 2.8281, 2.8268, 2.8246, 2.8243, 2.824, 2.8222, 2.8212, 2.8185, 2.8168, 2.8159, 2.815, 2.7028, 2.7753, 2.7261, 2.6986, 2.5692, 2.6064, 2.6707, 2.545, 2.3877, 2.6643, 2.0551, 1.6034, 2.1961, 2.6128, 2.4904, 1.2209, 2.3725, 1.4118, 1.3069, 1.8346, 1.909, 0.8832, 1.4401, 0.8722, 0.4982, 0.1787, 0.8078, 0.2169, 2.9396, 2.9315, 2.9314, 2.9312, 2.9302, 2.9286, 2.9262, 2.925, 2.9243, 2.9228, 2.9225, 2.9142, 2.9136, 2.9113, 2.9107, 2.9097, 2.9071, 2.906, 2.9058, 2.9051, 2.9044, 2.9037, 2.9031, 2.9021, 2.901, 2.9008, 2.9005, 2.8994, 2.8993, 2.8985, 2.8513, 2.8135, 2.6659, 2.8242, 2.7691, 2.6748, 2.7964, 2.6269, 2.5768, 2.4981, 2.6904, 2.6952, 2.8102, 2.5002, 2.3307, 2.4103, 2.5113, 2.5861, 1.5651, 1.9093, 1.3806, 2.3138, 0.9599, 1.5426, 1.2572, 0.8196, 0.5082, 0.4301, 0.7335, 0.6512, 2.9446, 2.9426, 2.942, 2.9413, 2.9378, 2.9345, 2.9343, 2.9296, 2.9286, 2.9283, 2.9279, 2.9213, 2.9186, 2.9186, 2.9144, 2.9126, 2.9078, 2.907, 2.9065, 2.9038, 2.9031, 2.9028, 2.9028, 2.9024, 2.8985, 2.8984, 2.8981, 2.8971, 2.8929, 2.8928, 2.8778, 2.6256, 2.8249, 2.6836, 2.6624, 2.5344, 2.4687, 2.6615, 2.5814, 2.5474, 2.4045, 2.4752, 2.5774, 1.828, 2.0263, 2.5589, 2.1453, 1.1241, 2.2192, 2.3796, 0.6655, 1.468, 0.5275, 1.7867, 2.9541, 2.9532, 2.9525, 2.9523, 2.9475, 2.9462, 2.941, 2.9397, 2.9387, 2.9385, 2.9381, 2.9381, 2.9367, 2.9362, 2.9354, 2.9334, 2.9323, 2.929, 2.9289, 2.9279, 2.9256, 2.9253, 2.9207, 2.9195, 2.9175, 2.9152, 2.9151, 2.9132, 2.9125, 2.9122, 2.8303, 2.7233, 2.7661, 2.7419, 2.6252, 2.501, 2.6465, 2.444, 2.433, 2.7573, 2.3594, 2.7161, 1.2479, 2.3838, 1.0723, 2.0883, 0.8662, 1.344, 1.5011, 0.646, 0.6108, 1.2544, 0.8027, 1.6187, 3.0162, 3.0117, 3.0082, 3.006, 3.0042, 3.0029, 3.002, 3.0007, 2.999, 2.9968, 2.9966, 2.9957, 2.9953, 2.9946, 2.9941, 2.9929, 2.9918, 2.9891, 2.9883, 2.9859, 2.9855, 2.9844, 2.982, 2.982, 2.9806, 2.9806, 2.9801, 2.9789, 2.9769, 2.9767, 2.8393, 2.6631, 2.8115, 2.8152, 2.6329, 2.4679, 2.4708, 2.1177, 2.4324, 1.8416, 2.6996, 2.292, 2.6922, 2.3248, 1.3772, 2.5983, 2.3182, 1.2586, 1.5432, 2.111, 0.7142, 0.055, 0.3958, 3.0264, 3.0259, 3.0236, 3.02, 3.0198, 3.0194, 3.0189, 3.0187, 3.0181, 3.0174, 3.0145, 3.014, 3.0128, 3.012, 3.0116, 3.0092, 3.0087, 3.0075, 3.0063, 3.0059, 3.0047, 3.0035, 3.0012, 2.998, 2.9944, 2.9936, 2.9935, 2.99, 2.9894, 2.9881, 2.8335, 2.4911, 2.6741, 2.5136, 2.7681, 2.729, 1.7683, 2.5477, 1.5807, 2.5757, 0.5473, 1.7463, 1.8023, 2.2644, 1.4053, 2.4131, 1.3437, 1.2116, 0.6897, 2.0648, 3.081, 3.0768, 3.0768, 3.0765, 3.0741, 3.0735, 3.0703, 3.0668, 3.0648, 3.0639, 3.0624, 3.0619, 3.0613, 3.058, 3.0578, 3.0571, 3.0561, 3.0547, 3.054, 3.0509, 3.0503, 3.0498, 3.0493, 3.0486, 3.0484, 3.0461, 3.046, 3.0457, 3.0429, 3.0429, 3.0094, 2.854, 2.8153, 2.872, 2.784, 2.7226, 2.8476, 2.8744, 2.4712, 1.5353, 2.0285, 1.154, 2.53, 1.9115, 1.3715, 1.1348, 0.9279, 0.5062, 2.2479, -0.0344, 1.5412, 3.0848, 3.0847, 3.0833, 3.082, 3.0753, 3.0742, 3.0741, 3.0741, 3.072, 3.0719, 3.0704, 3.0704, 3.07, 3.0698, 3.0696, 3.0689, 3.0687, 3.0685, 3.0655, 3.0654, 3.0647, 3.0637, 3.0636, 3.0626, 3.0602, 3.0586, 3.0577, 3.0576, 3.0567, 3.0561, 3.0294, 3.0049, 2.6327, 2.8577, 2.6203, 2.7524, 2.6401, 1.662, 2.6237, 2.6149, 1.9613, 0.8261, 1.9773, 0.2396, 1.8539, 1.7059, 1.3972, 3.1307, 3.1281, 3.1221, 3.1199, 3.1196, 3.1192, 3.1183, 3.1178, 3.1174, 3.1172, 3.1159, 3.1155, 3.1154, 3.1137, 3.1127, 3.1118, 3.1107, 3.1103, 3.1085, 3.1081, 3.1079, 3.1065, 3.1064, 3.1057, 3.1055, 3.1052, 3.1036, 3.1021, 3.1012, 3.101, 3.0093, 2.8524, 2.9986, 3.0177, 2.808, 2.993, 2.6781, 2.3143, 2.8332, 2.5267, 2.8177, 2.4631, 2.5077, 2.0312, 1.5774, 2.3871, 2.5242, 1.8659, 1.6555, 1.086, 1.5642, 3.1622, 3.1599, 3.1575, 3.1559, 3.1551, 3.1528, 3.1525, 3.151, 3.1509, 3.1478, 3.1478, 3.1477, 3.1466, 3.1443, 3.1439, 3.1434, 3.1387, 3.1386, 3.1363, 3.1349, 3.1348, 3.1336, 3.1331, 3.132, 3.1314, 3.1309, 3.1303, 3.1275, 3.1274, 3.1265, 2.9899, 2.6934, 2.6892, 2.5636, 2.7497, 2.7403, 2.3545, 2.5597, 0.8784, 2.4778, 2.3946, 0.7536, 1.7568, 0.5781, 0.6605, 1.1394, 1.147, 3.1633, 3.1623, 3.1588, 3.1587, 3.1582, 3.158, 3.1563, 3.156, 3.1545, 3.1534, 3.153, 3.1511, 3.1493, 3.1491, 3.1474, 3.1465, 3.1449, 3.1448, 3.1438, 3.1411, 3.1408, 3.139, 3.1385, 3.1375, 3.137, 3.136, 3.1314, 3.1304, 3.1297, 3.1285, 2.8993, 2.8585, 2.8036, 2.8295, 1.9792, 2.0449, 0.8604, 0.9184, 1.1616, 0.7161, 0.2417, 0.6518, 0.0922, 3.1578, 3.1501, 3.1497, 3.1495, 3.1476, 3.1471, 3.1466, 3.1455, 3.1437, 3.14, 3.1382, 3.138, 3.1374, 3.1373, 3.1371, 3.1343, 3.1337, 3.1331, 3.1312, 3.1287, 3.1282, 3.1279, 3.1265, 3.1265, 3.1258, 3.1253, 3.1251, 3.1239, 3.1232, 3.1232, 3.044, 2.9837, 2.8078, 2.9628, 2.7654, 2.7458, 2.8885, 2.5362, 2.6916, 2.6941, 2.4925, 1.6545, 2.4597, 1.3182, 2.9646, 0.8894, 0.9901, 1.1247, 2.3871, 1.2885, 0.5033, 1.4561, 1.5198, 3.1997, 3.1994, 3.1919, 3.1882, 3.1838, 3.1829, 3.1823, 3.1823, 3.1812, 3.1808, 3.1806, 3.1805, 3.1801, 3.1784, 3.1773, 3.177, 3.1762, 3.1745, 3.1727, 3.1714, 3.1709, 3.1709, 3.1698, 3.1692, 3.1669, 3.1663, 3.1649, 3.162, 3.1617, 3.1613, 3.0725, 3.0792, 3.0836, 3.015, 3.0322, 3.0812, 3.0462, 3.0384, 2.573, 2.4744, 2.8602, 1.9042, 2.7503, 0.9487, 1.8835, 0.6317, 0.1798, 1.3389, 3.2029, 3.2021, 3.2017, 3.1929, 3.1928, 3.1917, 3.1914, 3.1895, 3.1886, 3.1879, 3.1835, 3.181, 3.1803, 3.1802, 3.1773, 3.1751, 3.1744, 3.1723, 3.1719, 3.171, 3.1693, 3.1687, 3.1674, 3.1671, 3.1628, 3.1614, 3.1614, 3.1607, 3.1606, 3.1597, 3.1086, 3.0829, 2.9067, 3.0055, 2.9773, 3.0282, 2.9007, 2.6084, 2.8369, 2.8512, 2.3228, 2.9178, 2.6054, 2.3976, 2.4836, 2.6457, 2.28, 1.3958, 0.618, 1.7577, 0.847, 0.5413, 3.209, 3.2061, 3.2005, 3.2001, 3.2, 3.1996, 3.1975, 3.1953, 3.1903, 3.1878, 3.1878, 3.1863, 3.186, 3.185, 3.1846, 3.1843, 3.1838, 3.1835, 3.1831, 3.1764, 3.1744, 3.1743, 3.1733, 3.172, 3.1717, 3.17, 3.1691, 3.1687, 3.1678, 3.1677, 3.075, 3.0744, 2.9259, 3.0106, 2.9217, 2.6231, 2.5957, 1.4211, 2.2882, 2.3573, 0.8273, 0.4857, 3.2406, 3.2388, 3.2333, 3.2331, 3.2329, 3.2327, 3.232, 3.2293, 3.2281, 3.2267, 3.2221, 3.2153, 3.2122, 3.2104, 3.2103, 3.2085, 3.2071, 3.2061, 3.2041, 3.2028, 3.2019, 3.2014, 3.2005, 3.1997, 3.1986, 3.198, 3.1961, 3.1948, 3.1947, 3.1943, 3.0363, 2.8053, 3.084, 2.59, 2.9662, 2.9159, 2.9642, 2.3595, 2.9754, 1.2936, 1.3544, 1.1455, 2.4251, 1.2946, 1.2904, 0.2194, 0.3145, 0.9401], \"logprob\": [30.0, 29.0, 28.0, 27.0, 26.0, 25.0, 24.0, 23.0, 22.0, 21.0, 20.0, 19.0, 18.0, 17.0, 16.0, 15.0, 14.0, 13.0, 12.0, 11.0, 10.0, 9.0, 8.0, 7.0, 6.0, 5.0, 4.0, 3.0, 2.0, 1.0, -2.7589, -3.2771, -3.416, -3.6957, -4.2762, -4.3113, -4.5296, -4.637, -4.724, -5.2358, -5.2593, -5.2742, -5.553, -5.5783, -5.6854, -5.8376, -5.8557, -5.881, -5.8847, -5.9198, -5.959, -5.9602, -6.0731, -6.0844, -6.0876, -6.0888, -6.0905, -6.1222, -6.1318, -6.1364, -4.5687, -4.9183, -4.9432, -2.9689, -5.5799, -5.3637, -3.8854, -4.569, -5.0673, -4.6687, -4.9622, -4.4974, -5.2588, -4.7548, -5.2057, -4.3972, -4.0354, -4.7259, -5.0078, -4.8631, -4.7663, -4.4025, -4.5245, -4.6055, -4.9654, -4.0644, -4.357, -4.6387, -4.8894, -5.0568, -5.0715, -5.0824, -5.2041, -5.2151, -5.2845, -5.3168, -5.3392, -5.4154, -5.4484, -5.4553, -5.4698, -5.671, -5.7726, -5.821, -5.8753, -5.8915, -6.0106, -6.047, -6.1205, -6.152, -6.1832, -6.189, -6.189, -6.1995, -6.2041, -5.3923, -3.7006, -4.1926, -4.1904, -3.8838, -5.1346, -4.9301, -4.8561, -4.2371, -4.8303, -4.6791, -5.0876, -3.977, -4.1637, -3.8044, -4.2071, -3.9783, -4.3573, -4.6967, -4.3162, -4.3578, -4.7214, -4.318, -4.4733, -4.6547, -4.7647, -4.7469, -4.9522, -5.0359, -2.6558, -3.225, -3.6554, -4.2189, -4.8753, -5.0119, -5.0629, -5.1741, -5.3434, -5.3751, -5.4373, -5.4431, -5.4975, -5.5795, -5.6505, -5.6556, -5.6714, -5.6803, -5.7137, -5.7759, -5.8273, -5.8278, -5.8351, -5.8676, -5.8708, -5.8785, -5.8893, -5.8918, -5.9509, -6.0475, -5.1873, -5.0364, -5.218, -5.2082, -4.1815, -5.1766, -2.9206, -4.5371, -4.0501, -5.0403, -4.3578, -4.7986, -5.0985, -4.6897, -4.4283, -5.2579, -4.9252, -4.746, -4.7038, -4.8729, -4.6909, -4.7194, -5.035, -4.9523, -5.1945, -3.9125, -4.2623, -4.7681, -4.8832, -4.9016, -5.0519, -5.4135, -5.5564, -5.6208, -5.6517, -5.6537, -5.67, -5.6762, -5.6985, -5.7021, -5.7529, -5.7554, -5.7666, -5.7686, -5.7756, -5.8053, -5.8283, -5.8702, -5.9031, -5.9308, -5.9315, -5.9419, -5.9985, -6.0214, -6.0317, -5.8716, -4.8267, -3.7271, -4.79, -5.2427, -5.2609, -3.838, -4.9985, -5.1349, -3.5145, -4.8973, -2.8763, -4.71, -5.3056, -4.5319, -4.9324, -3.921, -4.2779, -4.4469, -3.7332, -5.3047, -5.4027, -4.9465, -4.7807, -4.6882, -4.8778, -5.1421, -4.9179, -5.2184, -2.8657, -2.9955, -3.2077, -4.6274, -5.0284, -5.1345, -5.3052, -5.3826, -5.5694, -5.6036, -5.6163, -5.6907, -5.6964, -5.7683, -5.7788, -5.78, -5.7896, -5.8284, -5.8324, -5.8746, -5.9092, -5.9651, -5.9712, -5.9785, -6.0227, -6.0461, -6.1044, -6.1412, -6.1592, -6.1774, -3.4654, -5.2964, -4.8915, -4.9998, -3.9018, -4.364, -5.0381, -4.3935, -4.2798, -5.3586, -4.1386, -3.5589, -4.7727, -5.463, -5.3032, -3.9477, -5.2622, -4.3389, -4.4795, -4.8956, -4.9843, -4.7835, -5.0404, -4.8598, -4.9031, -5.0283, -5.1538, -5.1171, -3.8809, -4.7763, -4.7833, -4.7932, -4.8673, -4.9695, -5.1046, -5.1651, -5.1989, -5.269, -5.2811, -5.5963, -5.6147, -5.6869, -5.7037, -5.7342, -5.8045, -5.8345, -5.8397, -5.858, -5.8764, -5.8935, -5.9065, -5.9306, -5.9568, -5.9613, -5.9674, -5.9931, -5.9962, -6.0123, -3.8934, -4.7103, -3.2405, -5.0959, -4.9964, -4.5981, -5.3301, -4.3812, -4.401, -4.3605, -5.0838, -5.1699, -5.5615, -4.7081, -4.3033, -4.6137, -4.9035, -5.1799, -3.769, -4.6089, -4.3724, -5.0067, -4.2471, -4.6186, -4.5292, -4.3491, -4.6471, -4.7322, -4.9332, -4.96, -2.3157, -3.3074, -3.4766, -3.6542, -4.2321, -4.5744, -4.5897, -4.9391, -4.9986, -5.0148, -5.0396, -5.3541, -5.4604, -5.4626, -5.6054, -5.6621, -5.8002, -5.8212, -5.8351, -5.9021, -5.9186, -5.9256, -5.9268, -5.9347, -6.0247, -6.026, -6.0329, -6.0535, -6.1384, -6.1408, -4.9611, -2.9058, -5.2477, -4.2902, -4.3666, -3.8769, -3.8992, -4.7793, -4.8971, -4.7995, -4.4843, -4.7684, -5.0254, -3.6868, -4.3054, -5.1565, -4.8335, -4.0311, -4.9438, -5.0484, -4.5196, -4.8434, -4.6795, -4.9893, -3.9569, -4.0968, -4.1862, -4.2183, -4.6853, -4.7837, -5.1004, -5.1636, -5.214, -5.2215, -5.2408, -5.2417, -5.3, -5.3248, -5.3574, -5.4341, -5.4759, -5.5871, -5.5919, -5.6234, -5.6928, -5.7006, -5.8274, -5.8572, -5.9074, -5.9608, -5.9639, -6.0048, -6.021, -6.0264, -4.6242, -3.0297, -4.883, -4.7321, -3.974, -3.4117, -5.1313, -4.6341, -4.8172, -5.4272, -4.8098, -5.3843, -3.9591, -5.0686, -4.1128, -4.8949, -4.289, -4.6175, -4.9279, -4.7553, -4.904, -5.0011, -4.9506, -5.1262, -4.0138, -4.5104, -4.7814, -4.919, -5.02, -5.0869, -5.1269, -5.1887, -5.2634, -5.353, -5.3605, -5.3912, -5.407, -5.4288, -5.4488, -5.4926, -5.5271, -5.6105, -5.6346, -5.7024, -5.7146, -5.7419, -5.8037, -5.804, -5.8374, -5.8376, -5.8499, -5.8792, -5.9231, -5.9281, -4.3645, -3.9048, -4.9121, -5.1154, -4.5137, -3.9066, -4.0334, -3.3193, -4.3852, -3.157, -5.0892, -4.3764, -5.1312, -4.5616, -3.778, -5.2523, -5.1211, -4.654, -4.805, -5.1044, -4.9762, -4.8969, -5.1711, -3.975, -4.0469, -4.3252, -4.649, -4.662, -4.6884, -4.7265, -4.7403, -4.782, -4.8273, -4.9934, -5.0198, -5.0816, -5.1223, -5.1413, -5.2464, -5.2688, -5.3173, -5.3629, -5.3784, -5.4219, -5.4631, -5.5373, -5.6357, -5.7337, -5.7562, -5.7579, -5.8452, -5.858, -5.888, -4.9395, -4.2613, -4.8678, -4.5058, -5.1886, -5.2099, -3.4168, -4.9518, -3.6263, -5.0849, -4.0927, -4.7976, -4.866, -5.0405, -4.8047, -5.1096, -4.8817, -4.9207, -4.9769, -5.1042, -3.2056, -4.0188, -4.02, -4.0591, -4.3358, -4.3909, -4.6493, -4.8778, -4.9848, -5.0331, -5.1031, -5.1236, -5.1537, -5.289, -5.2938, -5.3206, -5.357, -5.4094, -5.4324, -5.5317, -5.5481, -5.5639, -5.579, -5.5996, -5.6028, -5.6673, -5.6697, -5.6773, -5.7487, -5.7494, -4.96, -4.2009, -4.1116, -4.9377, -4.8802, -4.9601, -5.2552, -5.3528, -4.9249, -4.0315, -4.7016, -4.0147, -5.1602, -4.8816, -4.6734, -4.6184, -4.6834, -4.6562, -5.1189, -4.6744, -4.9804, -4.0933, -4.0964, -4.2557, -4.3884, -4.8698, -4.932, -4.9383, -4.9396, -5.0448, -5.0513, -5.1173, -5.1189, -5.1374, -5.1456, -5.1538, -5.184, -5.1935, -5.2021, -5.3183, -5.3223, -5.3475, -5.3832, -5.386, -5.4222, -5.499, -5.5483, -5.5747, -5.5763, -5.6017, -5.618, -4.4704, -4.4693, -3.8478, -4.7642, -4.1941, -4.7512, -4.6723, -4.427, -5.0995, -5.1462, -4.8776, -4.611, -5.0122, -4.759, -5.0053, -5.0672, -5.1244, -3.8574, -4.1802, -4.6854, -4.8214, -4.8397, -4.8589, -4.9083, -4.9358, -4.9576, -4.9676, -5.0301, -5.0482, -5.0542, -5.128, -5.1696, -5.205, -5.2484, -5.2625, -5.3299, -5.3427, -5.3486, -5.3969, -5.4011, -5.4231, -5.4291, -5.4393, -5.4891, -5.5335, -5.5581, -5.5635, -4.7231, -3.3576, -4.8415, -5.076, -4.3587, -5.0488, -4.5165, -3.9111, -4.9077, -4.5074, -4.9698, -4.6716, -4.7749, -4.4556, -4.1733, -4.7328, -4.903, -4.7333, -4.7124, -4.6673, -4.9067, -2.9964, -3.5803, -3.9508, -4.1542, -4.23, -4.4383, -4.4688, -4.5766, -4.584, -4.7823, -4.7845, -4.7879, -4.8495, -4.9724, -4.9879, -5.0153, -5.2124, -5.2142, -5.3009, -5.3488, -5.3518, -5.3894, -5.4064, -5.4404, -5.4587, -5.4752, -5.4926, -5.5718, -5.5738, -5.5965, -5.0405, -4.7014, -4.8086, -4.665, -4.9585, -4.9627, -4.6243, -4.8787, -3.7616, -4.9331, -4.9018, -4.1983, -4.8496, -4.7559, -4.7766, -4.9496, -4.9853, -3.429, -3.6307, -4.1147, -4.1268, -4.184, -4.2019, -4.3661, -4.3958, -4.5097, -4.5915, -4.6183, -4.7435, -4.8445, -4.8555, -4.9433, -4.9882, -5.061, -5.068, -5.1095, -5.2153, -5.229, -5.2941, -5.3121, -5.3463, -5.3629, -5.394, -5.5318, -5.5611, -5.5781, -5.6091, -4.1339, -4.0194, -4.3761, -4.9177, -4.5192, -4.6997, -4.5409, -4.6485, -5.0268, -4.9743, -4.9434, -5.0149, -5.063, -4.437, -4.9227, -4.943, -4.9518, -5.0424, -5.0672, -5.0879, -5.1334, -5.2067, -5.3383, -5.3964, -5.4052, -5.4229, -5.4251, -5.4313, -5.514, -5.5311, -5.5473, -5.6007, -5.6636, -5.6753, -5.6833, -5.715, -5.7157, -5.7333, -5.7428, -5.7481, -5.7746, -5.7904, -5.7911, -4.112, -4.4575, -4.2988, -5.1135, -4.4216, -4.4148, -5.0064, -4.4201, -4.7728, -4.8211, -4.5699, -3.3441, -4.8886, -4.0831, -5.4067, -4.2792, -4.447, -4.5515, -5.1594, -4.8728, -4.659, -4.9553, -4.9787, -3.8533, -3.8936, -4.5969, -4.8162, -5.0302, -5.0715, -5.0935, -5.0965, -5.141, -5.1562, -5.1614, -5.166, -5.1829, -5.2443, -5.2814, -5.2925, -5.3192, -5.376, -5.4286, -5.4691, -5.4809, -5.4828, -5.5131, -5.528, -5.5888, -5.6053, -5.6405, -5.7072, -5.7153, -5.723, -3.9579, -4.2283, -4.6432, -3.7835, -4.3548, -4.8493, -4.8714, -4.8844, -3.2312, -4.0244, -5.2526, -4.6283, -5.2209, -4.7417, -5.1245, -5.035, -5.0272, -5.1605, -3.8769, -3.9746, -4.0192, -4.7381, -4.7448, -4.8045, -4.8239, -4.9217, -4.9614, -4.9945, -5.1768, -5.2689, -5.2907, -5.2955, -5.3895, -5.4547, -5.475, -5.5342, -5.5431, -5.5689, -5.6118, -5.627, -5.6571, -5.664, -5.7616, -5.7915, -5.7919, -5.8073, -5.8082, -5.8264, -4.0283, -3.7001, -3.9219, -4.7666, -4.6575, -5.329, -5.0316, -4.3595, -4.9411, -4.9931, -4.0254, -5.1629, -4.7522, -4.6296, -4.7712, -4.9403, -4.6311, -4.4084, -4.3805, -5.003, -5.1146, -5.1254, -2.872, -3.5925, -4.2989, -4.3328, -4.3358, -4.3692, -4.533, -4.678, -4.9514, -5.0597, -5.0632, -5.1211, -5.1338, -5.174, -5.187, -5.1998, -5.2181, -5.2308, -5.244, -5.4588, -5.5141, -5.5152, -5.543, -5.578, -5.5837, -5.6283, -5.65, -5.6595, -5.6804, -5.6834, -4.3963, -4.915, -4.4071, -4.9393, -4.8723, -5.0099, -5.113, -4.4853, -5.0466, -5.168, -4.6098, -5.1255, -3.4481, -3.7592, -4.3533, -4.3715, -4.3885, -4.4059, -4.4561, -4.6408, -4.7124, -4.7919, -5.0119, -5.2683, -5.3688, -5.4197, -5.425, -5.4744, -5.5119, -5.5395, -5.589, -5.6196, -5.6425, -5.6538, -5.6744, -5.6918, -5.7159, -5.7282, -5.7682, -5.7968, -5.798, -5.8066, -4.705, -3.506, -5.2541, -2.9248, -5.0313, -4.9348, -5.291, -4.5294, -5.4072, -3.9134, -4.177, -4.0396, -5.2979, -5.0371, -5.1209, -4.9358, -5.0868, -5.2436]}, \"token.table\": {\"Topic\": [6, 7, 9, 2, 15, 19, 1, 9, 1, 2, 14, 6, 10, 1, 3, 7, 17, 20, 20, 18, 17, 16, 16, 10, 6, 20, 6, 5, 6, 7, 8, 9, 10, 12, 14, 16, 17, 18, 19, 20, 3, 7, 9, 12, 20, 14, 8, 8, 3, 6, 8, 8, 5, 9, 17, 19, 6, 15, 18, 6, 9, 5, 6, 10, 17, 19, 1, 1, 9, 6, 17, 8, 10, 19, 2, 3, 4, 5, 2, 14, 10, 18, 1, 4, 1, 16, 17, 20, 20, 1, 2, 3, 5, 6, 8, 12, 13, 14, 15, 16, 18, 19, 2, 3, 4, 5, 6, 8, 10, 11, 13, 16, 18, 8, 2, 16, 7, 20, 19, 20, 13, 1, 9, 12, 16, 18, 19, 20, 7, 4, 4, 10, 15, 18, 19, 5, 6, 19, 19, 4, 10, 12, 1, 19, 4, 5, 6, 8, 14, 1, 2, 4, 5, 6, 10, 18, 12, 8, 2, 4, 11, 12, 14, 15, 16, 3, 11, 5, 12, 13, 15, 15, 13, 12, 7, 19, 12, 13, 20, 3, 14, 16, 5, 2, 2, 13, 4, 6, 17, 19, 1, 8, 10, 13, 12, 15, 1, 10, 14, 16, 3, 3, 20, 4, 9, 11, 17, 2, 15, 5, 7, 5, 20, 9, 3, 13, 20, 8, 11, 15, 10, 13, 16, 10, 1, 19, 9, 17, 17, 19, 14, 16, 18, 2, 5, 4, 7, 19, 9, 8, 14, 18, 1, 6, 12, 1, 6, 15, 1, 1, 16, 3, 19, 2, 12, 8, 16, 20, 13, 2, 18, 4, 6, 2, 4, 6, 9, 10, 12, 14, 15, 16, 17, 18, 20, 11, 13, 17, 18, 4, 1, 3, 9, 13, 19, 1, 2, 6, 7, 17, 18, 19, 20, 11, 14, 7, 6, 19, 6, 8, 20, 17, 5, 18, 19, 1, 12, 19, 5, 6, 8, 11, 12, 16, 16, 10, 18, 18, 19, 4, 1, 11, 14, 11, 3, 1, 2, 3, 6, 8, 11, 13, 14, 17, 18, 11, 14, 13, 9, 6, 18, 2, 20, 12, 1, 4, 7, 12, 12, 14, 9, 2, 11, 15, 16, 20, 13, 3, 13, 6, 9, 8, 10, 1, 2, 4, 9, 15, 17, 19, 20, 15, 19, 18, 17, 8, 2, 5, 13, 3, 20, 2, 13, 4, 8, 9, 16, 7, 19, 4, 12, 13, 17, 11, 13, 3, 12, 13, 15, 14, 3, 16, 5, 5, 10, 18, 19, 12, 10, 6, 7, 17, 13, 6, 7, 7, 9, 20, 1, 7, 8, 20, 20, 20, 3, 17, 17, 20, 3, 4, 10, 13, 12, 13, 10, 1, 11, 10, 9, 11, 19, 5, 10, 1, 5, 6, 15, 1, 9, 11, 15, 17, 20, 11, 13, 7, 5, 8, 12, 18, 1, 6, 9, 17, 1, 5, 14, 4, 12, 15, 7, 2, 3, 3, 15, 2, 3, 4, 7, 11, 14, 19, 3, 9, 1, 2, 19, 7, 10, 16, 14, 17, 5, 9, 3, 20, 20, 7, 6, 16, 9, 4, 6, 10, 11, 5, 20, 18, 6, 2, 1, 4, 10, 12, 4, 20, 3, 7, 17, 12, 18, 10, 15, 15, 11, 10, 11, 18, 2, 5, 8, 9, 18, 19, 3, 12, 11, 3, 3, 17, 18, 6, 10, 20, 1, 5, 6, 14, 10, 9, 11, 6, 16, 17, 19, 8, 10, 16, 12, 15, 11, 13, 2, 6, 17, 8, 12, 4, 9, 10, 19, 3, 2, 3, 11, 18, 19, 6, 11, 14, 14, 14, 14, 4, 13, 18, 9, 13, 1, 3, 4, 5, 8, 13, 15, 16, 17, 14, 12, 1, 13, 14, 18, 20, 13, 13, 8, 4, 12, 20, 10, 18, 17, 8, 12, 1, 9, 13, 15, 16, 1, 6, 5, 9, 16, 19, 1, 2, 3, 4, 5, 8, 9, 10, 12, 15, 16, 19, 20, 15, 5, 2, 16, 11, 9, 9, 6, 10, 1, 2, 4, 8, 9, 10, 12, 14, 16, 17, 18, 11, 13, 10, 15, 17, 15, 16, 8, 17, 5, 19, 10, 17, 3, 11, 7, 16, 6, 11, 3, 6, 10, 19, 15, 2, 6, 2, 10, 20, 2, 4, 7, 12, 3, 5, 2, 12, 13, 8, 13, 10, 1, 2, 4, 5, 6, 8, 11, 16, 19, 18, 2, 19, 3, 16, 10, 3, 4, 8, 10, 18, 6, 8, 10, 17, 1, 8, 9, 10, 18, 19, 18, 1, 7, 17, 17, 3, 7, 11, 5, 17, 12, 12, 4, 9, 11, 15, 6, 4, 2, 12, 15, 12, 14, 16, 5, 20, 8, 14, 5, 8, 8, 2, 6, 8, 11, 19, 20, 6, 14, 1, 6, 19, 15, 7, 12, 18, 11, 15, 1, 14, 2, 17, 1, 16, 2, 20, 5, 6, 12, 6, 20, 16, 11, 2, 19, 2, 18, 6, 4, 12, 17, 4, 10, 20, 6, 8, 16, 1, 2, 5, 7, 11, 16, 17, 13, 6, 2, 17, 18, 4, 5, 12, 1, 7, 20, 10, 6, 12, 13, 19, 4, 9, 14, 2, 4, 8, 15, 19, 20, 13, 14, 2, 3, 4, 12, 13, 14, 7, 18, 17, 16, 15, 15, 3, 6, 12, 17, 20, 1, 9, 1, 10, 13, 18, 1, 6, 19, 16, 7, 14, 15, 16, 2, 3, 8, 10, 16, 17, 19, 5, 10, 1, 2, 3, 4, 5, 6, 7, 12, 15, 4, 5, 9, 3, 5, 16, 1, 2, 3, 5, 6, 8, 9, 10, 11, 12, 14, 16, 5, 12, 15, 5, 14, 16, 10, 7, 9, 14, 3, 4, 8, 10, 11, 12, 15, 4, 9, 14, 18, 9, 12, 15, 19, 20, 11, 10, 19, 16, 5, 2, 6, 8, 16, 20, 1, 19, 4, 8, 4, 5, 11, 14, 2, 3, 11, 12, 1, 5, 7, 9, 10, 1, 16, 20, 8, 18, 4, 6, 12, 4, 16, 2, 8, 13, 3, 3, 20, 4, 7, 18, 14, 18, 16, 11, 10, 17, 6, 7, 8, 9, 15, 19, 6, 14, 1, 8, 10, 11, 12, 13, 18, 1, 3, 10, 15, 19, 1, 2, 1, 2, 5, 6, 10, 11, 12, 15, 17, 18, 10, 11, 2, 1, 2, 4, 9, 14, 11, 12, 3, 4, 7, 12, 16, 19, 9, 13, 10, 7, 13, 18, 2, 11, 4, 2, 3, 5, 6, 7, 8, 10, 17, 20, 5, 12, 17, 16, 8, 3, 4, 10, 16, 4, 19, 6, 8, 13, 16, 8, 11, 5, 8, 12, 17, 5, 8, 14, 17, 17, 1, 4, 8, 7, 13, 5, 17, 18, 5, 11, 20, 18, 2, 5, 1, 8, 6, 12, 1, 15, 5, 13, 15, 5, 2, 11, 17, 8, 16, 4, 1, 2, 3, 4, 5, 6, 10, 11, 12, 13, 14, 16, 19, 10, 17, 13, 17, 18, 14, 9, 9, 13, 1, 2, 6, 18, 1, 2, 5, 12, 15, 17, 13, 4, 10, 14, 7, 6, 9, 2, 6, 1, 5, 8, 11, 12, 18, 10, 16, 17, 19, 20, 4, 13, 17, 19, 5, 3, 9, 3, 2, 11, 1, 19, 20, 8, 20, 3, 5, 6, 8, 2, 3, 12, 19, 13, 1, 15, 1, 3, 4, 5, 7, 8, 10, 15, 16, 20, 3, 7, 10, 12, 17, 10, 11, 18, 12, 5, 8, 2, 13, 13, 7, 12, 19, 7, 11, 1, 8, 2, 10, 1, 2, 5, 6, 9, 11, 19, 1, 18, 9, 17, 4, 5, 16, 1, 7, 11, 19, 3, 11, 13, 17, 7, 9, 2, 19, 6, 6, 8, 18, 8, 14, 11, 17, 7, 2, 5, 3, 6, 8, 12, 10, 12, 4, 2, 11, 16, 6, 12, 13, 17, 8, 15, 19, 3, 18, 12, 12, 5, 8, 12, 15, 4, 9, 2, 5, 11, 5, 7, 1, 19, 12, 8, 4, 7, 1, 11, 15, 6, 10, 19, 13, 1, 13, 16, 15, 14, 4, 3, 5, 6, 3, 4, 10, 12, 4, 6, 7, 17, 4, 6, 11, 19, 5, 19, 2, 6, 6, 11, 12, 8, 2, 5, 12, 2, 18, 19, 18, 20, 10, 19, 12, 8, 9, 17, 13, 5, 2, 10, 4, 6, 5, 10, 13, 2, 4, 8, 2, 19, 18, 1, 12, 13, 16, 18, 5, 1, 3, 9, 10, 19, 20, 3, 7, 15, 5, 6, 3, 3, 19, 18, 5, 14, 2, 17, 19, 14, 17, 20, 12, 2, 16, 5, 7, 9, 13, 5, 7, 14, 3, 7, 8, 12, 16, 19, 20, 4, 12, 1, 2, 3, 4, 5, 6, 11, 13, 14, 16, 9, 3, 8, 9, 12, 3, 5, 2, 7, 1, 2, 3, 4, 7, 9, 12, 13, 19, 8, 3, 15, 17, 15, 17, 17, 20, 1, 2, 9, 17, 18, 2, 3, 1, 11, 5, 13, 20, 1, 6, 7, 10, 11, 13, 16, 18, 19, 3, 8, 13, 1, 3, 4, 19, 10, 5, 4, 12, 14, 15, 19, 1, 1, 5, 7, 9, 10, 16, 17, 20, 2, 15, 19, 4, 8, 8, 7, 15, 16, 1, 2, 3, 12, 15, 17, 18, 4, 6, 2, 1, 9, 12, 14, 15, 16, 19, 2, 4, 8, 10, 16, 17, 3, 5, 6, 8, 10, 12, 14, 5, 4, 4, 3, 8, 2, 3, 4, 5, 6, 7, 8, 9, 10, 11, 13, 15, 16, 17, 18, 19, 14, 1, 2, 4, 5, 6, 7, 8, 9, 10, 11, 15, 17, 18, 19, 20, 7, 14, 20, 4, 7, 16, 20, 12, 7, 7, 18, 14, 7, 8, 8, 11, 20, 2, 17, 20, 19, 14, 19, 7, 16, 3, 15, 16, 18, 15, 2, 3, 4, 7, 10, 11, 14, 16, 20, 3, 12, 3, 7, 2, 5, 15, 16, 18, 18, 7, 20, 3, 9, 2, 4, 6, 8, 9, 11, 14, 15, 19, 6, 3, 14, 9, 11, 14, 9, 8, 9, 16, 3, 1, 14, 4, 9, 9, 9, 18, 4, 7, 11, 3, 13, 19, 10, 9, 10, 15, 16, 11, 5, 13, 16, 3, 4, 5, 10, 11, 13, 4, 7, 4, 3, 11, 15, 2, 3, 4, 5, 6, 10, 15, 18, 20, 4, 8, 4, 2, 3, 16, 7, 8, 13, 20, 1, 4, 5, 8, 9, 12, 14, 15, 16, 18, 15, 3, 18, 17, 8, 1, 9, 12, 17, 18, 7, 17, 15, 3, 4, 9, 11, 12, 14, 15, 16, 2, 3, 17, 15, 19, 16, 16, 1, 2, 3, 5, 6, 8, 9, 14, 15, 8, 11, 1, 2, 3, 4, 6, 8, 16, 12, 15, 12, 17, 1, 2, 3, 4, 5, 6, 8, 9, 11, 12, 15, 17, 18, 19, 10, 1, 4, 2, 19], \"Freq\": [0.9483703375400537, 0.972446373399685, 0.9722628259313959, 0.9708608969743074, 0.9877682396391774, 0.9512249293814075, 0.2687259231139757, 0.7166024616372686, 0.9819422463487738, 0.9831192382870338, 0.9769900771767163, 0.9566326870519627, 0.9910364701624507, 0.9720770229264775, 0.9775045120934839, 0.9955531820854171, 0.988656528378144, 0.980732178733999, 0.9966740109382162, 0.9566095622842624, 0.980728690983679, 0.9822304093630853, 0.9428692693138653, 0.9361777250766342, 0.9339493789750195, 0.92184356771724, 0.9898654190457226, 0.013096160210648118, 0.1353269888433639, 0.11786544189583306, 0.04365386736882706, 0.09603850821141953, 0.06984618779012329, 0.08730773473765412, 0.03928848063194435, 0.17898085621219095, 0.04365386736882706, 0.026192320421296236, 0.04365386736882706, 0.10040389494830224, 0.21874752081881668, 0.1472339082434343, 0.572108900603059, 0.05468688020470417, 0.9932407229093142, 0.9641623618481378, 0.9635712429888639, 0.9802510320521337, 0.10621798254915399, 0.8762983560305204, 0.9722524901526097, 0.9919447941434677, 0.9816865619762603, 0.13850681050217323, 0.8508275502276356, 0.9697964523132, 0.942082216057256, 0.9805473748829479, 0.953098586962354, 0.9576728346661965, 0.9697035502674656, 0.6203430162305344, 0.15790549504049967, 0.0902317114517141, 0.056394819657321314, 0.07331326555451771, 0.9914017799651109, 0.9951705096450839, 0.9785451657636492, 0.7292736201893923, 0.2695141639830363, 0.9936715749965326, 0.9760825859084126, 0.9502395163575499, 0.9677895906496481, 0.0869413192092802, 0.2260474299441285, 0.6955305536742415, 0.3622322246048881, 0.6209695278940939, 0.743977297866747, 0.2412899344432693, 0.9878640752922142, 0.9731935935298717, 0.9750532723603227, 0.9886027156767276, 0.967245522929164, 0.9551162477905675, 0.955324354795767, 0.10045108866695802, 0.31181692107034886, 0.08789470258358827, 0.03139096520842438, 0.06906012345853364, 0.07952377852800843, 0.03766915825010926, 0.010463655069474794, 0.046040082305689095, 0.033483696222319344, 0.12974932286148744, 0.04394735129179413, 0.02092731013894959, 0.1436087741316531, 0.0932197305766871, 0.0932197305766871, 0.19273809159774496, 0.11967397844304425, 0.0277139739552313, 0.04660986528834355, 0.14486850022052725, 0.00125972608887415, 0.10203781319880616, 0.0352723304884762, 0.971756793156168, 0.9859670451007655, 0.9725148660562912, 0.9878528444321211, 0.9868385488186601, 0.9625181209777122, 0.9601419681737462, 0.9683021713050133, 0.9828688086867501, 0.18705521588702403, 0.07194431380270155, 0.1294997648448628, 0.3956937259148586, 0.08633317656324187, 0.13669419622513296, 0.99700951174267, 0.9623215701533283, 0.541104886130697, 0.10067067648943198, 0.06921109008648449, 0.11954642833120048, 0.15729793201473746, 0.9543121717683144, 0.9799691901687909, 0.9703814390093303, 0.984706437865938, 0.20246090555176166, 0.1698059207853485, 0.6204447105618502, 0.988843837505038, 0.9729853438822673, 0.15975662256921233, 0.8147587751029829, 0.6935277003878847, 0.10149185859334897, 0.18606840742113978, 0.06189861714572907, 0.1609364045788956, 0.19807557486633304, 0.055708755431156165, 0.17331612800804141, 0.11141751086231233, 0.23521474515377047, 0.9738814226468463, 0.9715250018826538, 0.2814307439805694, 0.07272929338823704, 0.11699929805933784, 0.24032288250026151, 0.13281001401330242, 0.05059429105268663, 0.10435072529616618, 0.9837455420361484, 0.9721918293923917, 0.7412425608434474, 0.046327660052715464, 0.2084744702372196, 0.9863511137000075, 0.9918017125214531, 0.9579765454143883, 0.9805777687950719, 0.942285017785781, 0.9786570166136149, 0.9718310839802283, 0.9878591833319129, 0.9383168535411546, 0.9606672612444913, 0.9902469680970094, 0.9887533034609958, 0.9635362110414829, 0.9857805037383246, 0.11144270967598029, 0.8692531354726463, 0.20765338130835967, 0.07986668511859987, 0.15973337023719975, 0.5430934588064792, 0.9820145942686891, 0.3733565827740043, 0.4586952302652053, 0.14934263310960172, 0.9721248446307236, 0.9542712179783178, 0.5676261450584338, 0.1060983448707353, 0.24402619320269117, 0.07957375865305147, 0.9664703157030738, 0.21937314700537128, 0.7521365040184158, 0.44777522597687036, 0.061926361039354415, 0.004763566233796493, 0.4811201896134458, 0.9837113895894116, 0.9939246587444888, 0.9976284079357961, 0.9853340594812315, 0.9682753447589668, 0.9723963775338998, 0.972486601116272, 0.8161427194150539, 0.07419479267409582, 0.09274349084261976, 0.17670486731975613, 0.8128423896708782, 0.9816466873720575, 0.20314961519922373, 0.13851110127219798, 0.6556192126884038, 0.9919566630336055, 0.9983867099662009, 0.9856535175517586, 0.9463763067065971, 0.9950235471669866, 0.7178396670675276, 0.2632078779247601, 0.14835713207206533, 0.059342852828826134, 0.7862927999819463, 0.2661840759382245, 0.7246122067207224, 0.23216791231065, 0.7576005559610685, 0.9794190340230184, 0.996642897440174, 0.9752191616394761, 0.8373659864107386, 0.13221568206485346, 0.9988288451674567, 0.9606419839572855, 0.9959432410016025, 0.8769566966526504, 0.11909288473060685, 0.955902305173255, 0.9970953055245497, 0.9925189597143013, 0.9592709996570814, 0.9976980678801507, 0.9796025209747597, 0.1903891384281422, 0.7908471903938215, 0.9669875212162893, 0.2345483357549806, 0.7462901592203928, 0.9793585382784419, 0.7815555303181196, 0.2149277708374829, 0.9476948420764287, 0.9919257907653379, 0.20510256567151536, 0.03823946139638422, 0.12514732820634836, 0.013905258689594262, 0.06257366410317418, 0.1216710135339498, 0.12862364287874692, 0.06257366410317418, 0.05214472008597849, 0.03476314672398566, 0.05214472008597849, 0.1008131254995584, 0.1326006276379079, 0.5424571130641687, 0.3134196653259641, 0.9685955667280359, 0.9763917161938754, 0.9816479744361928, 0.18408431416089452, 0.6627035309792202, 0.1472674513287156, 0.9609388052708195, 0.5165094137795878, 0.07475794146809824, 0.10194264745649759, 0.047573235479698876, 0.05436941197679871, 0.027184705988399355, 0.10873882395359742, 0.06116558847389855, 0.7975427776147211, 0.19938569440368029, 0.9401584394579069, 0.8679651053163749, 0.0929962612838973, 0.9628445365709541, 0.9781411716762382, 0.9304461384846613, 0.9876294764499909, 0.9849372096262735, 0.8798491579807213, 0.1139373010334747, 0.2364530423751413, 0.634124068187879, 0.12897438675007708, 0.35422138383124846, 0.15009380670815614, 0.12007504536652491, 0.34821763156292224, 0.018011256804978736, 0.9421823330106611, 0.9441429355531575, 0.9824202646648978, 0.9802421766808972, 0.9697762400831322, 0.9914948823443688, 0.9346407236555597, 0.9798609288915074, 0.9891785385011482, 0.9735954372628712, 0.9951302868463208, 0.984402763600752, 0.07685151752600734, 0.19212879381501838, 0.1650047288058393, 0.05650846876912305, 0.11527727628901102, 0.1424013412981901, 0.12883930879360056, 0.08589287252906704, 0.013562032504589532, 0.02260338750764922, 0.9569210778203524, 0.9795932653832792, 0.9946003363848662, 0.9854348131624917, 0.09016936812881864, 0.9016936812881864, 0.5509162265806438, 0.43749229757874647, 0.9912370082640087, 0.22920611188832307, 0.19301567316911417, 0.5669835399342729, 0.9815087098797326, 0.9647361859220039, 0.9480854119395382, 0.9578500041350392, 0.8803248432767573, 0.04080976094660464, 0.06995959019417938, 0.9655598875298012, 0.9741394137631366, 0.9609544431857413, 0.8722008255335351, 0.1174116495910528, 0.1794715065776039, 0.817592418853529, 0.9750420154104015, 0.9516407138256496, 0.048820505792185685, 0.06792418197173661, 0.5073087341014078, 0.09976364227098813, 0.08702785815128752, 0.10400890364422168, 0.05094313647880245, 0.03608472167248507, 0.10574452072636895, 0.8671050699562254, 0.9720157128401282, 0.9316656849089184, 0.9927824186239738, 0.17800851759199715, 0.6081957684393237, 0.1928425607246636, 0.995849685416414, 0.9799241109134074, 0.9865930613442069, 0.9637951386502893, 0.991461497324307, 0.8795326520591737, 0.11149005448637414, 0.9621634538146688, 0.9279633878225095, 0.054586081636618204, 0.15458668155799435, 0.15458668155799435, 0.5451214560202958, 0.13831439928873177, 0.2474389475075008, 0.7423168425225024, 0.5204193934540197, 0.1892434158014617, 0.2050137004515835, 0.07096628092554814, 0.9532142587067175, 0.9605772610476292, 0.958855229202972, 0.9749680528455543, 0.09620998024593053, 0.5932948781832382, 0.13629747201506826, 0.16836746543037842, 0.9634442558778096, 0.9523257081342575, 0.9823458600439473, 0.9493872034267383, 0.9732692413305579, 0.9876575470333201, 0.9839942587531876, 0.9705713648035597, 0.7528427283146163, 0.05666558170110015, 0.17809182820345762, 0.08729215016744699, 0.6634203412725971, 0.10475058020093637, 0.13966744026791517, 0.9732358271825791, 0.9730455071677283, 0.9530886014504129, 0.987998866203391, 0.9750166134043075, 0.9460590354662223, 0.29890612328307214, 0.6987940449725876, 0.3630139586576509, 0.6304979281948673, 0.2592678510584763, 0.7259499829637335, 0.9910658247202567, 0.9843593963497194, 0.9962627449414282, 0.9753252317210768, 0.9687601707838507, 0.9836617538589711, 0.9883422234298544, 0.8537263802190346, 0.14228773003650577, 0.40993774467405225, 0.3816661760758418, 0.10601838224328938, 0.09895049009373676, 0.48289018215470014, 0.03449215586819287, 0.06405686089807247, 0.0886941150896388, 0.27100979610722964, 0.05420195922144593, 0.9778642611884474, 0.9785061862468681, 0.9723599383611262, 0.25432718404348376, 0.11303430401932611, 0.056517152009663056, 0.5651715200966305, 0.22621668545740653, 0.6429316323526291, 0.023812282679727004, 0.10715527205877151, 0.08168536186020388, 0.2800640978064133, 0.6184748826558294, 0.8359097922543942, 0.09961619285933196, 0.06063594347959336, 0.9570338171828358, 0.9494735580744285, 0.9653604191498277, 0.9795681821534283, 0.9866656034164839, 0.1854261447901891, 0.05115203994212113, 0.11509208986977254, 0.15985012481912853, 0.3069122396527268, 0.04475803494935599, 0.12788009985530283, 0.9757194488374146, 0.9803865147379992, 0.6321227354222076, 0.19753835481943988, 0.1659322180483295, 0.9827566585889828, 0.9882449898975715, 0.9776521125887748, 0.9563690683792294, 0.9823162028693673, 0.9680451575427478, 0.9508760479546229, 0.9848059435595037, 0.9707306656995071, 0.9964722695784899, 0.9685283616751641, 0.9719775096224349, 0.9752890975459637, 0.9792374029720151, 0.9730174176874644, 0.7674867633183932, 0.20466313688490484, 0.9839221821465324, 0.8092384509323581, 0.17497047587726663, 0.9748179487790117, 0.9487061553934192, 0.9482983633189491, 0.21218884760584372, 0.17240343867974803, 0.5437339219899746, 0.06630901487682617, 0.2207137800413729, 0.7449090076396335, 0.23075560478859408, 0.6220368476909928, 0.140459933349579, 0.9933196918648636, 0.9794755275654934, 0.9921992119790759, 0.9544237342310848, 0.9830442156403342, 0.9905825564720021, 0.1883184884702485, 0.10271917552922646, 0.6847945035281764, 0.5205697281518185, 0.12805458553467192, 0.1976494689774284, 0.02783795337710259, 0.09464904148214881, 0.02783795337710259, 0.05185208026477613, 0.9333374447659704, 0.9859278980316389, 0.9770092550960708, 0.7431115530120336, 0.23119026093707712, 0.9795587131844115, 0.22516716517682878, 0.7573804646856969, 0.9683011644668756, 0.5444027931362577, 0.21028434069640856, 0.18458292127795864, 0.05841231686011349, 0.9779426217850574, 0.9757115703061944, 0.9808401931184497, 0.6922073659941382, 0.09998550842137552, 0.19227982388726061, 0.007691192955490424, 0.3395578484876681, 0.20373470909260089, 0.46179867394322865, 0.2656231226559401, 0.713862142137839, 0.9734200769870393, 0.977144053326379, 0.14537949724122423, 0.20768499605889176, 0.6438234877825645, 0.9644879621326474, 0.9670281098414735, 0.18302457911483788, 0.48806554430623433, 0.12201638607655858, 0.18302457911483788, 0.980253580315817, 0.08116765818446725, 0.07102170091140884, 0.2029191454611681, 0.48700594910680345, 0.1623353163689345, 0.24446038030336067, 0.733381140910082, 0.9755243017392614, 0.9850969989851192, 0.9945536317201269, 0.9847966962427777, 0.9692141779704556, 0.9873985734688852, 0.9964510979149859, 0.8106197390459088, 0.17833634259009992, 0.04285979215435537, 0.004762199128261708, 0.05238419041087878, 0.05714638953914049, 0.10953057995001927, 0.1428659738478512, 0.3047807442087493, 0.1904879651304683, 0.09048178343697244, 0.9788547749818431, 0.9888696242069016, 0.6528622098090617, 0.08852368946563549, 0.16598191774806653, 0.05532730591602218, 0.03319638354961331, 0.9685736008225933, 0.9665609214681289, 0.9739540282970304, 0.8010608253779717, 0.0593378389168868, 0.1186756778337736, 0.9796472282301956, 0.9840318816179418, 0.979652241524758, 0.7798508979382597, 0.1890547631365478, 0.6257653999439554, 0.09083691289509031, 0.11102289353844372, 0.10092990321676701, 0.07065093225173691, 0.9915381234593007, 0.9775825013685511, 0.08792200642995483, 0.38465877813105237, 0.13188300964493224, 0.39564902893479675, 0.10809856807159751, 0.13830257973866153, 0.006358739298329265, 0.09697077429952129, 0.09379140465035667, 0.09856045912410362, 0.0588183385095457, 0.015896848245823162, 0.04292149026372254, 0.10015014394868593, 0.15737879763364931, 0.03020401166706401, 0.054049284035798756, 0.9853894833991693, 0.963641166193072, 0.322331170799044, 0.6636229987039142, 0.9850430579162975, 0.9563751140672123, 0.9379372627708092, 0.9580949322371279, 0.9543196522249553, 0.21359488069033242, 0.01487725537146594, 0.00743862768573297, 0.01912789976331335, 0.3071090573109755, 0.034005155134779294, 0.057383699289940054, 0.02550386635108447, 0.21997084727810354, 0.02656652744904632, 0.07438627685732971, 0.9476666921172615, 0.9555040154857294, 0.9660175439749276, 0.15052701252530362, 0.8452670703343972, 0.11029695171421472, 0.8823756137137178, 0.9713509323760352, 0.9686661931745456, 0.11337885111823308, 0.8692378585731202, 0.13779524533039822, 0.8464565070295891, 0.1609705578189864, 0.804852789094932, 0.6897132334000105, 0.30174953961250456, 0.8453577706512391, 0.15216439871722304, 0.1771898572101774, 0.5879481625610432, 0.19329802604746626, 0.04027042209322214, 0.9938203720040951, 0.3549925342560335, 0.6417172734628298, 0.9850964347141762, 0.18153722077036627, 0.8086658016134497, 0.022247392753667092, 0.10011326739150192, 0.6674217826100128, 0.20022653478300384, 0.9557535378069438, 0.9978656107344597, 0.2732507698559263, 0.7156567781940926, 0.9729497171784771, 0.7163024884442415, 0.2791472932907706, 0.9894765828298049, 0.30977845476140875, 0.2832260157818594, 0.050892174710802866, 0.13718760139433817, 0.08187002018694374, 0.008850812993183107, 0.03982865846932398, 0.03319054872443665, 0.05310487795909864, 0.9775828588662283, 0.8491673121254664, 0.14621423917392137, 0.9981212897811836, 0.9850848261824113, 0.9801558300379459, 0.14690885550016605, 0.2087652157107623, 0.4175304314215246, 0.131444765447517, 0.08505249528956982, 0.639178973050221, 0.1743215381046057, 0.1743215381046057, 0.9761957992159325, 0.20079172499570444, 0.09015138673276527, 0.22947625713794795, 0.02458674183620871, 0.4097790306034785, 0.04097790306034785, 0.9630795487719036, 0.17763969437464452, 0.6978702279003892, 0.11419694638370005, 0.9844922827885202, 0.17249113901817945, 0.25089620220826103, 0.5801974676066036, 0.16712956372309087, 0.8227916983290627, 0.9799721414987013, 0.9731801630652265, 0.9784993423485011, 0.047381765173394916, 0.7817991253610161, 0.16583617810688223, 0.9801918895948428, 0.9641850553748934, 0.9774984569366244, 0.9914530630508472, 0.9810249924983524, 0.9764218608393979, 0.15892262677079608, 0.8312875861857026, 0.9868570381895146, 0.9633218320313782, 0.9785754511225685, 0.9941613446661703, 0.16554276704384832, 0.8277138352192416, 0.9877808679520138, 0.1462684501658885, 0.2659426366652518, 0.06648565916631295, 0.09307992283283814, 0.4255082186644029, 0.9449102107320091, 0.9076630317515382, 0.08528377479544653, 0.6863533699997533, 0.20939594338975523, 0.0930648637287801, 0.9973041435481586, 0.9592556213710791, 0.29268223891608197, 0.6951203174256947, 0.700405028902411, 0.29572656775879574, 0.9855323791326563, 0.9839219113147195, 0.9795498559852132, 0.9858057835645391, 0.88583287839635, 0.10300382306934303, 0.9456600388172098, 0.04111565386161782, 0.9935236691103141, 0.9618232412135994, 0.989357175585538, 0.9788331072483706, 0.9896707094130189, 0.9566571704712156, 0.9615747711837983, 0.9827113545941281, 0.948482781429432, 0.2317135484248254, 0.7414833549594413, 0.9894351920697003, 0.7924867614804559, 0.09906084518505699, 0.09906084518505699, 0.9590693453078736, 0.11990065095449669, 0.8393045566814769, 0.1447957804540868, 0.2237752970654069, 0.6186728801220073, 0.22866536961030956, 0.06097743189608255, 0.5106859921296913, 0.06859961088309287, 0.10671050581814445, 0.022866536961030956, 0.9832966750149642, 0.9505547531212172, 0.9393118705240362, 0.30444016006335806, 0.5303918413603816, 0.16411227378415394, 0.6530012596856829, 0.20859762462181536, 0.126972467161105, 0.12130283142978993, 0.7260064985573994, 0.1502706717712323, 0.9895625201965158, 0.2570947805191945, 0.22163343148206424, 0.4698628747419762, 0.04432668629641285, 0.9660917546686477, 0.3193351717089712, 0.654637102003391, 0.9923262563124856, 0.5821753310930738, 0.14554383277326846, 0.10188068294128792, 0.14554383277326846, 0.9715006220537604, 0.9829057099557513, 0.9737388766734603, 0.17218057736815395, 0.47265256532434424, 0.13166750034035304, 0.08102615405560187, 0.07765006430328512, 0.0607696155417014, 0.9894495320230846, 0.9586466693126667, 0.963713769625378, 0.9811357949859832, 0.9931386633786908, 0.9591028220468426, 0.16340822151960022, 0.3190350991573147, 0.32681644303920043, 0.10893881434640014, 0.07781343881885724, 0.42147963962109836, 0.5747449631196796, 0.35153714904194944, 0.18482881032102497, 0.4385154127224318, 0.021744565920120584, 0.8767366241184237, 0.04225236742739392, 0.07394164299793934, 0.9710471862248752, 0.15812970133053617, 0.543570848323718, 0.1877790203300117, 0.0988310633315851, 0.43379803924409593, 0.08580620556476623, 0.05720413704317749, 0.09534022840529581, 0.1001072398255606, 0.1525443654484733, 0.06673815988370707, 0.9629944047124495, 0.9668279738567388, 0.09639666496963555, 0.1958057257195722, 0.18676853837866886, 0.10543385231053888, 0.11447103965144222, 0.10242145653023776, 0.027111562022709996, 0.07530989450752777, 0.09338426918933443, 0.9832120233318405, 0.9738675341550841, 0.9821145822525965, 0.989464041957764, 0.9968177071261944, 0.9558335459910026, 0.03632247210094021, 0.17500827466816646, 0.09906128754801874, 0.04622860085574208, 0.04953064377400937, 0.013208171673069166, 0.029718386264405622, 0.16180010299509728, 0.07924903003841499, 0.10566537338455333, 0.13208171673069166, 0.06934290128361312, 0.37031097217055653, 0.6227957259232088, 0.9782620382863448, 0.25623572386562443, 0.24509504021929293, 0.49019008043858586, 0.9776418820833109, 0.9982548254143425, 0.9915299527554425, 0.9966800248279523, 0.12979222446627545, 0.23225977009754553, 0.1912727518450375, 0.006831169708751339, 0.034155848543756695, 0.2869091277675562, 0.10929871534002142, 0.14807391961258456, 0.23268758796263292, 0.46537517592526584, 0.14807391961258456, 0.4983920532820263, 0.09125488299530059, 0.09125488299530059, 0.1544313404535856, 0.1544313404535856, 0.9950408285089066, 0.9713588095373763, 0.9965610106145881, 0.9728590471496719, 0.9471275832552813, 0.9799426373713597, 0.19557604838187506, 0.5494755645014585, 0.13969717741562504, 0.11175774193250003, 0.9966394068747595, 0.9682440619733849, 0.7492520188263154, 0.2372631392949999, 0.9470289375769132, 0.9186112458778004, 0.06889584344083503, 0.9690667536436732, 0.9785893143953495, 0.599455794588508, 0.21443947123491341, 0.18519772515742522, 0.10159234513247824, 0.07901626843637197, 0.045152153392212555, 0.4797416297922584, 0.2934889970493816, 0.21270994973306068, 0.6256174992148843, 0.16266054979586994, 0.9593725384023232, 0.9407115605358751, 0.8943363171087982, 0.09343812268300877, 0.9943216874556295, 0.23091550481330483, 0.7504753906432406, 0.23394402917218537, 0.25193972372389195, 0.5128772947236372, 0.9813270792009607, 0.9851682266421202, 0.9828241975828829, 0.9771768021958713, 0.9800408999371656, 0.9741946762910791, 0.9708040758623351, 0.9472871865462903, 0.9850343867552691, 0.9620115407473251, 0.10694188719756843, 0.8769234750200611, 0.9616049957791486, 0.48126202258011364, 0.10180542785348558, 0.22212093349851397, 0.10180542785348558, 0.09255038895771416, 0.9844705608792484, 0.9805710003370921, 0.2802686782176075, 0.2619902861599374, 0.10357755499346363, 0.04264958146789679, 0.030463986762783418, 0.15841273116647378, 0.115763149698577, 0.21486968110147353, 0.1412000761523969, 0.5832177058468567, 0.012278267491512774, 0.04297393622029471, 0.9784863094557348, 0.9825999824804015, 0.05182035719769513, 0.27568430029173807, 0.13680574300191514, 0.10985915725911367, 0.09534945724375904, 0.055965985773510744, 0.04560191433397171, 0.0808397572284044, 0.07669412865258879, 0.06840287150095757, 0.9477823268183814, 0.9805377993550488, 0.9633602100102897, 0.5923073828957481, 0.07200997292054472, 0.19473119437668432, 0.051725473506306775, 0.08925179742264698, 0.9978714606447989, 0.9849352086266815, 0.11291159281600076, 0.030109758084266868, 0.16560366946346777, 0.07527439521066717, 0.5269207664746702, 0.08280183473173389, 0.9381901723224065, 0.9877039985647199, 0.9824624547025897, 0.9941265468689715, 0.979559681524584, 0.9766658727672367, 0.9910230194248311, 0.967678316655851, 0.9849946632541939, 0.05366742948324334, 0.047122621009677075, 0.06806600812508912, 0.13744097794489146, 0.08900939524050115, 0.1806367138704288, 0.23430414335367214, 0.04843158270439033, 0.14136786302903123, 0.23856131362390645, 0.6314858301809289, 0.12629716603618577, 0.9449205232875898, 0.9710913521570308, 0.0777491769847852, 0.1554983539695704, 0.6090352197141508, 0.1554983539695704, 0.24354031761894018, 0.748016689829602, 0.25675757491316603, 0.7360383814177426, 0.9697081985359223, 0.9599234234481635, 0.06219307420753696, 0.9328961131130544, 0.1275330181005714, 0.5951540844693332, 0.11052861568716188, 0.16154182292739044, 0.1304643143474232, 0.2846494131216506, 0.49813647296288854, 0.08302274549381476, 0.9735385926705152, 0.13129486700215354, 0.2625897340043071, 0.5857770989326849, 0.9614333311657414, 0.9818841407831141, 0.9537840298331467, 0.9710146100691747, 0.9423704126915355, 0.9471397419042265, 0.9597971024115048, 0.9761564659592543, 0.9750218206887578, 0.9814028184448434, 0.966703791685263, 0.9761597164205513, 0.9712106181045107, 0.9412845596837836, 0.9726419441297692, 0.9612192772448427, 0.9830423918086713, 0.22296920749313118, 0.7153595407071293, 0.055742301873282794, 0.9452965335335647, 0.7823814494205017, 0.10254514142890071, 0.1139390460321119, 0.16148943442091948, 0.8074471721045974, 0.9571624718583616, 0.037553104331063236, 0.23408101699696085, 0.07135089822902015, 0.05007080577475098, 0.2829000526273431, 0.08136505938397035, 0.010014161154950197, 0.07635797880649525, 0.01627301187679407, 0.037553104331063236, 0.03504956404232569, 0.07009912808465138, 0.9829364632983304, 0.9740438769836876, 0.9557242246494771, 0.17978311661578908, 0.07990360738479516, 0.7391083683093551, 0.9462448397731796, 0.9727038626628318, 0.9653325505407044, 0.98940468053319, 0.21008067490694393, 0.23432075278082207, 0.10504033745347197, 0.44440142768776597, 0.14043689884169408, 0.1474587437837788, 0.4458871538223787, 0.09830582918918586, 0.07021844942084704, 0.09479490671814352, 0.9850114554640976, 0.28038910179822274, 0.1584807966685607, 0.5485873730834793, 0.9740723078075877, 0.9923016320259274, 0.987162915504491, 0.09866743193673909, 0.8880068874306518, 0.2193719165089388, 0.1190876118191382, 0.18176530225026358, 0.18176530225026358, 0.25071076172450146, 0.0501421523449003, 0.702987434818863, 0.05407595652452793, 0.0675949456556599, 0.0675949456556599, 0.09463292391792387, 0.1669084714566232, 0.5320207527679864, 0.1460449125245453, 0.1460449125245453, 0.9530956440578127, 0.29605724264941785, 0.6993076248787974, 0.9534541307483237, 0.9453076458200371, 0.966760231116186, 0.6763930175004985, 0.24425303409740226, 0.07515477972227762, 0.25774579405207765, 0.7180061405736449, 0.03735426387965803, 0.16809418745846114, 0.7844395414728187, 0.991977803773468, 0.14062277672379367, 0.5369233293090303, 0.1789744431030101, 0.1278388879307215, 0.9586566432848151, 0.9600408150248466, 0.9709098416811942, 0.0678710318240266, 0.09220215644018706, 0.055065176762889495, 0.04610107822009353, 0.10244684048909673, 0.15110908972141768, 0.28172881134501604, 0.05378459125677579, 0.025611710122274183, 0.12293620858691609, 0.2740245845108034, 0.07611794014188983, 0.6393906971918746, 0.09759267188392941, 0.8783340469553647, 0.973150583773576, 0.9883851901207511, 0.9807249649888704, 0.9683666237835336, 0.15423442543965085, 0.8225836023448044, 0.11448830106142993, 0.8831954653310309, 0.9547637264309474, 0.17770709332607568, 0.25175171554527387, 0.5479302044220667, 0.9738344346503742, 0.9909168396994409, 0.8994052771523678, 0.09908702205915917, 0.9855905604139443, 0.9500278276817573, 0.1797120184422145, 0.08742746843134759, 0.1359982842265407, 0.35456695530490967, 0.05828497895423173, 0.07285622369278966, 0.10685579474942483, 0.2583717642144905, 0.7353657904566268, 0.9470606661514305, 0.9863492014775942, 0.8833068734402734, 0.08412446413716888, 0.9676369240690313, 0.9707460926181283, 0.9980797232911315, 0.9435395267785792, 0.9797100708353719, 0.268780939454484, 0.537561878908968, 0.17529191703553304, 0.01168612780236887, 0.2595893285890532, 0.726850120049349, 0.8139198899010698, 0.18378836223572542, 0.9912687099632798, 0.2101567215112281, 0.7886526430905226, 0.9905431906930043, 0.9759921955537904, 0.9766850747456303, 0.12158430232588333, 0.8754069767463599, 0.9546172176447197, 0.8718911320237032, 0.11822252637609536, 0.9764661519184673, 0.7644517148354911, 0.07231300005200592, 0.15495642868286982, 0.8176800874557028, 0.1703500182199381, 0.9662073095542499, 0.9638156182678873, 0.9693426364044685, 0.9547556972006265, 0.8732945472038145, 0.12129090933386313, 0.9798757646872729, 0.9629997530705264, 0.14261998192438405, 0.0987369105630351, 0.7460122131429319, 0.15276185514347831, 0.8249140177747829, 0.9895928433754618, 0.9751656061543064, 0.06263704525393662, 0.07655638864370032, 0.12527409050787325, 0.7307655279625939, 0.9677520159664387, 0.9703722559026028, 0.07187666982541745, 0.848829243652549, 0.07529936838853257, 0.9837726866747728, 0.969673581395678, 0.9615030483843652, 0.9860921201536845, 0.9655035058383412, 0.975431703424912, 0.98061072851207, 0.9380665534679151, 0.9694333703223257, 0.9883096936663901, 0.9717214521006535, 0.7561128068666911, 0.07376710310894548, 0.1659759819951273, 0.9849955120695001, 0.8153376868755028, 0.16922102935151945, 0.9708357887690682, 0.9783752766665381, 0.9794497136384757, 0.9497030492616786, 0.6718596512156312, 0.25840755815985816, 0.05168151163197163, 0.30120586605598065, 0.1941104470138542, 0.18072351963358838, 0.3212862571263793, 0.3108281846205768, 0.5398594785515282, 0.04907813441377529, 0.09815626882755057, 0.23836356828000563, 0.5309006748054671, 0.09751236884182049, 0.11918178414000281, 0.9495195818787735, 0.9889766318333051, 0.9968522832072012, 0.9674282339232941, 0.9695022707569625, 0.35656067110291084, 0.6320848260460692, 0.9789288016136245, 0.15268371718542764, 0.7710527717864096, 0.06870767273344244, 0.748149316570077, 0.032178465228820514, 0.20916002398733335, 0.9427208814331323, 0.9531780883294881, 0.9874023999031525, 0.9555000187315741, 0.9717979540399658, 0.556299312526771, 0.2843307597359052, 0.1483464833404723, 0.9907222255189415, 0.9810607395307894, 0.7175953573499995, 0.2740815600989582, 0.9522717888664534, 0.9460550717562706, 0.049961973984814376, 0.19627918351177076, 0.7529983221997023, 0.2157685952691021, 0.6257289262803961, 0.16182644645182656, 0.9895250363681473, 0.9851389017069451, 0.9946733584070693, 0.07614761725486821, 0.16752475796071006, 0.14468047278424961, 0.060918093803894575, 0.5482628442350511, 0.9639071180216054, 0.148995753454337, 0.09312234590896062, 0.15830798804523305, 0.3818016182267385, 0.13037128427254485, 0.08381011131806455, 0.09194321918722191, 0.8964463870754137, 0.972708162282762, 0.7839804831382204, 0.20752424553658777, 0.9734808176026556, 0.1626446972841634, 0.8132234864208169, 0.961349580521931, 0.9226340511599006, 0.9929873995738413, 0.9922368320155974, 0.9451831916509948, 0.9711980272484081, 0.09970846214847466, 0.877434466906577, 0.9858651710518528, 0.9497455409048361, 0.15493015686557537, 0.8056368157009919, 0.11283854468137518, 0.6185223930682787, 0.03343364286855561, 0.22567708936275035, 0.9755946838784123, 0.3335505792615823, 0.6512177976059464, 0.27657851412820517, 0.3142937660547786, 0.1131457557797203, 0.025143501284382287, 0.13828925706410258, 0.025143501284382287, 0.10685988045862473, 0.964266320293946, 0.9803865472852363, 0.20575821931924307, 0.0847239726608648, 0.018155136998756743, 0.20273236315278362, 0.07262054799502697, 0.11498253432545937, 0.18155136998756743, 0.07564640416148642, 0.009077568499378371, 0.03328441783105403, 0.9733198439425372, 0.11133584953508632, 0.6309031473654891, 0.17230548142334787, 0.08482731393149434, 0.11665199164943338, 0.8748899373707504, 0.808466703312544, 0.1865692392259717, 0.051775722376073446, 0.1788615863900719, 0.07531014163792502, 0.13179274786636877, 0.06589637393318439, 0.042361954671332816, 0.023534419261851566, 0.3294818696659219, 0.10355144475214689, 0.948501709345026, 0.22761952670958197, 0.7641512682393109, 0.9565305395015803, 0.9943999368531679, 0.9733152790347005, 0.9648198257602644, 0.9651493566777398, 0.2751880764067866, 0.1375940382033933, 0.5569282498708776, 0.026208388229217772, 0.982088292257515, 0.9944904317919747, 0.9685099326040038, 0.9781243477820902, 0.9690217917121685, 0.9494113090670185, 0.962050419783459, 0.9448566283220888, 0.2685131644200065, 0.24472085871190466, 0.0339890081544312, 0.1019670244632936, 0.02379230570810184, 0.09177032201696425, 0.1529505366949404, 0.04758461141620368, 0.037387908969874324, 0.8620836686557005, 0.13714967455886146, 0.9953669334476288, 0.24533194631636485, 0.5860707606446494, 0.16355463087757657, 0.9497873884122617, 0.9585899242677435, 0.9416071063420682, 0.9898232255891161, 0.9691987282739551, 0.08470484133212246, 0.6964620287307847, 0.21646792784875737, 0.9778062743426253, 0.11285702375092027, 0.056428511875460136, 0.39903019111932525, 0.04836729589325155, 0.0886733758042945, 0.06448972785766872, 0.08061215982208592, 0.14107127968865035, 0.8626228769746394, 0.1362036121538904, 0.9584703020934154, 0.9005951065760404, 0.08577096253105146, 0.9521022114365467, 0.7660102513037166, 0.07660102513037166, 0.15320205026074332, 0.09745889024418436, 0.21319132240915328, 0.1888265998481072, 0.04872944512209218, 0.32283257393386067, 0.12791479344549198, 0.9796364863055514, 0.8136845176899175, 0.17312436546593987, 0.9697292594854664, 0.20265521457782704, 0.4036628257851026, 0.10379901234474068, 0.08238016852757196, 0.0016476033705514392, 0.11368463256804931, 0.0922657887508806, 0.31658054667963903, 0.2705324671626006, 0.023024039758519202, 0.1554122683700046, 0.13238822861148541, 0.0978521689737066, 0.43140169994100325, 0.04607202620729161, 0.09214405241458322, 0.13821607862187482, 0.17172300677263236, 0.08795568639573852, 0.03350692815075753, 0.9837461515101028, 0.9707432065877971, 0.981550710806552, 0.9707365286671218, 0.928959845068942, 0.09020985548748975, 0.1882640462347612, 0.0470660115586903, 0.02941625722418144, 0.1000152745622169, 0.0058832514448362875, 0.037260592483963156, 0.017649754334508865, 0.07059901733803546, 0.11570394508178033, 0.0470660115586903, 0.0666768497081446, 0.04314384392879944, 0.041182760113854015, 0.0333384248540723, 0.06471576589319916, 0.9820692874203462, 0.14169492109251475, 0.011186441138882744, 0.07333333635489798, 0.02983050970368732, 0.08700565330242134, 0.16158192756163964, 0.12305085252771018, 0.19265537516964726, 0.011186441138882744, 0.024858758086406096, 0.04598870245985128, 0.011186441138882744, 0.022372882277765488, 0.01491525485184366, 0.04847457826849189, 0.4465139016092688, 0.4465139016092688, 0.1000807020848361, 0.0671425335675264, 0.2290745262892077, 0.059243411971346825, 0.6437784100886355, 0.9723784697463268, 0.9761369997204646, 0.17020047451537526, 0.8169622776738013, 0.9717387056057588, 0.9747741888283443, 0.964548973583546, 0.8084558881787124, 0.12632123252792382, 0.06316061626396191, 0.977126520263162, 0.9571601526246956, 0.9228695459351641, 0.9786054231954847, 0.9733788329475862, 0.9792983024717171, 0.9701114501786844, 0.9698399319211, 0.17990057901660736, 0.10119407569684163, 0.1686567928280694, 0.55094552323836, 0.9771919968536712, 0.09874513202813733, 0.3222209571444481, 0.33558495997532384, 0.01262155822916041, 0.08315379539211565, 0.0445466761029191, 0.1017149104349986, 0.0007424446017153183, 0.0007424446017153183, 0.9338647909165091, 0.04150510181851152, 0.3055423442577598, 0.6754093925697847, 0.1925143146980926, 0.24273544027150806, 0.050221125573415466, 0.5105814433297239, 0.981500301598753, 0.957443715267008, 0.5840238948476799, 0.4151495156146159, 0.9919785550143826, 0.9775023247355737, 0.27986612587655635, 0.03998087512522233, 0.13771190320909915, 0.23100061183461792, 0.0977310280838768, 0.06219247241701252, 0.03998087512522233, 0.05330783350029644, 0.05775015295865448, 0.9767151006180598, 0.9755723045286211, 0.9940206026685368, 0.9689365278633105, 0.9441152870326629, 0.9597406929704522, 0.9816724711682148, 0.9885426452568472, 0.9588757140476755, 0.9798476381919111, 0.9507720180682383, 0.9880538483566191, 0.9864389610432751, 0.9439033511077506, 0.9940998103505989, 0.9726345568475496, 0.8291132622969482, 0.16389448208195487, 0.6581335638251523, 0.12797041518822405, 0.18281487884032008, 0.09390060980540901, 0.8920557931513856, 0.9944180462606627, 0.9728421824190967, 0.6737712335165197, 0.03642006667656863, 0.10926020002970589, 0.16389030004455885, 0.9722191561347538, 0.1092948203349271, 0.8743585626794168, 0.9732548903754379, 0.0721409910738369, 0.3584505493981271, 0.23445822098996993, 0.060868961218549886, 0.06312336718960729, 0.2096597553083385, 0.9919294963507593, 0.9788621444747825, 0.9519836980250386, 0.5560543591583412, 0.4312258295513667, 0.9924014050705376, 0.43599887436319734, 0.19690271745434718, 0.053445023309037096, 0.09845135872717359, 0.03375475156360237, 0.0450063354181365, 0.03938054349086944, 0.06750950312720475, 0.028128959636335313, 0.9018325901544654, 0.08454680532698113, 0.9625486512297973, 0.18370200351095967, 0.11372028788773693, 0.6998171562322273, 0.32766765112423496, 0.09616333239515591, 0.05698567845638869, 0.5199943159145467, 0.3971664340355145, 0.015729363724178793, 0.10617320513820684, 0.12190256886238564, 0.07471447768984926, 0.08651150048298335, 0.03932340931044698, 0.031458727448357586, 0.07864681862089395, 0.043255750241491676, 0.9769293964251251, 0.9911455866235792, 0.9631282907055981, 0.9785715236389116, 0.9783060942485715, 0.16581825668885966, 0.3999146190731321, 0.1365562113908256, 0.07803212079475748, 0.21458833218558307, 0.9679593291032523, 0.9924780346445385, 0.9833511657351737, 0.16427374451363466, 0.41441785547757837, 0.1269388025787177, 0.06346940128935885, 0.033601447741425275, 0.003733494193491697, 0.07093638967634225, 0.1157383199982426, 0.9825788520391786, 0.962914053422556, 0.9443898694589, 0.9937515098439162, 0.9974631189583989, 0.9810194862489571, 0.9834372583743312, 0.20659379100871914, 0.3314418373737005, 0.005945145064999112, 0.07134174077998934, 0.2511823789962125, 0.019321721461247113, 0.03269829785749512, 0.07580059957873868, 0.00743143133124889, 0.2265844724084138, 0.7674635355768855, 0.47433592297956667, 0.15313206962332468, 0.022409571164388974, 0.03361435674658347, 0.048554070856176114, 0.18301149784250997, 0.08216842760275958, 0.9810045637960706, 0.9637601870342597, 0.9096981921268252, 0.07580818267723544, 0.13131433790743507, 0.17821231573151902, 0.01875919112963358, 0.007503676451853432, 0.061905330727790815, 0.01875919112963358, 0.046897977824083954, 0.07316084540557097, 0.21197885976485945, 0.054401654275937385, 0.10505147032594805, 0.01875919112963358, 0.031890624920377086, 0.03751838225926716, 0.9867008076207618, 0.9963697471997892, 0.9921379723633302, 0.817261159290328, 0.17026274151881834], \"Term\": [\".@bloombergdotorg\", \".@callygingrich\", \".@hillaryclinton\", \".@potus\", \".@realdonaldtrump\", \"@berniesander\", \"@bloomberg\", \"@bloomberg\", \"@bloombergdotorg\", \"@c40citie\", \"@callygingrich\", \"@climaterisk\", \"@cnn\", \"@compactofmayor\", \"@dcexaminer\", \"@facebook\", \"@flotus\", \"@foxandfriend\", \"@foxnew\", \"@gop\", \"@mariabartiromo\", \"@mike_pence\", \"@morning_joe\", \"@msnbc\", \"@narendramodi\", \"@nycfirstlady\", \"@nytime\", \"@potus\", \"@potus\", \"@potus\", \"@potus\", \"@potus\", \"@potus\", \"@potus\", \"@potus\", \"@potus\", \"@potus\", \"@potus\", \"@potus\", \"@potus\", \"@realdonaldtrump\", \"@realdonaldtrump\", \"@realdonaldtrump\", \"@realdonaldtrump\", \"@seanhannity\", \"@un\", \"@usnavy\", \"@vp\", \"@washingtonpost\", \"@washingtonpost\", \"@whitehouse\", \"@wsj\", \"a.m.\", \"able\", \"able\", \"abortion\", \"aca\", \"accept\", \"accountability\", \"accountable\", \"achieve\", \"act\", \"act\", \"act\", \"act\", \"act\", \"action\", \"actonclimate\", \"ad\", \"add\", \"add\", \"address\", \"admin\", \"advice\", \"affect\", \"afford\", \"afford\", \"afford\", \"affordable\", \"affordable\", \"afghanistan\", \"afghanistan\", \"africa\", \"african\", \"afternoon\", \"agreement\", \"al\", \"alabama\", \"alliance\", \"america\", \"america\", \"america\", \"america\", \"america\", \"america\", \"america\", \"america\", \"america\", \"america\", \"america\", \"america\", \"america\", \"american\", \"american\", \"american\", \"american\", \"american\", \"american\", \"american\", \"american\", \"american\", \"american\", \"american\", \"anniversary\", \"announce\", \"announcement\", \"answer\", \"anti\", \"apologize\", \"appear\", \"appreciate\", \"april\", \"arizona\", \"arizona\", \"arizona\", \"arizona\", \"arizona\", \"arizona\", \"ask\", \"assad\", \"attack\", \"attack\", \"attack\", \"attack\", \"attack\", \"attorney\", \"australia\", \"award\", \"away\", \"bad\", \"bad\", \"bad\", \"ballot\", \"beat\", \"beautiful\", \"beautiful\", \"begin\", \"begin\", \"begin\", \"believe\", \"believe\", \"believe\", \"believe\", \"believe\", \"believe\", \"believe\", \"bernie\", \"biden\", \"big\", \"big\", \"big\", \"big\", \"big\", \"big\", \"big\", \"bigleaguetruth\", \"bigotry\", \"bill\", \"bill\", \"bill\", \"billionaire\", \"birthday\", \"biz\", \"black\", \"blame\", \"bless\", \"bloomberg\", \"board\", \"bob\", \"bold\", \"book\", \"borough\", \"boy\", \"br\", \"brave\", \"brave\", \"bring\", \"bring\", \"bring\", \"bring\", \"bronx\", \"budget\", \"budget\", \"budget\", \"burn\", \"bush\", \"business\", \"business\", \"business\", \"business\", \"buy\", \"cabinet\", \"cabinet\", \"caign\", \"caign\", \"caign\", \"caign\", \"cancer\", \"candidate\", \"care\", \"carolina\", \"carry\", \"catch\", \"caucus\", \"cause\", \"cause\", \"cause\", \"ceo\", \"ceo\", \"chairman\", \"challenge\", \"challenge\", \"challenge\", \"chance\", \"change\", \"charge\", \"chat\", \"check\", \"chicago\", \"chicago\", \"chief\", \"chief\", \"chief\", \"child\", \"child\", \"china\", \"china\", \"chip\", \"choice\", \"cindy\", \"citizen\", \"citizen\", \"city\", \"civil\", \"class\", \"clean\", \"clean\", \"clearly\", \"climate\", \"climatechange\", \"climateofhope\", \"clinton\", \"close\", \"cnn\", \"cnn\", \"co\", \"coal\", \"coal\", \"code\", \"college\", \"college\", \"colorado\", \"combat\", \"come\", \"come\", \"come\", \"come\", \"come\", \"come\", \"come\", \"come\", \"come\", \"come\", \"come\", \"come\", \"comey\", \"comey\", \"comey\", \"commander\", \"comment\", \"commit\", \"commitment\", \"commitment\", \"commitment\", \"common\", \"community\", \"community\", \"community\", \"community\", \"community\", \"community\", \"community\", \"community\", \"company\", \"company\", \"completely\", \"concern\", \"concern\", \"condemn\", \"condolence\", \"conduct\", \"conference\", \"confirm\", \"congrat\", \"congrat\", \"congratulation\", \"congratulation\", \"congratulation\", \"congress\", \"congress\", \"congress\", \"congress\", \"congress\", \"congressional\", \"conservative\", \"consider\", \"contract\", \"contribution\", \"control\", \"cool\", \"cop21\", \"corporation\", \"corrupt\", \"cost\", \"count\", \"country\", \"country\", \"country\", \"country\", \"country\", \"country\", \"country\", \"country\", \"country\", \"country\", \"courage\", \"course\", \"court\", \"cover\", \"create\", \"create\", \"crime\", \"crime\", \"criminal\", \"crisis\", \"crisis\", \"crisis\", \"crooked\", \"crowd\", \"cruz\", \"culture\", \"cut\", \"cut\", \"cut\", \"d.c\", \"daca\", \"dakota\", \"dangerous\", \"dangerous\", \"datum\", \"datum\", \"daughter\", \"david\", \"day\", \"day\", \"day\", \"day\", \"day\", \"day\", \"day\", \"day\", \"dc\", \"dc\", \"de\", \"dead\", \"deal\", \"death\", \"death\", \"death\", \"debate\", \"debatenight\", \"debt\", \"decide\", \"defeat\", \"defense\", \"defense\", \"delegation\", \"deliver\", \"deliver\", \"dem\", \"dem\", \"dem\", \"dem\", \"democracy\", \"democracy\", \"democrat\", \"democrat\", \"democrat\", \"democrat\", \"denier\", \"deny\", \"department\", \"depend\", \"deserve\", \"deserve\", \"deserve\", \"deserve\", \"despite\", \"develop\", \"difference\", \"different\", \"dinner\", \"director\", \"disaster\", \"discrimination\", \"discus\", \"discus\", \"discus\", \"discuss\", \"discuss\", \"discuss\", \"discuss\", \"disgrace\", \"dishonest\", \"diversity\", \"divide\", \"dnc\", \"doctor\", \"donald\", \"donald\", \"doyourjob\", \"doyourjob\", \"drainthesw\", \"drainthesw\", \"dream\", \"drive\", \"drug\", \"duty\", \"earlier\", \"early\", \"earn\", \"easy\", \"easy\", \"economic\", \"economic\", \"economic\", \"economic\", \"economy\", \"economy\", \"economy\", \"economy\", \"economy\", \"economy\", \"ed\", \"editorial\", \"edt\", \"education\", \"education\", \"education\", \"education\", \"effort\", \"effort\", \"effort\", \"effort\", \"elect\", \"elect\", \"elect\", \"election\", \"election\", \"election\", \"election2016\", \"electoral\", \"elite\", \"email\", \"emission\", \"end\", \"end\", \"end\", \"end\", \"end\", \"end\", \"end\", \"endorse\", \"enemy\", \"energy\", \"energy\", \"energy\", \"enjoy\", \"enter\", \"environment\", \"epa\", \"equal\", \"equality\", \"era\", \"especially\", \"establishment\", \"et\", \"evening\", \"everybody\", \"exactly\", \"excellent\", \"excuse\", \"executive\", \"executive\", \"exist\", \"exle\", \"exle\", \"experience\", \"extend\", \"extreme\", \"face\", \"face\", \"face\", \"face\", \"facebook\", \"facebook\", \"fact\", \"fact\", \"fact\", \"fail\", \"failure\", \"fair\", \"fairtax\", \"faith\", \"fake\", \"fall\", \"fall\", \"fall\", \"family\", \"family\", \"family\", \"family\", \"family\", \"family\", \"far\", \"far\", \"fast\", \"father\", \"fbi\", \"fbi\", \"fear\", \"feel\", \"feel\", \"field\", \"fight\", \"fight\", \"fight\", \"fight\", \"fill\", \"final\", \"financial\", \"find\", \"find\", \"find\", \"find\", \"fire\", \"fire\", \"fire\", \"fix\", \"fix\", \"flight\", \"floor\", \"florida\", \"florida\", \"florida\", \"fly\", \"folk\", \"follow\", \"follow\", \"follow\", \"follow\", \"food\", \"force\", \"force\", \"force\", \"force\", \"force\", \"foreign\", \"foreign\", \"forget\", \"form\", \"forward\", \"fossil\", \"foundation\", \"fox\", \"free\", \"freedom\", \"freedom\", \"friend\", \"friend\", \"friend\", \"friend\", \"friend\", \"friend\", \"friend\", \"friend\", \"friend\", \"fuel\", \"fun\", \"future\", \"future\", \"future\", \"future\", \"future\", \"fy17ndaa\", \"fy18ndaa\", \"gain\", \"game\", \"game\", \"game\", \"garland\", \"generation\", \"getcover\", \"girl\", \"girl\", \"glad\", \"glad\", \"glad\", \"glad\", \"glad\", \"global\", \"goal\", \"god\", \"god\", \"god\", \"god\", \"good\", \"good\", \"good\", \"good\", \"good\", \"good\", \"good\", \"good\", \"good\", \"good\", \"good\", \"good\", \"good\", \"gopdebate\", \"gov\", \"government\", \"government\", \"governor\", \"govt\", \"grand\", \"grassroots\", \"grateful\", \"great\", \"great\", \"great\", \"great\", \"great\", \"great\", \"great\", \"great\", \"great\", \"great\", \"great\", \"greed\", \"green\", \"group\", \"grow\", \"grow\", \"gt\", \"gt\", \"guarantee\", \"guest\", \"gun\", \"gun\", \"guy\", \"guy\", \"half\", \"half\", \"hall\", \"hall\", \"hand\", \"hand\", \"happen\", \"happen\", \"happen\", \"happen\", \"happy\", \"hard\", \"hard\", \"harvey\", \"hate\", \"hate\", \"head\", \"head\", \"head\", \"head\", \"headline\", \"health\", \"healthcare\", \"healthcare\", \"healthy\", \"hear\", \"hear\", \"hearing\", \"help\", \"help\", \"help\", \"help\", \"help\", \"help\", \"help\", \"help\", \"help\", \"hero\", \"high\", \"high\", \"hillary\", \"hire\", \"historic\", \"history\", \"history\", \"history\", \"history\", \"history\", \"hold\", \"hold\", \"hold\", \"holiday\", \"honor\", \"honor\", \"honor\", \"honor\", \"honor\", \"honor\", \"hospital\", \"host\", \"host\", \"host\", \"hot\", \"hour\", \"hour\", \"hour\", \"house\", \"house\", \"housing\", \"hrc\", \"huckabee\", \"huge\", \"huge\", \"huge\", \"human\", \"hunt\", \"hurricane\", \"hurt\", \"iacaucus\", \"ice\", \"idea\", \"idea\", \"ignore\", \"imagine\", \"immediately\", \"immigrant\", \"immigration\", \"immigration\", \"imp't\", \"impact\", \"impact\", \"impact\", \"impact\", \"impact\", \"importance\", \"important\", \"important\", \"improve\", \"improve\", \"improve\", \"imwithhuck\", \"inaugural\", \"include\", \"include\", \"income\", \"income\", \"incredible\", \"industry\", \"inequality\", \"info\", \"innovation\", \"innovation\", \"instead\", \"instead\", \"insurance\", \"intelligence\", \"interest\", \"international\", \"interview\", \"inthebronx\", \"introduce\", \"invest\", \"investigate\", \"investment\", \"investment\", \"iran\", \"isis\", \"isis\", \"isis\", \"islamic\", \"island\", \"island\", \"israel\", \"israel\", \"israel\", \"issue\", \"issue\", \"issue\", \"issue\", \"issue\", \"issue\", \"jame\", \"january\", \"jerusalem\", \"job\", \"job\", \"job\", \"john\", \"john\", \"john\", \"join\", \"join\", \"join\", \"judge\", \"justice\", \"justice\", \"justice\", \"justice\", \"kaine\", \"key\", \"key\", \"kid\", \"kill\", \"kill\", \"kill\", \"kill\", \"kim\", \"kind\", \"king\", \"know\", \"know\", \"know\", \"know\", \"know\", \"know\", \"korea\", \"la\", \"labor\", \"lady\", \"late\", \"later\", \"law\", \"law\", \"law\", \"law\", \"law\", \"lead\", \"lead\", \"leader\", \"leader\", \"leader\", \"leader\", \"leadership\", \"leadership\", \"leadership\", \"leadontrade\", \"learn\", \"learn\", \"learn\", \"learn\", \"leave\", \"leave\", \"leave\", \"leave\", \"leave\", \"leave\", \"leave\", \"legislation\", \"lesson\", \"let\", \"let\", \"let\", \"let\", \"let\", \"let\", \"let\", \"let\", \"let\", \"letter\", \"lgbt\", \"liberal\", \"lie\", \"life\", \"lifetime\", \"like\", \"like\", \"like\", \"like\", \"like\", \"like\", \"like\", \"like\", \"like\", \"like\", \"like\", \"like\", \"line\", \"line\", \"list\", \"listen\", \"listen\", \"listen\", \"little\", \"live\", \"local\", \"look\", \"lose\", \"lose\", \"lose\", \"lose\", \"lose\", \"lose\", \"lose\", \"lot\", \"lot\", \"lot\", \"lot\", \"love\", \"love\", \"love\", \"love\", \"love\", \"low\", \"majority\", \"man\", \"market\", \"marriage\", \"massive\", \"matter\", \"matter\", \"matter\", \"matter\", \"mayor\", \"mayoral\", \"mccain\", \"mccain\", \"medal\", \"medicaid\", \"medicaid\", \"medical\", \"medicare\", \"medium\", \"medium\", \"medium\", \"meet\", \"meet\", \"meet\", \"meet\", \"meet\", \"meeting\", \"meeting\", \"meeting\", \"melania\", \"memorial\", \"message\", \"message\", \"middle\", \"mike\", \"mike\", \"military\", \"military\", \"military\", \"minimum\", \"minute\", \"mis\", \"miss\", \"mission\", \"mistake\", \"model\", \"moderator\", \"moment\", \"momentum\", \"month\", \"month\", \"moral\", \"morning\", \"morning\", \"morning\", \"morning\", \"morning\", \"movement\", \"mr\", \"nation\", \"nation\", \"nation\", \"nation\", \"nation\", \"nation\", \"nation\", \"national\", \"national\", \"national\", \"national\", \"national\", \"nato\", \"navy\", \"ne\", \"ne\", \"ne\", \"ne\", \"ne\", \"ne\", \"ne\", \"ne\", \"ne\", \"ne\", \"near\", \"nearly\", \"neighbor\", \"new\", \"new\", \"new\", \"new\", \"new\", \"news\", \"nice\", \"night\", \"night\", \"night\", \"night\", \"night\", \"night\", \"nominate\", \"nomination\", \"nominee\", \"north\", \"november\", \"nuclear\", \"number\", \"ny\", \"nypd\", \"obama\", \"obama\", \"obama\", \"obama\", \"obama\", \"obama\", \"obama\", \"obama\", \"obama\", \"obamacare\", \"obamacare\", \"obamacare\", \"obstruction\", \"offer\", \"office\", \"office\", \"office\", \"office\", \"officer\", \"officer\", \"official\", \"official\", \"ohio\", \"onstatenisland\", \"op\", \"op\", \"open\", \"open\", \"open\", \"open\", \"opportunity\", \"opportunity\", \"opportunity\", \"opportunity\", \"option\", \"order\", \"order\", \"order\", \"organization\", \"organize\", \"orlando\", \"outrageous\", \"outstanding\", \"overtime\", \"owe\", \"p.m.\", \"pa\", \"parent\", \"parenthood\", \"parisagreement\", \"park\", \"partisan\", \"partner\", \"partnership\", \"party\", \"pass\", \"pass\", \"pass\", \"paul\", \"pay\", \"pay\", \"pay\", \"pence\", \"pence\", \"penny\", \"people\", \"people\", \"people\", \"people\", \"people\", \"people\", \"people\", \"people\", \"people\", \"people\", \"people\", \"people\", \"percent\", \"perfect\", \"period\", \"person\", \"person\", \"person\", \"pharmaceutical\", \"phoenix\", \"piece\", \"pipeline\", \"place\", \"place\", \"place\", \"place\", \"plan\", \"plan\", \"plan\", \"plan\", \"plan\", \"plan\", \"planet\", \"play\", \"play\", \"play\", \"pledge\", \"pm\", \"point\", \"police\", \"police\", \"policy\", \"policy\", \"policy\", \"policy\", \"policy\", \"policy\", \"politic\", \"politic\", \"politic\", \"politic\", \"politic\", \"political\", \"political\", \"political\", \"political\", \"politician\", \"poll\", \"poll\", \"poor\", \"positive\", \"potential\", \"power\", \"power\", \"power\", \"powerful\", \"powerful\", \"ppl\", \"ppl\", \"ppl\", \"prayer\", \"pre\", \"pre\", \"pre\", \"pre\", \"premium\", \"preserve\", \"presidency\", \"president\", \"president\", \"president\", \"president\", \"president\", \"president\", \"president\", \"president\", \"president\", \"president\", \"presidential\", \"presidential\", \"presidential\", \"press\", \"press\", \"prevent\", \"price\", \"primary\", \"prime\", \"priority\", \"priority\", \"private\", \"private\", \"pro\", \"problem\", \"problem\", \"problem\", \"process\", \"profit\", \"progress\", \"progress\", \"promise\", \"proposal\", \"protect\", \"protect\", \"protect\", \"protect\", \"protect\", \"protect\", \"protect\", \"public\", \"public\", \"pull\", \"push\", \"putin\", \"putin\", \"q;a\", \"quality\", \"question\", \"racism\", \"racist\", \"raise\", \"raise\", \"raise\", \"raise\", \"rally\", \"rally\", \"rate\", \"rate\", \"reach\", \"read\", \"read\", \"ready\", \"reagan\", \"reality\", \"record\", \"record\", \"recovery\", \"reduce\", \"reduce\", \"reflect\", \"reform\", \"reform\", \"reform\", \"refuse\", \"refuse\", \"register\", \"regulation\", \"reject\", \"relationship\", \"remain\", \"remain\", \"remark\", \"remarkable\", \"remember\", \"remember\", \"remember\", \"remind\", \"remind\", \"repeal\", \"replace\", \"report\", \"report\", \"report\", \"report\", \"reporter\", \"represent\", \"republican\", \"republican\", \"republican\", \"require\", \"resolve\", \"resource\", \"respect\", \"respond\", \"responsibility\", \"retweet\", \"reveal\", \"review\", \"rich\", \"rig\", \"right\", \"right\", \"right\", \"rip\", \"risk\", \"risk\", \"rncincle\", \"road\", \"role\", \"rt\", \"rule\", \"rule\", \"rule\", \"run\", \"run\", \"run\", \"run\", \"russia\", \"russia\", \"russia\", \"russia\", \"russian\", \"russian\", \"russian\", \"russian\", \"ryan\", \"sad\", \"safe\", \"sailor\", \"sanction\", \"sander\", \"sander\", \"sasc\", \"save\", \"save\", \"save\", \"school\", \"school\", \"school\", \"schumer\", \"scott\", \"scotus\", \"second\", \"secret\", \"secretary\", \"secretary\", \"secretary\", \"sector\", \"secure\", \"security\", \"security\", \"seek\", \"sell\", \"senate\", \"senate\", \"senate\", \"send\", \"send\", \"send\", \"senior\", \"sense\", \"serve\", \"service\", \"service\", \"service\", \"service\", \"service\", \"session\", \"share\", \"share\", \"share\", \"share\", \"share\", \"share\", \"shoot\", \"shoot\", \"short\", \"simple\", \"simple\", \"simply\", \"single\", \"single\", \"skill\", \"slow\", \"small\", \"social\", \"society\", \"solve\", \"soon\", \"soon\", \"sotu\", \"sound\", \"south\", \"south\", \"speak\", \"speak\", \"speak\", \"speak\", \"speaker\", \"special\", \"special\", \"speech\", \"speech\", \"speech\", \"speech\", \"speech\", \"speech\", \"speech\", \"spread\", \"st\", \"stand\", \"stand\", \"stand\", \"stand\", \"stand\", \"stand\", \"stand\", \"stand\", \"stand\", \"stand\", \"standard\", \"state\", \"state\", \"state\", \"state\", \"statement\", \"statement\", \"stay\", \"stay\", \"stop\", \"stop\", \"stop\", \"stop\", \"stop\", \"stop\", \"stop\", \"stop\", \"stop\", \"storm\", \"story\", \"story\", \"straight\", \"street\", \"strength\", \"strengthen\", \"strike\", \"strong\", \"strong\", \"strong\", \"strong\", \"struggle\", \"student\", \"study\", \"submit\", \"successful\", \"summer\", \"summit\", \"sunday\", \"support\", \"support\", \"support\", \"support\", \"support\", \"support\", \"support\", \"support\", \"support\", \"supporter\", \"supporter\", \"supreme\", \"sure\", \"sure\", \"sure\", \"surprise\", \"sw\", \"swear\", \"syria\", \"syrian\", \"system\", \"system\", \"system\", \"tackle\", \"talk\", \"talk\", \"talk\", \"talk\", \"talk\", \"talk\", \"talk\", \"talk\", \"tax\", \"tax\", \"taxpayer\", \"tbt\", \"tbt\", \"teacher\", \"team\", \"team\", \"team\", \"tell\", \"tell\", \"tell\", \"tell\", \"tell\", \"tell\", \"terror\", \"terrorist\", \"terrorist\", \"texas\", \"thank\", \"thank\", \"thank\", \"thank\", \"thank\", \"thank\", \"thank\", \"thing\", \"thing\", \"thing\", \"thing\", \"thing\", \"thing\", \"think\", \"think\", \"think\", \"think\", \"think\", \"think\", \"think\", \"throw\", \"throwbackthursday\", \"ticket\", \"tie\", \"tillerson\", \"time\", \"time\", \"time\", \"time\", \"time\", \"time\", \"time\", \"time\", \"time\", \"time\", \"time\", \"time\", \"time\", \"time\", \"time\", \"time\", \"tobacco\", \"today\", \"today\", \"today\", \"today\", \"today\", \"today\", \"today\", \"today\", \"today\", \"today\", \"today\", \"today\", \"today\", \"today\", \"today\", \"tomorrow\", \"tomorrow\", \"tomorrow\", \"tonight\", \"tonight\", \"tonight\", \"tonight\", \"total\", \"touch\", \"tough\", \"tough\", \"tour\", \"town\", \"tpp\", \"trade\", \"trade\", \"trade\", \"traffic\", \"trail\", \"train\", \"transform\", \"travel\", \"treat\", \"treatment\", \"trip\", \"true\", \"true\", \"true\", \"true\", \"truly\", \"trump\", \"trump\", \"trump\", \"trump\", \"trump\", \"trump\", \"trump\", \"trump\", \"trump\", \"trust\", \"trust\", \"truth\", \"truth\", \"try\", \"try\", \"try\", \"try\", \"tucson\", \"tuition\", \"tune\", \"tune\", \"tweet\", \"twitter\", \"u.s\", \"u.s\", \"u.s\", \"u.s\", \"u.s\", \"u.s\", \"u.s\", \"u.s\", \"u.s\", \"ukraine\", \"un\", \"understand\", \"unemployment\", \"uninsured\", \"union\", \"unite\", \"united\", \"university\", \"urge\", \"usa\", \"usafricabizforum\", \"use\", \"uss\", \"va\", \"vet\", \"veteran\", \"veteran\", \"victory\", \"victory\", \"victory\", \"view\", \"view\", \"violence\", \"vision\", \"visit\", \"visit\", \"visit\", \"visit\", \"vital\", \"voice\", \"voice\", \"volunteer\", \"vote\", \"vote\", \"vote\", \"vote\", \"vote\", \"vote\", \"voter\", \"vp\", \"vpdebate\", \"wage\", \"wage\", \"wall\", \"want\", \"want\", \"want\", \"want\", \"want\", \"want\", \"want\", \"want\", \"want\", \"war\", \"war\", \"warn\", \"washington\", \"washington\", \"washington\", \"watch\", \"watch\", \"watch\", \"watch\", \"way\", \"way\", \"way\", \"way\", \"way\", \"way\", \"way\", \"way\", \"way\", \"way\", \"wealth\", \"wealthy\", \"weapon\", \"weekend\", \"weekly\", \"welcome\", \"welcome\", \"welcome\", \"welcome\", \"welcome\", \"wh\", \"white\", \"wife\", \"win\", \"win\", \"win\", \"win\", \"win\", \"win\", \"win\", \"win\", \"wing\", \"winner\", \"wisconsin\", \"wish\", \"woman\", \"wonder\", \"wonderful\", \"work\", \"work\", \"work\", \"work\", \"work\", \"work\", \"work\", \"work\", \"work\", \"worker\", \"worker\", \"world\", \"world\", \"world\", \"world\", \"world\", \"world\", \"world\", \"worry\", \"worth\", \"wrong\", \"wrong\", \"year\", \"year\", \"year\", \"year\", \"year\", \"year\", \"year\", \"year\", \"year\", \"year\", \"year\", \"year\", \"year\", \"year\", \"yes\", \"york\", \"yorker\", \"young\", \"young\"]}, \"R\": 30, \"lambda.step\": 0.01, \"plot.opts\": {\"xlab\": \"PC1\", \"ylab\": \"PC2\"}, \"topic.order\": [16, 3, 18, 14, 1, 17, 11, 2, 7, 9, 12, 10, 4, 20, 15, 19, 5, 13, 6, 8]};\n",
       "\n",
       "function LDAvis_load_lib(url, callback){\n",
       "  var s = document.createElement('script');\n",
       "  s.src = url;\n",
       "  s.async = true;\n",
       "  s.onreadystatechange = s.onload = callback;\n",
       "  s.onerror = function(){console.warn(\"failed to load library \" + url);};\n",
       "  document.getElementsByTagName(\"head\")[0].appendChild(s);\n",
       "}\n",
       "\n",
       "if(typeof(LDAvis) !== \"undefined\"){\n",
       "   // already loaded: just create the visualization\n",
       "   !function(LDAvis){\n",
       "       new LDAvis(\"#\" + \"ldavis_el2943619388774475288128831552\", ldavis_el2943619388774475288128831552_data);\n",
       "   }(LDAvis);\n",
       "}else if(typeof define === \"function\" && define.amd){\n",
       "   // require.js is available: use it to load d3/LDAvis\n",
       "   require.config({paths: {d3: \"https://cdnjs.cloudflare.com/ajax/libs/d3/3.5.5/d3.min\"}});\n",
       "   require([\"d3\"], function(d3){\n",
       "      window.d3 = d3;\n",
       "      LDAvis_load_lib(\"https://cdn.rawgit.com/bmabey/pyLDAvis/files/ldavis.v1.0.0.js\", function(){\n",
       "        new LDAvis(\"#\" + \"ldavis_el2943619388774475288128831552\", ldavis_el2943619388774475288128831552_data);\n",
       "      });\n",
       "    });\n",
       "}else{\n",
       "    // require.js not available: dynamically load d3 & LDAvis\n",
       "    LDAvis_load_lib(\"https://cdnjs.cloudflare.com/ajax/libs/d3/3.5.5/d3.min.js\", function(){\n",
       "         LDAvis_load_lib(\"https://cdn.rawgit.com/bmabey/pyLDAvis/files/ldavis.v1.0.0.js\", function(){\n",
       "                 new LDAvis(\"#\" + \"ldavis_el2943619388774475288128831552\", ldavis_el2943619388774475288128831552_data);\n",
       "            })\n",
       "         });\n",
       "}\n",
       "</script>"
      ],
      "text/plain": [
       "<IPython.core.display.HTML object>"
      ]
     },
     "execution_count": 25,
     "metadata": {},
     "output_type": "execute_result"
    }
   ],
   "source": [
    "n_lda_topics = 20\n",
    "dictionary = corpora.Dictionary(texts)\n",
    "corpus = [dictionary.doc2bow(text) for text in texts]\n",
    "ldamodel = gensim.models.ldamodel.LdaModel(corpus, num_topics=n_lda_topics, id2word = dictionary, passes=20)\n",
    "\n",
    "vis_data = gensimvis.prepare(ldamodel, corpus, dictionary)\n",
    "pyLDAvis.display(vis_data)"
   ]
  },
  {
   "cell_type": "code",
   "execution_count": 26,
   "metadata": {},
   "outputs": [],
   "source": [
    "#Test to make sure we can see the topic probability distribution for our train documents\n",
    "train_bow = [dictionary.doc2bow(texts[text]) for text in range(len(texts))]\n",
    "train_topics = [ldamodel.get_document_topics(train_bow[text]) for text in range(len(texts))]"
   ]
  },
  {
   "cell_type": "code",
   "execution_count": 27,
   "metadata": {
    "collapsed": true
   },
   "outputs": [],
   "source": [
    "#Can we use these topic clusters to improve our original model? Get topic probabilities for test tweets\n",
    "test_texts = []\n",
    "for tweet in X_test:\n",
    "    test_texts.append(list(bag_of_words_gen(tweet)))"
   ]
  },
  {
   "cell_type": "code",
   "execution_count": 28,
   "metadata": {},
   "outputs": [],
   "source": [
    "doc_bow = [dictionary.doc2bow(test_texts[text]) for text in range(len(test_texts))]"
   ]
  },
  {
   "cell_type": "code",
   "execution_count": 29,
   "metadata": {},
   "outputs": [],
   "source": [
    "topic_preds = [ldamodel[doc_bow[text]] for text in range(len(test_texts))]"
   ]
  },
  {
   "cell_type": "code",
   "execution_count": 30,
   "metadata": {},
   "outputs": [],
   "source": [
    "#Create dataframes for the train and test topic distributions. Create scaffold of zeros for train and test dataframes (faster than generating on the fly!)\n",
    "topic_train_df = pd.DataFrame(0, index = list(range(len(train_topics))), columns = list(range(n_lda_topics)))\n",
    "topic_test_df = pd.DataFrame(0, index = list(range(len(topic_preds))), columns = list(range(n_lda_topics)))"
   ]
  },
  {
   "cell_type": "code",
   "execution_count": 31,
   "metadata": {
    "collapsed": true
   },
   "outputs": [],
   "source": [
    "#For each tweet, go through and check all topics represented in the distribution output from LDA. If non-zero, add it to the appropriate spot in the DF\n",
    "\n",
    "for i, tweet in enumerate(train_topics): #for each tweet in the training set\n",
    "    for topic_id, topic_score in tweet: #for each topic we got in the LDA output for each tweet\n",
    "        topic_train_df.loc[i, topic_id] = topic_score"
   ]
  },
  {
   "cell_type": "code",
   "execution_count": 32,
   "metadata": {
    "collapsed": true
   },
   "outputs": [],
   "source": [
    "for i, tweet in enumerate(topic_preds): #for each tweet in the training set\n",
    "    for topic_id, topic_score in tweet: #for each topic we got in the LDA output for each tweet\n",
    "        topic_test_df.loc[i, topic_id] = topic_score"
   ]
  },
  {
   "cell_type": "code",
   "execution_count": 34,
   "metadata": {},
   "outputs": [],
   "source": [
    "#Add the LDA topic distributions to the TF-IDF centroid dataset we have been working with, and then test using the GBM model we have been working with\n",
    "X_train_new_lda = pd.concat([X_train_new, pd.DataFrame(topic_train_df)], axis = 1)\n",
    "X_test_new_lda = pd.concat([X_test_new, pd.DataFrame(topic_test_df)], axis = 1)"
   ]
  },
  {
   "cell_type": "code",
   "execution_count": null,
   "metadata": {},
   "outputs": [],
   "source": [
    "#Try a GBM classifier using the TF-IDF CENTROID approach above, with added features from LDA\n",
    "\n",
    "clf = ensemble.GradientBoostingClassifier()\n",
    "train = clf.fit(X_train_new_lda, y_train)\n",
    "y_pred = clf.predict(X_test_new_lda)\n",
    "\n",
    "print('Training set score:', clf.score(X_train_new_lda, y_train))\n",
    "print('\\nTest set score:', clf.score(X_test_new_lda, y_test))"
   ]
  },
  {
   "cell_type": "markdown",
   "metadata": {},
   "source": [
    "Further analysis could include studying the effect of number of topics on model perplexity, and selecting the number that corresponds to a minimum for model perplexity."
   ]
  },
  {
   "cell_type": "markdown",
   "metadata": {},
   "source": [
    "# Try other ML Algorithms and fine-tune best candidates"
   ]
  },
  {
   "cell_type": "code",
   "execution_count": 381,
   "metadata": {},
   "outputs": [
    {
     "name": "stdout",
     "output_type": "stream",
     "text": [
      "Training set score: 0.102476190476\n",
      "\n",
      "Test set score: 0.0925714285714\n"
     ]
    }
   ],
   "source": [
    "#Try a SVC classifier using the TF-IDF CENTROID approach above, with added features from LDA\n",
    "\n",
    "svc = SVC()\n",
    "train = svc.fit(X_train_new_lda, y_train)\n",
    "svc_y_pred = svc.predict(X_test_new_lda)\n",
    "\n",
    "print('Training set score:', svc.score(X_train_new_lda, y_train))\n",
    "print('\\nTest set score:', svc.score(X_test_new_lda, y_test))"
   ]
  },
  {
   "cell_type": "code",
   "execution_count": 393,
   "metadata": {},
   "outputs": [
    {
     "name": "stdout",
     "output_type": "stream",
     "text": [
      "Training set score: 0.256825396825\n",
      "\n",
      "Test set score: 0.189142857143\n"
     ]
    }
   ],
   "source": [
    "#Try a KNN classifier using the TF-IDF CENTROID approach above, with added features from LDA\n",
    "\n",
    "knn = KNeighborsClassifier(n_neighbors=5, n_jobs = -1)\n",
    "train = knn.fit(X_train_new_lda, y_train)\n",
    "knn_y_pred = logit.predict(X_test_new_lda)\n",
    "\n",
    "print('Training set score:', knn.score(X_train_new_lda, y_train))\n",
    "print('\\nTest set score:', knn.score(X_test_new_lda, y_test))"
   ]
  },
  {
   "cell_type": "code",
   "execution_count": 421,
   "metadata": {},
   "outputs": [
    {
     "name": "stdout",
     "output_type": "stream",
     "text": [
      "Training set score: 0.998412698413\n",
      "\n",
      "Test set score: 0.734857142857\n"
     ]
    }
   ],
   "source": [
    "#Try a Multi-Layer Perceptron classifier using the TF-IDF CENTROID approach above, with added features from LDA\n",
    "\n",
    "mlp = neural_network.MLPClassifier()\n",
    "train = mlp.fit(X_train_new_lda, y_train)\n",
    "mlp_y_pred = mlp.predict(X_test_new_lda)\n",
    "\n",
    "print('Training set score:', mlp.score(X_train_new_lda, y_train))\n",
    "print('\\nTest set score:', mlp.score(X_test_new_lda, y_test))"
   ]
  },
  {
   "cell_type": "code",
   "execution_count": 36,
   "metadata": {},
   "outputs": [
    {
     "name": "stdout",
     "output_type": "stream",
     "text": [
      "Training set score: 0.864380952381\n",
      "\n",
      "Test set score: 0.746666666667\n"
     ]
    }
   ],
   "source": [
    "#Try a logistic classifier using the TF-IDF CENTROID approach above, with added features from LDA\n",
    "\n",
    "logit = LogisticRegression()\n",
    "train = logit.fit(X_train_new_lda, y_train)\n",
    "logit_y_pred = logit.predict(X_test_new_lda)\n",
    "\n",
    "print('Training set score:', logit.score(X_train_new_lda, y_train))\n",
    "print('\\nTest set score:', logit.score(X_test_new_lda, y_test))"
   ]
  },
  {
   "cell_type": "code",
   "execution_count": 37,
   "metadata": {},
   "outputs": [
    {
     "data": {
      "text/plain": [
       "<matplotlib.axes._subplots.AxesSubplot at 0x1c37503bef0>"
      ]
     },
     "execution_count": 37,
     "metadata": {},
     "output_type": "execute_result"
    },
    {
     "data": {
      "image/png": "[encoded data removed]",
      "text/plain": [
       "<matplotlib.figure.Figure at 0x1c371deec18>"
      ]
     },
     "metadata": {},
     "output_type": "display_data"
    }
   ],
   "source": [
    "conf = confusion_matrix(y_test, logit_y_pred, labels = handles)\n",
    "\n",
    "df_cm = pd.DataFrame(conf, index = [i for i in handles],\n",
    "                  columns = [i for i in handles])\n",
    "plt.figure(figsize = (15,7))\n",
    "plt.title('Confusion Matrix for TF-IDF Centroid Approach + LDA Topics')\n",
    "sns.heatmap(df_cm, annot=True, cmap=\"Blues\", fmt = 'd')"
   ]
  },
  {
   "cell_type": "markdown",
   "metadata": {},
   "source": [
    "Logistic Regression and Neural Network (MLP) have the best performance - let's fine tune both and see if we can get any incremental performance."
   ]
  },
  {
   "cell_type": "markdown",
   "metadata": {},
   "source": [
    "The below code did not finish executing after ~36 hours, so I had to cancel. This code should not be executed, but can serve as a reference for future work on this project if more CPU power was available."
   ]
  },
  {
   "cell_type": "code",
   "execution_count": null,
   "metadata": {},
   "outputs": [],
   "source": [
    "#Optimize the Logistic model on a few hyperparameter dimensions (keep # of combinations within reason, as model takes ~30 minutes to run for 1 iteration)\n",
    "\n",
    "tuned_parameters = [{'solver': ['newton-cg', 'lbfgs', 'liblinear', 'sag', 'saga'],\n",
    "                     'C': [0.1, 1, 10]}]\n",
    " \n",
    "gscv2 = GridSearchCV(estimator = LogisticRegression(), param_grid = tuned_parameters, cv = 2, n_jobs = -1)\n",
    "gscv2.fit(X_test_new_lda, y_test)\n",
    "gscv2.best_estimator_"
   ]
  },
  {
   "cell_type": "code",
   "execution_count": null,
   "metadata": {
    "collapsed": true
   },
   "outputs": [],
   "source": [
    "gscv2.best_score_"
   ]
  },
  {
   "cell_type": "code",
   "execution_count": null,
   "metadata": {},
   "outputs": [],
   "source": [
    "#Optimize the MLP model on a few hyperparameter dimensions (keep # of combinations within reason, as model takes ~30 minutes to run for 1 iteration)\n",
    "\n",
    "full_x = X_train_new_lda.append(X_test_new_lda)\n",
    "full_y = y_train.append(y_test)\n",
    "\n",
    "tuned_parameters = [{'hidden_layer_sizes': [(10,10), (100,1), (100,100)],\n",
    "                     'activation': ['relu', 'logistic', 'tanh'],\n",
    "                     'alpha': [0.00001, 0.0001, 0.001]}]\n",
    " \n",
    "gscv = GridSearchCV(estimator = neural_network.MLPClassifier(), param_grid = tuned_parameters, cv = 2, n_jobs = -1)\n",
    "gscv.fit(full_x, full_y)\n",
    "gscv.best_estimator_"
   ]
  },
  {
   "cell_type": "code",
   "execution_count": null,
   "metadata": {
    "collapsed": true
   },
   "outputs": [],
   "source": [
    "gscv.best_score_"
   ]
  },
  {
   "cell_type": "markdown",
   "metadata": {},
   "source": [
    "# (Appendix) Mean-Shift"
   ]
  },
  {
   "cell_type": "markdown",
   "metadata": {},
   "source": [
    "Mean-shift was not able to produce a number of clusters that could intuitively be used as topics/clusters. The algorithm produced 749 clusters on 5,250 training observations, even with bandwidth set high at 0.99. Hence no further analysis was attempted with this unsupervised clustering technique."
   ]
  },
  {
   "cell_type": "code",
   "execution_count": null,
   "metadata": {
    "collapsed": true
   },
   "outputs": [],
   "source": [
    "#Benefits of mean-shift: Makes no assumptions about the number of clusters, clusters don't have to be the same size, \n",
    "#and can have non-flat geometry (clusters based on m features that cannot be separated by a straight line or plane in the\n",
    "#m -dimensional space)\n",
    "\n",
    "#Try using a 25% training sample to get cluster centers.... using 75% takes too long to run.\n",
    "\n",
    "# Declare and fit the model. Begin with high bandwidth to cut down on number of clusters, hopefully we can make sense of them\n",
    "#this way\n",
    "\n",
    "#bandwidth = estimate_bandwidth(X_norm_tfidf.toarray(), quantile=0.2, n_samples=500)\n",
    "\n",
    "ms_X_train, ms_X_test = train_test_split(tweet_df['Tweets'], test_size = 0.75, random_state = 42)\n",
    "ms_X_train_tfidf_norm = normalize(vectorizer1.fit_transform(ms_X_train))\n",
    "ms_X_test_tfidf_norm = normalize(vectorizer1.transform(ms_X_test))\n",
    "\n",
    "ms = MeanShift(bandwidth=0.99, bin_seeding=True, n_jobs = -1)\n",
    "ms.fit(ms_X_train_tfidf_norm.toarray())\n",
    "\n",
    "# Extract cluster assignments for each data point.\n",
    "labels = ms.labels_\n",
    "ms_preds = ms.predict(ms_X_test_tfidf_norm.toarray())\n",
    "\n",
    "# Coordinates of the cluster centers.\n",
    "cluster_centers = ms.cluster_centers_\n",
    "\n",
    "# Count our clusters.\n",
    "n_clusters_ = len(np.unique(labels))"
   ]
  },
  {
   "cell_type": "code",
   "execution_count": 271,
   "metadata": {},
   "outputs": [
    {
     "name": "stdout",
     "output_type": "stream",
     "text": [
      "Number of estimated clusters: 749\n"
     ]
    }
   ],
   "source": [
    "print(\"Number of estimated clusters: {}\".format(n_clusters_))"
   ]
  }
 ],
 "metadata": {
  "kernelspec": {
   "display_name": "Python 3",
   "language": "python",
   "name": "python3"
  },
  "language_info": {
   "codemirror_mode": {
    "name": "ipython",
    "version": 3
   },
   "file_extension": ".py",
   "mimetype": "text/x-python",
   "name": "python",
   "nbconvert_exporter": "python",
   "pygments_lexer": "ipython3",
   "version": "3.6.2rc2"
  }
 },
 "nbformat": 4,
 "nbformat_minor": 2
}
